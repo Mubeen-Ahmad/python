{
 "cells": [
  {
   "cell_type": "markdown",
   "id": "22f52858",
   "metadata": {},
   "source": [
    "# Decorators\n",
    "\n",
    "## Any callable python object that is used to modify a function or a class\n",
    "\n"
   ]
  },
  {
   "cell_type": "markdown",
   "id": "ca7a25d7",
   "metadata": {},
   "source": [
    "# Lets Understand First \n",
    "* ## Reference\n",
    "* ## Function as Parameter"
   ]
  },
  {
   "cell_type": "markdown",
   "id": "d7ea8603",
   "metadata": {},
   "source": [
    "# Function Refferences"
   ]
  },
  {
   "cell_type": "code",
   "execution_count": 3,
   "id": "aa24f0a0",
   "metadata": {},
   "outputs": [],
   "source": [
    "def func1():\n",
    "    \n",
    "    def func2():\n",
    "        print(\"inside func 2\")\n",
    "    \n",
    "    return func2\n",
    "\n",
    "x = func1()"
   ]
  },
  {
   "cell_type": "markdown",
   "id": "751333cf",
   "metadata": {},
   "source": [
    "## func1 return the reference of func2"
   ]
  },
  {
   "cell_type": "code",
   "execution_count": 4,
   "id": "9c815fdb",
   "metadata": {},
   "outputs": [
    {
     "name": "stdout",
     "output_type": "stream",
     "text": [
      "<function func1.<locals>.func2 at 0x7fc9600529d0>\n",
      "func2\n"
     ]
    }
   ],
   "source": [
    "print(x)\n",
    "print(x.__name__)"
   ]
  },
  {
   "cell_type": "markdown",
   "id": "bd7b6343",
   "metadata": {},
   "source": [
    "## Now Call func1"
   ]
  },
  {
   "cell_type": "code",
   "execution_count": 5,
   "id": "ee3ef271",
   "metadata": {},
   "outputs": [
    {
     "name": "stdout",
     "output_type": "stream",
     "text": [
      "inside func 2\n",
      "None\n"
     ]
    }
   ],
   "source": [
    "print(x())"
   ]
  },
  {
   "cell_type": "markdown",
   "id": "57ef5442",
   "metadata": {},
   "source": [
    "## Function  call as Parameters"
   ]
  },
  {
   "cell_type": "code",
   "execution_count": 6,
   "id": "e3ac84f2",
   "metadata": {},
   "outputs": [],
   "source": [
    "def fun1():\n",
    "    print(\"inside fun1\")\n",
    "\n",
    "def fun2(r):\n",
    "    print(\"inside fun2\")\n",
    "    print(\"calling parameter...\")\n",
    "    r()"
   ]
  },
  {
   "cell_type": "code",
   "execution_count": 9,
   "id": "9273388b",
   "metadata": {},
   "outputs": [
    {
     "name": "stdout",
     "output_type": "stream",
     "text": [
      "inside fun2\n",
      "calling parameter...\n",
      "inside fun1\n"
     ]
    }
   ],
   "source": [
    "fun2(fun1)"
   ]
  },
  {
   "cell_type": "markdown",
   "id": "d6c6c1d7",
   "metadata": {},
   "source": [
    "# Decorators Example 1"
   ]
  },
  {
   "cell_type": "code",
   "execution_count": 41,
   "id": "31d8f002",
   "metadata": {},
   "outputs": [],
   "source": [
    "def upper(func):\n",
    "    \n",
    "    def inner():\n",
    "        str_ = func()\n",
    "        return str_.upper()\n",
    "    \n",
    "    return inner"
   ]
  },
  {
   "cell_type": "code",
   "execution_count": 42,
   "id": "8dd7d6e6",
   "metadata": {},
   "outputs": [],
   "source": [
    "def name():\n",
    "    return \"mubeen\""
   ]
  },
  {
   "cell_type": "code",
   "execution_count": 43,
   "id": "8bbba339",
   "metadata": {},
   "outputs": [
    {
     "name": "stdout",
     "output_type": "stream",
     "text": [
      "MUBEEN\n"
     ]
    }
   ],
   "source": [
    "d = upper(name)\n",
    "print(d())"
   ]
  },
  {
   "cell_type": "markdown",
   "id": "8b6c9dca",
   "metadata": {},
   "source": [
    "* ## call upper(name) function\n",
    "* ## return inner refference to upper inside in d\n",
    "* ## call d() means (call the inner function)\n",
    "* ## str_ = func() --> call the name function\n",
    "    * ## return mubeen and store to func() and func store to str_\n",
    "    * ## Now return str_.upper() to inner and inner return to upper\n",
    "    * ## Now upper return the MUBEEN and store to d and d are print"
   ]
  },
  {
   "cell_type": "markdown",
   "id": "e5b926ec",
   "metadata": {},
   "source": [
    " ## Here d = upper(name)\n",
    " ## This is not the way to use the decorators\n",
    " ## In python we are used @function_name\n",
    " \n",
    " # upper(name) to  @upper"
   ]
  },
  {
   "cell_type": "markdown",
   "id": "82add193",
   "metadata": {},
   "source": [
    "# Decorator Example 2"
   ]
  },
  {
   "cell_type": "code",
   "execution_count": 59,
   "id": "7b3ddc87",
   "metadata": {},
   "outputs": [],
   "source": [
    "def upper(func):\n",
    "    \n",
    "    def inner():\n",
    "        str_ = func()\n",
    "        return str_.upper()\n",
    "    \n",
    "    return inner"
   ]
  },
  {
   "cell_type": "code",
   "execution_count": 48,
   "id": "30828caa",
   "metadata": {},
   "outputs": [],
   "source": [
    "def name():\n",
    "    return \"mubeen\""
   ]
  },
  {
   "cell_type": "code",
   "execution_count": 60,
   "id": "c582717c",
   "metadata": {},
   "outputs": [
    {
     "name": "stdout",
     "output_type": "stream",
     "text": [
      "mubeen\n"
     ]
    }
   ],
   "source": [
    "print(name())"
   ]
  },
  {
   "cell_type": "markdown",
   "id": "a7965b34",
   "metadata": {},
   "source": [
    "# Use @upper decorator"
   ]
  },
  {
   "cell_type": "code",
   "execution_count": 61,
   "id": "d3117185",
   "metadata": {},
   "outputs": [],
   "source": [
    "def upper(func):\n",
    "    \n",
    "    def inner():\n",
    "        str_ = func()\n",
    "        return str_.upper()\n",
    "    \n",
    "    return inner"
   ]
  },
  {
   "cell_type": "code",
   "execution_count": 62,
   "id": "39da50c9",
   "metadata": {},
   "outputs": [],
   "source": [
    "@upper\n",
    "def name():\n",
    "    return \"mubeen\""
   ]
  },
  {
   "cell_type": "code",
   "execution_count": 63,
   "id": "fc8388d0",
   "metadata": {},
   "outputs": [
    {
     "name": "stdout",
     "output_type": "stream",
     "text": [
      "MUBEEN\n"
     ]
    }
   ],
   "source": [
    "print(name())"
   ]
  },
  {
   "cell_type": "markdown",
   "id": "0d4a4b10",
   "metadata": {},
   "source": [
    "# Example 3"
   ]
  },
  {
   "cell_type": "code",
   "execution_count": 64,
   "id": "40404bd6",
   "metadata": {},
   "outputs": [],
   "source": [
    "def divide(a,b):\n",
    "    return a/b"
   ]
  },
  {
   "cell_type": "code",
   "execution_count": 66,
   "id": "44b17635",
   "metadata": {},
   "outputs": [
    {
     "name": "stdout",
     "output_type": "stream",
     "text": [
      "2.5\n"
     ]
    }
   ],
   "source": [
    "print(divide(10,4))"
   ]
  },
  {
   "cell_type": "code",
   "execution_count": 67,
   "id": "94bfeb07",
   "metadata": {},
   "outputs": [
    {
     "ename": "ZeroDivisionError",
     "evalue": "division by zero",
     "output_type": "error",
     "traceback": [
      "\u001b[0;31m---------------------------------------------------------------------------\u001b[0m",
      "\u001b[0;31mZeroDivisionError\u001b[0m                         Traceback (most recent call last)",
      "Input \u001b[0;32mIn [67]\u001b[0m, in \u001b[0;36m<cell line: 1>\u001b[0;34m()\u001b[0m\n\u001b[0;32m----> 1\u001b[0m \u001b[38;5;28mprint\u001b[39m(\u001b[43mdivide\u001b[49m\u001b[43m(\u001b[49m\u001b[38;5;241;43m10\u001b[39;49m\u001b[43m,\u001b[49m\u001b[38;5;241;43m0\u001b[39;49m\u001b[43m)\u001b[49m)\n",
      "Input \u001b[0;32mIn [64]\u001b[0m, in \u001b[0;36mdivide\u001b[0;34m(a, b)\u001b[0m\n\u001b[1;32m      1\u001b[0m \u001b[38;5;28;01mdef\u001b[39;00m \u001b[38;5;21mdivide\u001b[39m(a,b):\n\u001b[0;32m----> 2\u001b[0m     \u001b[38;5;28;01mreturn\u001b[39;00m \u001b[43ma\u001b[49m\u001b[38;5;241;43m/\u001b[39;49m\u001b[43mb\u001b[49m\n",
      "\u001b[0;31mZeroDivisionError\u001b[0m: division by zero"
     ]
    }
   ],
   "source": [
    "print(divide(10,0))"
   ]
  },
  {
   "cell_type": "markdown",
   "id": "8aad884b",
   "metadata": {},
   "source": [
    "# Raise Error with decorator"
   ]
  },
  {
   "cell_type": "code",
   "execution_count": 69,
   "id": "f63c1389",
   "metadata": {},
   "outputs": [],
   "source": [
    "def div_dec(func):\n",
    "    \n",
    "    def inner(a,b):\n",
    "        \n",
    "        if (a == 0) or (b == 0):\n",
    "            \n",
    "            return \"Divide Not Possible\"\n",
    "        \n",
    "        return func(a,b)\n",
    "    \n",
    "    return inner\n",
    "\n",
    "            "
   ]
  },
  {
   "cell_type": "code",
   "execution_count": 70,
   "id": "9e74a3b8",
   "metadata": {},
   "outputs": [],
   "source": [
    "def divide(a,b):\n",
    "    return a/b"
   ]
  },
  {
   "cell_type": "markdown",
   "id": "48d50c0a",
   "metadata": {},
   "source": [
    "# Without using @ Decorator"
   ]
  },
  {
   "cell_type": "code",
   "execution_count": 78,
   "id": "890106d4",
   "metadata": {
    "scrolled": true
   },
   "outputs": [
    {
     "name": "stdout",
     "output_type": "stream",
     "text": [
      "Divide Not Possible\n"
     ]
    }
   ],
   "source": [
    "d = div_dec(divide)\n",
    "print(d(2,0))"
   ]
  },
  {
   "cell_type": "markdown",
   "id": "fec692d8",
   "metadata": {},
   "source": [
    "# With @decorator"
   ]
  },
  {
   "cell_type": "code",
   "execution_count": 83,
   "id": "f535b734",
   "metadata": {},
   "outputs": [
    {
     "name": "stdout",
     "output_type": "stream",
     "text": [
      "Divide Not Possible\n"
     ]
    }
   ],
   "source": [
    "@div_dec\n",
    "def divide(a,b):\n",
    "    return a/b\n",
    "\n",
    "print(divide(2,0))"
   ]
  },
  {
   "cell_type": "markdown",
   "id": "cc118404",
   "metadata": {},
   "source": [
    "# Three Important thing need for decorators\n",
    "\n",
    "* ## 1 Need to take a function as parameter\n",
    "* ## 2 Add Functionality to the function (inner function)\n",
    "* ## 3 Function need to return another function (reference function)"
   ]
  },
  {
   "cell_type": "code",
   "execution_count": 89,
   "id": "dcfab3ed",
   "metadata": {},
   "outputs": [],
   "source": [
    "def outer (func):\n",
    "    # Need to take a function as parameter (func)\n",
    "    \n",
    "    def inner():\n",
    "        \n",
    "        # ---------------------------------\n",
    "        # ADD Functionality to the function\n",
    "        str1 = func()\n",
    "        return str1.upper()\n",
    "        # ----------------------------------\n",
    "    \n",
    "    # ---------------------------\n",
    "    # Function need to return another function\n",
    "    return inner\n",
    "    #----------------------------\n",
    "    \n",
    "\n",
    "@outer\n",
    "def st():\n",
    "    return \"Mubeen\""
   ]
  },
  {
   "cell_type": "code",
   "execution_count": 87,
   "id": "9d45048f",
   "metadata": {},
   "outputs": [
    {
     "name": "stdout",
     "output_type": "stream",
     "text": [
      "MUBEEN\n"
     ]
    }
   ],
   "source": [
    "print(st())"
   ]
  },
  {
   "cell_type": "markdown",
   "id": "1ee397e5",
   "metadata": {},
   "source": [
    "# Note it is importand to same name of decorators and changeing name \n",
    "## e.g @outer and outer function"
   ]
  },
  {
   "cell_type": "markdown",
   "id": "4091fe7f",
   "metadata": {},
   "source": [
    "# Calling refference Function inside decorator"
   ]
  },
  {
   "cell_type": "code",
   "execution_count": 92,
   "id": "a4437aa0",
   "metadata": {},
   "outputs": [
    {
     "name": "stdout",
     "output_type": "stream",
     "text": [
      "ANON\n"
     ]
    }
   ],
   "source": [
    "def outer (func):    \n",
    "    def inner():\n",
    "        str1 = func()\n",
    "        return str1.upper()\n",
    "    #------------------\n",
    "    # call here function\n",
    "    return inner()\n",
    "    #------------------\n",
    "    \n",
    "\n",
    "@outer\n",
    "def st():\n",
    "    return \"anon\"\n",
    "\n",
    "# now here we don't need to call function here\n",
    "#print(st())\n",
    "\n",
    "print(st)"
   ]
  },
  {
   "cell_type": "markdown",
   "id": "11e89587",
   "metadata": {},
   "source": [
    "# Multiple Decorators"
   ]
  },
  {
   "cell_type": "code",
   "execution_count": 146,
   "id": "ebbb4b05",
   "metadata": {},
   "outputs": [],
   "source": [
    "def upper(func):\n",
    "    \n",
    "    def inner():\n",
    "        str1 = func()\n",
    "        return str1.upper()\n",
    "    \n",
    "    return inner\n",
    "    \n",
    "def space_replace(func):\n",
    "    \n",
    "    def inner2():\n",
    "        str1 = func()\n",
    "        return str1.replace(\" \",\"_\")\n",
    "    return inner2\n"
   ]
  },
  {
   "cell_type": "markdown",
   "id": "4a52ca80",
   "metadata": {},
   "source": [
    "## Here first call upper decorator than call space_replace decorator"
   ]
  },
  {
   "cell_type": "code",
   "execution_count": 149,
   "id": "34cbe51a",
   "metadata": {},
   "outputs": [
    {
     "name": "stdout",
     "output_type": "stream",
     "text": [
      "HELLO_ANON\n"
     ]
    }
   ],
   "source": [
    "@space_replace\n",
    "@upper\n",
    "\n",
    "def string():\n",
    "    return \"Hello Anon\"\n",
    "\n",
    "print(string())"
   ]
  },
  {
   "cell_type": "markdown",
   "id": "a2ff477f",
   "metadata": {},
   "source": [
    "### Note Avoid Calling Refference function when are used Multiple decorators"
   ]
  },
  {
   "cell_type": "markdown",
   "id": "12953123",
   "metadata": {},
   "source": [
    "# Decorators Parameters"
   ]
  },
  {
   "cell_type": "code",
   "execution_count": 159,
   "id": "6f3e1708",
   "metadata": {},
   "outputs": [
    {
     "name": "stdout",
     "output_type": "stream",
     "text": [
      "Welcome Mubeen\n"
     ]
    }
   ],
   "source": [
    "def outer(expr):\n",
    "     \n",
    "    def upper(func):\n",
    "        \n",
    "        def inner():\n",
    "            return func()+expr\n",
    "        return inner\n",
    "    \n",
    "    return upper\n",
    "\n",
    "@outer(\"Mubeen\")\n",
    "def string():\n",
    "    return \"Welcome \"\n",
    "\n",
    "print(string())"
   ]
  },
  {
   "cell_type": "markdown",
   "id": "487172cc",
   "metadata": {},
   "source": [
    "# Multiple Parameter"
   ]
  },
  {
   "cell_type": "code",
   "execution_count": 170,
   "id": "ea17ea5d",
   "metadata": {},
   "outputs": [
    {
     "name": "stdout",
     "output_type": "stream",
     "text": [
      "Welcome Mubeen Ahmad\n"
     ]
    }
   ],
   "source": [
    "def outer(expr1,expr2):\n",
    "     \n",
    "    def upper(func):\n",
    "        \n",
    "        def inner():\n",
    "            return func() + expr1 + expr2\n",
    "        return inner\n",
    "    \n",
    "    return upper\n",
    "\n",
    "@outer(\"Mubeen\",\" Ahmad\")\n",
    "def string():\n",
    "    return \"Welcome \"\n",
    "\n",
    "print(string())"
   ]
  },
  {
   "cell_type": "markdown",
   "id": "2773bdea",
   "metadata": {},
   "source": [
    "# Using  *Args in Parameter "
   ]
  },
  {
   "cell_type": "code",
   "execution_count": 214,
   "id": "33fcc602",
   "metadata": {},
   "outputs": [
    {
     "name": "stdout",
     "output_type": "stream",
     "text": [
      "Welcome Mubeen\n",
      "Welcome Anon\n",
      "Welcome heXor\n"
     ]
    }
   ],
   "source": [
    "def outer(func):\n",
    "    def inner(*args):\n",
    "        \n",
    "        ar = []\n",
    "        \n",
    "        for i in args:\n",
    "            ar.append(i)\n",
    "        \n",
    "        for i in ar:\n",
    "            print(func()+i)\n",
    "        \n",
    "    return inner\n",
    "\n",
    "@outer\n",
    "def string():\n",
    "    return \"Welcome \"\n",
    "\n",
    "string(\"Mubeen\",\"Anon\",\"heXor\")"
   ]
  },
  {
   "cell_type": "markdown",
   "id": "df384376",
   "metadata": {},
   "source": [
    "# Example 2"
   ]
  },
  {
   "cell_type": "code",
   "execution_count": 227,
   "id": "40df175d",
   "metadata": {},
   "outputs": [],
   "source": [
    "def div_dec(func):\n",
    "    \n",
    "    def inner(*args):\n",
    "        for i in args:\n",
    "            if i == 0:\n",
    "                return \"Divide BY 0 are not Posible\"\n",
    "        return func(*args)\n",
    "    return inner\n",
    "        \n",
    "@div_dec\n",
    "def div1(a,b,c):\n",
    "    return a/b/c\n",
    "\n"
   ]
  },
  {
   "cell_type": "code",
   "execution_count": 226,
   "id": "268a6111",
   "metadata": {},
   "outputs": [
    {
     "name": "stdout",
     "output_type": "stream",
     "text": [
      "0.16666666666666666\n"
     ]
    }
   ],
   "source": [
    "print(div1(1,2,3))"
   ]
  },
  {
   "cell_type": "code",
   "execution_count": 221,
   "id": "cdc4cec4",
   "metadata": {},
   "outputs": [
    {
     "name": "stdout",
     "output_type": "stream",
     "text": [
      "Divide BY 0 are not Posible\n"
     ]
    }
   ],
   "source": [
    "print(div1(1,2,0))"
   ]
  },
  {
   "cell_type": "code",
   "execution_count": 222,
   "id": "32f298f4",
   "metadata": {},
   "outputs": [
    {
     "name": "stdout",
     "output_type": "stream",
     "text": [
      "Divide BY 0 are not Posible\n"
     ]
    }
   ],
   "source": [
    "print(div1(0,2,3))"
   ]
  },
  {
   "cell_type": "code",
   "execution_count": 225,
   "id": "eaa13357",
   "metadata": {},
   "outputs": [
    {
     "name": "stdout",
     "output_type": "stream",
     "text": [
      "2.0\n"
     ]
    }
   ],
   "source": [
    "print(div1(8,2,2))"
   ]
  },
  {
   "cell_type": "code",
   "execution_count": 232,
   "id": "ee809452",
   "metadata": {},
   "outputs": [],
   "source": [
    "@div_dec\n",
    "def div2(a,b,c,d):\n",
    "    return a/b/c/d\n"
   ]
  },
  {
   "cell_type": "code",
   "execution_count": 233,
   "id": "f1f430dc",
   "metadata": {},
   "outputs": [
    {
     "name": "stdout",
     "output_type": "stream",
     "text": [
      "Divide BY 0 are not Posible\n"
     ]
    }
   ],
   "source": [
    "print(div2(1,2,0,2))"
   ]
  },
  {
   "cell_type": "code",
   "execution_count": 234,
   "id": "b324aa10",
   "metadata": {},
   "outputs": [
    {
     "name": "stdout",
     "output_type": "stream",
     "text": [
      "0.016666666666666666\n"
     ]
    }
   ],
   "source": [
    "print(div2(1,2,5,6))"
   ]
  },
  {
   "cell_type": "markdown",
   "id": "f655fe44",
   "metadata": {},
   "source": [
    "# Check Function name after using decorators"
   ]
  },
  {
   "cell_type": "code",
   "execution_count": 5,
   "id": "be9c3887",
   "metadata": {},
   "outputs": [
    {
     "name": "stdout",
     "output_type": "stream",
     "text": [
      "HEX0R\n",
      "inner\n"
     ]
    }
   ],
   "source": [
    "def decorater(func):\n",
    "    def inner():\n",
    "        str_ = func()\n",
    "        return str_.upper()\n",
    "    return inner\n",
    "\n",
    "@decorater\n",
    "def name():\n",
    "    return \"Hex0r\"\n",
    "\n",
    "print(name())\n",
    "print(name.__name__)"
   ]
  },
  {
   "cell_type": "markdown",
   "id": "14383fec",
   "metadata": {},
   "source": [
    "## So Decorators hides some data of original function like name, doc string, parameter list"
   ]
  },
  {
   "cell_type": "markdown",
   "id": "5c03adca",
   "metadata": {},
   "source": [
    "# Use functools.wraps(func) to fix this problem"
   ]
  },
  {
   "cell_type": "code",
   "execution_count": 6,
   "id": "8e378b25",
   "metadata": {},
   "outputs": [],
   "source": [
    "import functools"
   ]
  },
  {
   "cell_type": "code",
   "execution_count": 7,
   "id": "59145f9f",
   "metadata": {},
   "outputs": [
    {
     "name": "stdout",
     "output_type": "stream",
     "text": [
      "HEX0R\n",
      "name\n"
     ]
    }
   ],
   "source": [
    "def decorater(func):\n",
    "    \n",
    "    @functools.wraps(func)\n",
    "    \n",
    "    def inner():\n",
    "        str_ = func()\n",
    "        return str_.upper()\n",
    "    return inner\n",
    "\n",
    "@decorater\n",
    "def name():\n",
    "    return \"Hex0r\"\n",
    "\n",
    "print(name())\n",
    "print(name.__name__)"
   ]
  },
  {
   "cell_type": "markdown",
   "id": "38a790e8",
   "metadata": {},
   "source": [
    "# Used of Decorators in class and methods"
   ]
  },
  {
   "cell_type": "code",
   "execution_count": 2,
   "id": "bc2794aa",
   "metadata": {},
   "outputs": [],
   "source": [
    "def check_name(method):\n",
    "    \n",
    "    def inner(ref):\n",
    "        name = method(ref)\n",
    "        if name != \"Mubeen\":\n",
    "            return f\"Sorry {name} You are not a member\"\n",
    "        \n",
    "        return f\"Welcome {name}\"\n",
    "    \n",
    "    return inner\n",
    "\n",
    "class Student:\n",
    "    \n",
    "    def __init__(self,name):\n",
    "        self.name = name\n",
    "    \n",
    "    @check_name\n",
    "    def show(self):\n",
    "        return self.name\n",
    "        \n",
    "s1 = Student(\"Mubeen\")\n",
    "s2 = Student(\"Anon\")\n"
   ]
  },
  {
   "cell_type": "code",
   "execution_count": 41,
   "id": "c73eab5d",
   "metadata": {},
   "outputs": [
    {
     "data": {
      "text/plain": [
       "'Welcome Mubeen'"
      ]
     },
     "execution_count": 41,
     "metadata": {},
     "output_type": "execute_result"
    }
   ],
   "source": [
    "s1.show()"
   ]
  },
  {
   "cell_type": "code",
   "execution_count": 3,
   "id": "e4915826",
   "metadata": {},
   "outputs": [
    {
     "data": {
      "text/plain": [
       "'Sorry Anon You are not a member'"
      ]
     },
     "execution_count": 3,
     "metadata": {},
     "output_type": "execute_result"
    }
   ],
   "source": [
    "s2.show()"
   ]
  },
  {
   "cell_type": "markdown",
   "id": "2324b6d7",
   "metadata": {},
   "source": [
    "# Try to Call object"
   ]
  },
  {
   "cell_type": "code",
   "execution_count": 44,
   "id": "5d6128b6",
   "metadata": {},
   "outputs": [
    {
     "ename": "TypeError",
     "evalue": "'Student' object is not callable",
     "output_type": "error",
     "traceback": [
      "\u001b[0;31m---------------------------------------------------------------------------\u001b[0m",
      "\u001b[0;31mTypeError\u001b[0m                                 Traceback (most recent call last)",
      "Input \u001b[0;32mIn [44]\u001b[0m, in \u001b[0;36m<cell line: 1>\u001b[0;34m()\u001b[0m\n\u001b[0;32m----> 1\u001b[0m \u001b[43ms1\u001b[49m\u001b[43m(\u001b[49m\u001b[43m)\u001b[49m\n",
      "\u001b[0;31mTypeError\u001b[0m: 'Student' object is not callable"
     ]
    }
   ],
   "source": [
    "s1()"
   ]
  },
  {
   "cell_type": "markdown",
   "id": "dfaf41cf",
   "metadata": {},
   "source": [
    "## Here Object is not callable\n",
    "## fix this error using `__call__ `\n",
    "\n",
    "## The `__call__ ` method enables Python programmers to write classes where the instances behave like functions and can be called like a function. When the instance is called as a function;"
   ]
  },
  {
   "cell_type": "code",
   "execution_count": 47,
   "id": "54bde060",
   "metadata": {},
   "outputs": [],
   "source": [
    "def check_name(method):\n",
    "    \n",
    "    def inner(ref):\n",
    "        name = method(ref)\n",
    "        if name != \"Mubeen\":\n",
    "            return f\"Sorry {name} You are not a member\"\n",
    "        \n",
    "        return f\"Welcome {name}\"\n",
    "    \n",
    "    return inner\n",
    "\n",
    "class Student:\n",
    "    \n",
    "    def __init__(self,name):\n",
    "        self.name = name\n",
    "    \n",
    "    @check_name\n",
    "    def __call__(self):\n",
    "        return self.name\n",
    "        \n",
    "s1 = Student(\"Mubeen\")\n",
    "s2 = Student(\"Anon\")\n"
   ]
  },
  {
   "cell_type": "code",
   "execution_count": 53,
   "id": "26496387",
   "metadata": {},
   "outputs": [
    {
     "data": {
      "text/plain": [
       "'Welcome Mubeen'"
      ]
     },
     "execution_count": 53,
     "metadata": {},
     "output_type": "execute_result"
    }
   ],
   "source": [
    "s1.__call__()"
   ]
  },
  {
   "cell_type": "code",
   "execution_count": 52,
   "id": "4e77be6f",
   "metadata": {},
   "outputs": [
    {
     "data": {
      "text/plain": [
       "'Welcome Mubeen'"
      ]
     },
     "execution_count": 52,
     "metadata": {},
     "output_type": "execute_result"
    }
   ],
   "source": [
    "s1()"
   ]
  },
  {
   "cell_type": "markdown",
   "id": "d4f75a67",
   "metadata": {},
   "source": [
    "# Class Decorators"
   ]
  },
  {
   "cell_type": "code",
   "execution_count": 63,
   "id": "89659626",
   "metadata": {},
   "outputs": [],
   "source": [
    "class Check_Zero:\n",
    "    \n",
    "    def __init__(self,func):\n",
    "        self.func = func\n",
    "        \n",
    "    def __call__(self,*args,**kwargs):\n",
    "        for i in args:\n",
    "            if i == 0:\n",
    "                return \"Divide are not possible\"\n",
    "        return self.func(*args,*kwargs)"
   ]
  },
  {
   "cell_type": "code",
   "execution_count": 64,
   "id": "7d392320",
   "metadata": {},
   "outputs": [],
   "source": [
    "@Check_Zero\n",
    "def div(a,b):\n",
    "    return a/b"
   ]
  },
  {
   "cell_type": "code",
   "execution_count": 65,
   "id": "3f7b7654",
   "metadata": {},
   "outputs": [
    {
     "name": "stdout",
     "output_type": "stream",
     "text": [
      "Divide are not possible\n"
     ]
    }
   ],
   "source": [
    "print(div(10,0))"
   ]
  },
  {
   "cell_type": "code",
   "execution_count": 66,
   "id": "4e3e3585",
   "metadata": {},
   "outputs": [
    {
     "name": "stdout",
     "output_type": "stream",
     "text": [
      "Divide are not possible\n"
     ]
    }
   ],
   "source": [
    "print(div(0,1))"
   ]
  },
  {
   "cell_type": "code",
   "execution_count": 67,
   "id": "054934e7",
   "metadata": {},
   "outputs": [
    {
     "name": "stdout",
     "output_type": "stream",
     "text": [
      "4.0\n"
     ]
    }
   ],
   "source": [
    "print(div(8,2))"
   ]
  },
  {
   "cell_type": "code",
   "execution_count": 70,
   "id": "8ddf9cca",
   "metadata": {},
   "outputs": [
    {
     "name": "stdout",
     "output_type": "stream",
     "text": [
      "0.06666666666666667\n"
     ]
    }
   ],
   "source": [
    "@Check_Zero\n",
    "def div(a,b,c,d,e):\n",
    "    return a/b/c/d/e\n",
    "\n",
    "print(div(8,2,3,4,5))"
   ]
  },
  {
   "cell_type": "code",
   "execution_count": 71,
   "id": "a0ea0700",
   "metadata": {},
   "outputs": [
    {
     "name": "stdout",
     "output_type": "stream",
     "text": [
      "Divide are not possible\n"
     ]
    }
   ],
   "source": [
    "print(div(8,2,3,0,5))"
   ]
  },
  {
   "cell_type": "markdown",
   "id": "225b231f",
   "metadata": {},
   "source": [
    "# @property Decorator\n",
    "\n",
    "## @property decorator is a built-in decorator in Python which is helpful in defining the properties effortlessly without manually calling the inbuilt function property(). \n",
    "\n",
    "## Which is used to return the property attributes of a class from the stated getter, setter and deleter as parameters"
   ]
  },
  {
   "cell_type": "markdown",
   "id": "28cc3941",
   "metadata": {},
   "source": [
    "# Example"
   ]
  },
  {
   "cell_type": "code",
   "execution_count": 20,
   "id": "16d0c4a3",
   "metadata": {},
   "outputs": [],
   "source": [
    "class Student:\n",
    "    \n",
    "    def __init__(self,name,grade):\n",
    "        \n",
    "        self.name = name\n",
    "        self.grade = grade\n",
    "        self.msg = self.name + \" Got grade \" +self.grade\n"
   ]
  },
  {
   "cell_type": "code",
   "execution_count": 21,
   "id": "c9a267a1",
   "metadata": {},
   "outputs": [],
   "source": [
    "st1 = Student(\"Mubeen\",\"F\")"
   ]
  },
  {
   "cell_type": "code",
   "execution_count": 22,
   "id": "a0dd1c52",
   "metadata": {},
   "outputs": [
    {
     "name": "stdout",
     "output_type": "stream",
     "text": [
      "Mubeen\n",
      "F\n",
      "Mubeen Got grade F\n"
     ]
    }
   ],
   "source": [
    "print(st1.name)\n",
    "print(st1.grade)\n",
    "print(st1.msg)"
   ]
  },
  {
   "cell_type": "markdown",
   "id": "25d4c2f1",
   "metadata": {},
   "source": [
    "# Now try to change grade"
   ]
  },
  {
   "cell_type": "code",
   "execution_count": 27,
   "id": "7fe6e576",
   "metadata": {},
   "outputs": [
    {
     "name": "stdout",
     "output_type": "stream",
     "text": [
      "Mubeen\n",
      "A\n",
      "Mubeen Got grade F\n"
     ]
    }
   ],
   "source": [
    "st1.grade = \"A\"\n",
    "\n",
    "print(st1.name)\n",
    "print(st1.grade)\n",
    "print(st1.msg)"
   ]
  },
  {
   "cell_type": "markdown",
   "id": "e464a751",
   "metadata": {},
   "source": [
    "## Here grade are not change in msg\n",
    "# convert attribute to method"
   ]
  },
  {
   "cell_type": "code",
   "execution_count": 38,
   "id": "f932292b",
   "metadata": {},
   "outputs": [],
   "source": [
    "class Student:\n",
    "    \n",
    "    def __init__(self,name,grade):\n",
    "        \n",
    "        self.name = name\n",
    "        self.grade = grade\n",
    "        \n",
    "        \n",
    "    def msg(self):\n",
    "        self.msg = self.name + \" Got grade \" +self.grade\n",
    "        return self.msg\n",
    "\n",
    "st1 = Student(\"Mubeen\",\"F\")"
   ]
  },
  {
   "cell_type": "code",
   "execution_count": 39,
   "id": "143b9e21",
   "metadata": {},
   "outputs": [
    {
     "name": "stdout",
     "output_type": "stream",
     "text": [
      "Mubeen\n",
      "F\n",
      "Mubeen Got grade F\n"
     ]
    }
   ],
   "source": [
    "print(st1.name)\n",
    "print(st1.grade)\n",
    "\n",
    "# call method\n",
    "print(st1.msg())"
   ]
  },
  {
   "cell_type": "markdown",
   "id": "62efe064",
   "metadata": {},
   "source": [
    "# Convert method to attribute\n",
    "\n",
    "## just used @property before the msg method"
   ]
  },
  {
   "cell_type": "code",
   "execution_count": 56,
   "id": "330f1340",
   "metadata": {},
   "outputs": [],
   "source": [
    "class Student:\n",
    "    \n",
    "    def __init__(self,name,grade):\n",
    "        \n",
    "        self.name = name\n",
    "        self.grade = grade\n",
    "    \n",
    "    \n",
    "    @property\n",
    "    def msg(self):\n",
    "        return self.name + \" Got grade \" +self.grade\n",
    "        "
   ]
  },
  {
   "cell_type": "code",
   "execution_count": 60,
   "id": "4839c18a",
   "metadata": {},
   "outputs": [
    {
     "name": "stdout",
     "output_type": "stream",
     "text": [
      "Mubeen\n",
      "A\n",
      "<bound method Student.msg of <__main__.Student object at 0x7fd9f6f098e0>>\n"
     ]
    }
   ],
   "source": [
    "st1 = Student(\"Mubeen\",\"F\")\n",
    "st1.grade = \"A\"\n",
    "\n",
    "print(st1.name)\n",
    "print(st1.grade)\n",
    "\n",
    "print(st1.msg)"
   ]
  },
  {
   "cell_type": "markdown",
   "id": "33211a88",
   "metadata": {},
   "source": [
    "# Now change the msg"
   ]
  },
  {
   "cell_type": "code",
   "execution_count": 58,
   "id": "496bd9d8",
   "metadata": {},
   "outputs": [
    {
     "ename": "AttributeError",
     "evalue": "can't set attribute",
     "output_type": "error",
     "traceback": [
      "\u001b[0;31m---------------------------------------------------------------------------\u001b[0m",
      "\u001b[0;31mAttributeError\u001b[0m                            Traceback (most recent call last)",
      "Input \u001b[0;32mIn [58]\u001b[0m, in \u001b[0;36m<cell line: 1>\u001b[0;34m()\u001b[0m\n\u001b[0;32m----> 1\u001b[0m st1\u001b[38;5;241m.\u001b[39mmsg \u001b[38;5;241m=\u001b[39m \u001b[38;5;124mf\u001b[39m\u001b[38;5;124m\"\u001b[39m\u001b[38;5;132;01m{\u001b[39;00mst1\u001b[38;5;241m.\u001b[39mname\u001b[38;5;132;01m}\u001b[39;00m\u001b[38;5;124m got grade c\u001b[39m\u001b[38;5;124m\"\u001b[39m\n",
      "\u001b[0;31mAttributeError\u001b[0m: can't set attribute"
     ]
    }
   ],
   "source": [
    "st1.msg = f\"{st1.name} got grade c\""
   ]
  },
  {
   "cell_type": "markdown",
   "id": "b5db5742",
   "metadata": {},
   "source": [
    "# Fix the Error Change the attribute"
   ]
  },
  {
   "cell_type": "markdown",
   "id": "cd7da041",
   "metadata": {},
   "source": [
    "# Getters and Setters in Python\n",
    "\n",
    "## To implement proper encapsulation in Python, we need to use setters and getters. \n",
    "\n",
    "## The primary purpose of using getters and setters in object-oriented programs is to ensure data encapsulation. \n",
    "\n",
    "## Use the getter method to access data members and the setter methods to modify the data members."
   ]
  },
  {
   "cell_type": "code",
   "execution_count": 82,
   "id": "6fae9a70",
   "metadata": {},
   "outputs": [],
   "source": [
    "class Student:\n",
    "    \n",
    "    def __init__(self,name,grade):\n",
    "        \n",
    "        self.name = name\n",
    "        self.grade = grade\n",
    "    \n",
    "    @property\n",
    "    def msg(self):\n",
    "        return self.name + \" Got grade \" +self.grade\n",
    "    \n",
    "    \n",
    "    def setter(self,msg):\n",
    "        sent = msg.split(\" \")\n",
    "        self.name = sent[0]\n",
    "        self.grade = sent[-1]\n"
   ]
  },
  {
   "cell_type": "code",
   "execution_count": 81,
   "id": "b72f59b4",
   "metadata": {},
   "outputs": [
    {
     "name": "stdout",
     "output_type": "stream",
     "text": [
      "Anon\n",
      "B\n",
      "Anon Got grade B\n"
     ]
    }
   ],
   "source": [
    "st1 = Student(\"Mubeen\",\"F\")\n",
    "st1.setter(\"Anon Got Grade B\")\n",
    "\n",
    "print(st1.name)\n",
    "print(st1.grade)\n",
    "print(st1.msg)"
   ]
  },
  {
   "cell_type": "markdown",
   "id": "ae2791ea",
   "metadata": {},
   "source": [
    "# Change setter to msg\n"
   ]
  },
  {
   "cell_type": "code",
   "execution_count": 13,
   "id": "27c4aa5d",
   "metadata": {},
   "outputs": [],
   "source": [
    "class Student:\n",
    "    \n",
    "    def __init__(self,name,grade):\n",
    "        \n",
    "        self.name = name\n",
    "        self.grade = grade\n",
    "    \n",
    "    @property\n",
    "    def msg(self):\n",
    "        return self.name + \" Got grade \" +self.grade\n",
    "    \n",
    "    \n",
    "    def msg(self,msg):\n",
    "        sent = msg.split(\" \")\n",
    "        self.name = sent[0]\n",
    "        self.grade = sent[-1]\n"
   ]
  },
  {
   "cell_type": "code",
   "execution_count": 15,
   "id": "10f0c39e",
   "metadata": {},
   "outputs": [
    {
     "name": "stdout",
     "output_type": "stream",
     "text": [
      "Anon\n",
      "B\n",
      "<bound method Student.msg of <__main__.Student object at 0x7f63b437fd90>>\n"
     ]
    }
   ],
   "source": [
    "st1 = Student(\"Mubeen\",\"F\")\n",
    "st1.msg(\"Anon Got Grade B\")\n",
    "\n",
    "print(st1.name)\n",
    "print(st1.grade)\n",
    "print(st1.msg)"
   ]
  },
  {
   "cell_type": "markdown",
   "id": "c9544027",
   "metadata": {},
   "source": [
    "# Setter\n",
    "# used @msg.setter for msg as the attribute"
   ]
  },
  {
   "cell_type": "code",
   "execution_count": 16,
   "id": "fa72c3a2",
   "metadata": {},
   "outputs": [],
   "source": [
    "class Student:\n",
    "    \n",
    "    def __init__(self,name,grade):\n",
    "        \n",
    "        self.name = name\n",
    "        self.grade = grade\n",
    "    \n",
    "    @property\n",
    "    def msg(self):\n",
    "        return self.name + \" Got grade \" +self.grade\n",
    "    \n",
    "    @msg.setter\n",
    "    def msg(self,msg):\n",
    "        sent = msg.split(\" \")\n",
    "        self.name = sent[0]\n",
    "        self.grade = sent[-1]\n"
   ]
  },
  {
   "cell_type": "code",
   "execution_count": 17,
   "id": "8dd2dd53",
   "metadata": {},
   "outputs": [
    {
     "name": "stdout",
     "output_type": "stream",
     "text": [
      "Anon\n",
      "B\n",
      "Anon Got grade B\n"
     ]
    }
   ],
   "source": [
    "st1 = Student(\"Mubeen\",\"F\")\n",
    "\n",
    "# attribute\n",
    "st1.msg = \"Anon Got Grade B\"\n",
    "\n",
    "print(st1.name)\n",
    "print(st1.grade)\n",
    "print(st1.msg)"
   ]
  },
  {
   "cell_type": "markdown",
   "id": "955d6408",
   "metadata": {},
   "source": [
    "# Getter"
   ]
  },
  {
   "cell_type": "code",
   "execution_count": 289,
   "id": "43c2aba7",
   "metadata": {},
   "outputs": [],
   "source": [
    "class Student:\n",
    "    \n",
    "    def __init__(self,marks):\n",
    "        self.marks = marks\n",
    "    \n",
    "    @property\n",
    "    def new_marks():\n",
    "        ...\n",
    "    \n",
    "    @new_marks.setter\n",
    "    def new_marks(self,new):\n",
    "        self.marks = new\n",
    "    \n",
    "    @new_marks.getter\n",
    "    def check_marks(self):\n",
    "        return self.marks"
   ]
  },
  {
   "cell_type": "code",
   "execution_count": 290,
   "id": "ca49067f",
   "metadata": {},
   "outputs": [
    {
     "name": "stdout",
     "output_type": "stream",
     "text": [
      "100\n"
     ]
    }
   ],
   "source": [
    "st = Student(100)\n",
    "print(st.marks)\n"
   ]
  },
  {
   "cell_type": "code",
   "execution_count": 291,
   "id": "ab3e16ac",
   "metadata": {},
   "outputs": [
    {
     "name": "stdout",
     "output_type": "stream",
     "text": [
      "99\n"
     ]
    }
   ],
   "source": [
    "st.marks = 99\n",
    "print(st.marks)"
   ]
  },
  {
   "cell_type": "code",
   "execution_count": 292,
   "id": "5ab86655",
   "metadata": {},
   "outputs": [
    {
     "name": "stdout",
     "output_type": "stream",
     "text": [
      "0\n"
     ]
    }
   ],
   "source": [
    "st.new_marks = 0\n",
    "print(st.check_marks)"
   ]
  },
  {
   "cell_type": "markdown",
   "id": "b7fb72cb",
   "metadata": {},
   "source": [
    "# property() argument"
   ]
  },
  {
   "cell_type": "code",
   "execution_count": 416,
   "id": "2b0d6edd",
   "metadata": {},
   "outputs": [],
   "source": [
    "class Student:\n",
    "    \n",
    "    def __init__(self,marks):\n",
    "        self.marks = marks\n",
    "    \n",
    "    \n",
    "    def set_marks(self,new):\n",
    "        self.marks = new\n",
    "    \n",
    "    def check_marks(self):\n",
    "        return self.marks\n",
    "    \n",
    "    new_marks = property(check_marks,set_marks)\n",
    "    "
   ]
  },
  {
   "cell_type": "code",
   "execution_count": 417,
   "id": "e6e78dba",
   "metadata": {},
   "outputs": [
    {
     "name": "stdout",
     "output_type": "stream",
     "text": [
      "120\n",
      "120\n"
     ]
    }
   ],
   "source": [
    "std = Student(120)\n",
    "print(std.marks)\n",
    "print(std.check_marks())"
   ]
  },
  {
   "cell_type": "code",
   "execution_count": 426,
   "id": "1f675d48",
   "metadata": {},
   "outputs": [
    {
     "name": "stdout",
     "output_type": "stream",
     "text": [
      "7\n",
      "7\n"
     ]
    }
   ],
   "source": [
    "std.new_marks = 7\n",
    "\n",
    "print(std.marks)\n",
    "print(std.check_marks())\n"
   ]
  },
  {
   "cell_type": "code",
   "execution_count": 431,
   "id": "272f0c37",
   "metadata": {},
   "outputs": [
    {
     "name": "stdout",
     "output_type": "stream",
     "text": [
      "7\n"
     ]
    }
   ],
   "source": [
    "print(std.new_marks)"
   ]
  }
 ],
 "metadata": {
  "kernelspec": {
   "display_name": "Python 3 (ipykernel)",
   "language": "python",
   "name": "python3"
  },
  "language_info": {
   "codemirror_mode": {
    "name": "ipython",
    "version": 3
   },
   "file_extension": ".py",
   "mimetype": "text/x-python",
   "name": "python",
   "nbconvert_exporter": "python",
   "pygments_lexer": "ipython3",
   "version": "3.9.2"
  }
 },
 "nbformat": 4,
 "nbformat_minor": 5
}
