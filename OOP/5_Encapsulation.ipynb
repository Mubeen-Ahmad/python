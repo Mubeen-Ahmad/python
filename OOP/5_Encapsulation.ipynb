{
 "cells": [
  {
   "cell_type": "markdown",
   "id": "446dbfac",
   "metadata": {},
   "source": [
    "# Encapsulation\n",
    "\n",
    "## Encapsulation is the packing of data and functions that work on that data within a single object. \n",
    "\n",
    "## By doing so, you can hide the internal state of the object from the outside. \n",
    "## This is known as information hiding."
   ]
  },
  {
   "cell_type": "markdown",
   "id": "f51886e7",
   "metadata": {},
   "source": [
    "## `Encapsulation can be achieved by declaring the data members and methods of a class either as private or protected.` \n",
    "\n",
    "## `But In Python, we don’t have direct access modifiers like public, private, and protected.` \n",
    "\n",
    "## `We can achieve this by using single underscore and double underscores.`\n",
    "\n",
    "# Access modifiers limit access to the variables and methods of a class. \n",
    "## Python provides three types of access miers private, public, and protected\n",
    "\n",
    "* ## Public Member    : Accessible anywhere from otside oclass.\n",
    "* ## Private Member   : Accessible within the class\n",
    "* ## Protected Member : Accessible within the class and its sub-classes\n",
    "\n",
    "<img src=\"pic/en.png\">"
   ]
  },
  {
   "cell_type": "markdown",
   "id": "e3b03cda",
   "metadata": {},
   "source": [
    "\n",
    "# Public Member\n",
    "## Public data members are accessible within and outside of a class. All member variables of the class are by default public."
   ]
  },
  {
   "cell_type": "code",
   "execution_count": 1,
   "id": "f406b749",
   "metadata": {},
   "outputs": [
    {
     "name": "stdout",
     "output_type": "stream",
     "text": [
      "Anon\n",
      "50000\n",
      "NLP\n"
     ]
    }
   ],
   "source": [
    "class Employee:\n",
    "    \n",
    "    def __init__(self,name,salary,project):\n",
    "        self.name = name\n",
    "        self.salary = salary\n",
    "        self.project = project\n",
    "        \n",
    "    def show(self):\n",
    "        print(self.name)\n",
    "        print(self.salary)\n",
    "        print(self.project)\n",
    "\n",
    "emp1 = Employee(\"Anon\",50000,\"NLP\")\n",
    "emp1.show()"
   ]
  },
  {
   "cell_type": "markdown",
   "id": "55af71cb",
   "metadata": {},
   "source": [
    "# Private Member\n",
    "\n",
    "## We can protect variables in the class by marking them private. To define a private variable add two underscores as a prefix at the start of a variable name.\n",
    "\n",
    "## Private members are accessible only within the class, and we can’t access them directly from the class objects."
   ]
  },
  {
   "cell_type": "code",
   "execution_count": 2,
   "id": "756fa174",
   "metadata": {},
   "outputs": [
    {
     "name": "stdout",
     "output_type": "stream",
     "text": [
      "Anon\n"
     ]
    },
    {
     "ename": "AttributeError",
     "evalue": "'Employee' object has no attribute '__salary'",
     "output_type": "error",
     "traceback": [
      "\u001b[0;31m---------------------------------------------------------------------------\u001b[0m",
      "\u001b[0;31mAttributeError\u001b[0m                            Traceback (most recent call last)",
      "Input \u001b[0;32mIn [2]\u001b[0m, in \u001b[0;36m<cell line: 13>\u001b[0;34m()\u001b[0m\n\u001b[1;32m      9\u001b[0m emp1 \u001b[38;5;241m=\u001b[39m Employee(\u001b[38;5;124m\"\u001b[39m\u001b[38;5;124mAnon\u001b[39m\u001b[38;5;124m\"\u001b[39m,\u001b[38;5;241m50000\u001b[39m)\n\u001b[1;32m     12\u001b[0m \u001b[38;5;28mprint\u001b[39m(emp1\u001b[38;5;241m.\u001b[39mname)\n\u001b[0;32m---> 13\u001b[0m \u001b[38;5;28mprint\u001b[39m(\u001b[43memp1\u001b[49m\u001b[38;5;241;43m.\u001b[39;49m\u001b[43m__salary\u001b[49m)\n",
      "\u001b[0;31mAttributeError\u001b[0m: 'Employee' object has no attribute '__salary'"
     ]
    }
   ],
   "source": [
    "class Employee:\n",
    "    \n",
    "    def __init__(self,name,salary):\n",
    "        self.name = name\n",
    "        \n",
    "        # private variable\n",
    "        self.__salary = salary\n",
    "        \n",
    "emp1 = Employee(\"Anon\",50000)\n",
    "\n",
    "\n",
    "print(emp1.name)\n",
    "print(emp1.__salary)"
   ]
  },
  {
   "cell_type": "markdown",
   "id": "a29e1017",
   "metadata": {},
   "source": [
    "## We can access private members from outside of a class using the following two approaches\n",
    "\n",
    "* ## Create public method to access private members\n",
    "* ## Use name mangling"
   ]
  },
  {
   "cell_type": "markdown",
   "id": "494c4eb9",
   "metadata": {},
   "source": [
    "# Access Private Variable in inside class with Method"
   ]
  },
  {
   "cell_type": "code",
   "execution_count": null,
   "id": "90d45f88",
   "metadata": {},
   "outputs": [],
   "source": [
    "class Employee:\n",
    "    \n",
    "    def __init__(self,name,salary):\n",
    "        self.name = name\n",
    "        \n",
    "        # private variable\n",
    "        self.__salary = salary\n",
    "    \n",
    "    def pri(self):\n",
    "        print(self.__salary)\n",
    "    \n",
    "emp1 = Employee(\"Anon\",50000)\n",
    "\n",
    "emp1.pri()"
   ]
  },
  {
   "cell_type": "markdown",
   "id": "b6782730",
   "metadata": {},
   "source": [
    "# Name Mangling to access private members \n",
    "\n",
    "## We can directly access private and protected variables from outside of a class through name mangling. \n",
    "\n",
    "## The name mangling is created on an identifier by adding two leading underscores and one trailing underscore, like this `_classname ` `__dataMember `, \n",
    "\n",
    "## where classname is the current class, and data member is the private variable name."
   ]
  },
  {
   "cell_type": "code",
   "execution_count": null,
   "id": "21a41d44",
   "metadata": {},
   "outputs": [],
   "source": [
    "class Employee:\n",
    "    \n",
    "    def __init__(self,name,salary):\n",
    "        self.name = name\n",
    "        \n",
    "        # private variable\n",
    "        self.__salary = salary\n",
    "\n",
    "    \n",
    "emp1 = Employee(\"Anon\",50000)\n",
    "\n",
    "emp1._Employee__salary"
   ]
  },
  {
   "cell_type": "markdown",
   "id": "5427b6e7",
   "metadata": {},
   "source": [
    "# Private Method\n",
    "\n"
   ]
  },
  {
   "cell_type": "code",
   "execution_count": null,
   "id": "d1521c44",
   "metadata": {},
   "outputs": [],
   "source": [
    "class Employee:\n",
    "    \n",
    "    def __init__(self,name,salary):\n",
    "        self.name = name\n",
    "        \n",
    "    def __password(self):\n",
    "        pss = 123 \n",
    "        print(pss)\n",
    "    \n",
    "emp1 = Employee(\"Anon\",50000)\n",
    "\n",
    "emp1.__password"
   ]
  },
  {
   "cell_type": "markdown",
   "id": "4c996ee3",
   "metadata": {},
   "source": [
    "# Access private method with name Mangling\n"
   ]
  },
  {
   "cell_type": "code",
   "execution_count": null,
   "id": "29901ccf",
   "metadata": {},
   "outputs": [],
   "source": [
    "emp1._Employee__password()"
   ]
  },
  {
   "cell_type": "markdown",
   "id": "7692f673",
   "metadata": {},
   "source": [
    "# Protected Member\n",
    "\n",
    "## Protected members are accessible within the class and also available to its sub-classes. To define a protected member, prefix the member name with a single underscore _.\n",
    "\n",
    "## Protected data members are used when you implement inheritance and want to allow data members access to only child classes.\n",
    "\n"
   ]
  },
  {
   "cell_type": "code",
   "execution_count": 3,
   "id": "57428322",
   "metadata": {},
   "outputs": [
    {
     "name": "stdout",
     "output_type": "stream",
     "text": [
      "Project: NLP\n"
     ]
    }
   ],
   "source": [
    "# base class\n",
    "class Company:\n",
    "    def __init__(self):\n",
    "        # Protected member\n",
    "        self._project = \"NLP\"\n",
    "\n",
    "# child class\n",
    "class Employee(Company):\n",
    "    def __init__(self, name):\n",
    "        self.name = name\n",
    "#         super().__init__()\n",
    "        Company.__init__(self)\n",
    "\n",
    "#     def show(self):\n",
    "#         print(\"Employee name :\", self.name)\n",
    "#         # Accessing protected member in child class\n",
    "#         print(\"Working on project :\", self._project)\n",
    "\n",
    "\n",
    "# class Anon(Employee):\n",
    "#     ...\n",
    "        \n",
    "# c = Employee(\"Mubeen\")\n",
    "# c.show()\n",
    "\n",
    "c = Employee(\"MUBEEN\")\n",
    "# Direct access protected data member\n",
    "print('Project:', c._project)"
   ]
  }
 ],
 "metadata": {
  "kernelspec": {
   "display_name": "Python 3 (ipykernel)",
   "language": "python",
   "name": "python3"
  },
  "language_info": {
   "codemirror_mode": {
    "name": "ipython",
    "version": 3
   },
   "file_extension": ".py",
   "mimetype": "text/x-python",
   "name": "python",
   "nbconvert_exporter": "python",
   "pygments_lexer": "ipython3",
   "version": "3.9.2"
  }
 },
 "nbformat": 4,
 "nbformat_minor": 5
}
