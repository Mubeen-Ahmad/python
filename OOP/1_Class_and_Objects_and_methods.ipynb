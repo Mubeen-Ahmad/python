{
 "cells": [
  {
   "cell_type": "markdown",
   "id": "d22e7004",
   "metadata": {},
   "source": [
    "# Class\n",
    "\n"
   ]
  },
  {
   "cell_type": "markdown",
   "id": "98ee60b4",
   "metadata": {},
   "source": [
    " * ## The class is a user-defined data structure that binds the data members and methods into a single unit. \n",
    "\n",
    " * ## Class is a blueprint or code template for object creation. \n",
    "\n",
    " * ## Using a class, you can create as many objects as you want."
   ]
  },
  {
   "cell_type": "markdown",
   "id": "fe78239b",
   "metadata": {},
   "source": [
    " "
   ]
  },
  {
   "cell_type": "markdown",
   "id": "dd87e2e7",
   "metadata": {},
   "source": [
    "# Object"
   ]
  },
  {
   "cell_type": "markdown",
   "id": "98d4b614",
   "metadata": {},
   "source": [
    "### An object is an instance of a class. \n",
    "### It is a collection of attributes (variables) and methods. We use the object of a class to perform actions."
   ]
  },
  {
   "cell_type": "markdown",
   "id": "ae4e0c1c",
   "metadata": {},
   "source": [
    "## Every object has the following property.\n",
    "\n",
    "   * ## Identity: \n",
    "       * ### Every object must be uniquely identified.\n",
    "   * ## State: \n",
    "        * ### An object has an attribute that represents a state of an object, and it also reflects the property of an object.\n",
    "   * ## Behavior: \n",
    "        * ### An object has methods that represent its behavior."
   ]
  },
  {
   "cell_type": "markdown",
   "id": "eef5a429",
   "metadata": {},
   "source": [
    "<img src=\"pic/cls.jpg\">"
   ]
  },
  {
   "cell_type": "markdown",
   "id": "584502f9",
   "metadata": {},
   "source": [
    "# Example"
   ]
  },
  {
   "cell_type": "code",
   "execution_count": 1,
   "id": "b144eb8f",
   "metadata": {},
   "outputs": [
    {
     "name": "stdout",
     "output_type": "stream",
     "text": [
      "Name: Jessa \n",
      "Sex: Female \n",
      "Profession: Software Engineer\n",
      "\n",
      "Jessa working as a Software Engineer\n"
     ]
    }
   ],
   "source": [
    "class Person:\n",
    "    \n",
    "    def __init__(self, name, sex, profession):\n",
    "        \n",
    "            # data members (instance variables)\n",
    "        \n",
    "        self.name = name\n",
    "        self.sex = sex\n",
    "        self.profession = profession\n",
    "\n",
    "            # Behavior (instance methods)\n",
    "    \n",
    "    def show(self):\n",
    "        print('Name:', self.name, '\\nSex:', self.sex, '\\nProfession:', self.profession)\n",
    "\n",
    "            # Behavior (instance methods)\n",
    "    \n",
    "    def work(self):\n",
    "        print(\"\\n\"+self.name, 'working as a', self.profession)\n",
    "\n",
    "\n",
    "# Object\n",
    "jessa = Person('Jessa', 'Female', 'Software Engineer')\n",
    "\n",
    "# call methods\n",
    "jessa.show()\n",
    "jessa.work()"
   ]
  },
  {
   "cell_type": "code",
   "execution_count": 2,
   "id": "d12dcdb1",
   "metadata": {},
   "outputs": [
    {
     "name": "stdout",
     "output_type": "stream",
     "text": [
      "Name: Mubeen \n",
      "Sex: Male \n",
      "Profession: 🤔\n",
      "\n",
      "Mubeen working as a 🤔\n"
     ]
    }
   ],
   "source": [
    "mubeen = Person(\"Mubeen\",\"Male\",\"\\U0001F914\")\n",
    "\n",
    "mubeen.show()\n",
    "mubeen.work()"
   ]
  },
  {
   "cell_type": "markdown",
   "id": "f8cfeb25",
   "metadata": {},
   "source": [
    "# Class Attributes\n",
    "\n",
    "## In Class, attributes can be defined into two parts:\n",
    "<img src=\"pic/attr.jpg\">"
   ]
  },
  {
   "cell_type": "markdown",
   "id": "eb8422f5",
   "metadata": {},
   "source": [
    "## Class Variables\n",
    "\n",
    "* ## A variable that are define inside only in the class called Class variable"
   ]
  },
  {
   "cell_type": "code",
   "execution_count": 3,
   "id": "106d01e8",
   "metadata": {},
   "outputs": [
    {
     "data": {
      "text/plain": [
       "'Mubeen'"
      ]
     },
     "execution_count": 3,
     "metadata": {},
     "output_type": "execute_result"
    }
   ],
   "source": [
    "class Person:\n",
    "    \n",
    "    # class variables\n",
    "    name = \"Mubeen\"\n",
    "    id_ = 404\n",
    "    \n",
    "\n",
    "\n",
    "p1 = Person()\n",
    "\n",
    "p1.name"
   ]
  },
  {
   "cell_type": "markdown",
   "id": "112bf5a1",
   "metadata": {},
   "source": [
    "# Shared by all objects of class"
   ]
  },
  {
   "cell_type": "code",
   "execution_count": 4,
   "id": "31147e5b",
   "metadata": {},
   "outputs": [
    {
     "name": "stdout",
     "output_type": "stream",
     "text": [
      "Mubeen AI\n",
      "Fahad AI\n",
      "Zain AI\n"
     ]
    }
   ],
   "source": [
    "class AI:\n",
    "    \n",
    "    # class variable\n",
    "    Class = \"AI\"\n",
    "    \n",
    "    def __init__(self,name):\n",
    "        \n",
    "        # instance variable\n",
    "        self.name = name+ \" \" +self.Class\n",
    "    \n",
    "obj1 = AI(\"Mubeen\").name\n",
    "obj2 = AI(\"Fahad\").name\n",
    "obj3 = AI(\"Zain\").name\n",
    "\n",
    "\n",
    "print(obj1)\n",
    "print(obj2)\n",
    "print(obj3)"
   ]
  },
  {
   "cell_type": "markdown",
   "id": "b7995677",
   "metadata": {},
   "source": [
    "# Access Class Variable"
   ]
  },
  {
   "cell_type": "code",
   "execution_count": 5,
   "id": "518ac845",
   "metadata": {},
   "outputs": [
    {
     "data": {
      "text/plain": [
       "'AI'"
      ]
     },
     "execution_count": 5,
     "metadata": {},
     "output_type": "execute_result"
    }
   ],
   "source": [
    "AI.Class"
   ]
  },
  {
   "cell_type": "markdown",
   "id": "5ababb83",
   "metadata": {},
   "source": [
    "## Access with built-in function\n",
    "    getattr(object, name[, default]) -> value"
   ]
  },
  {
   "cell_type": "code",
   "execution_count": 6,
   "id": "4e57e960",
   "metadata": {},
   "outputs": [
    {
     "data": {
      "text/plain": [
       "'AI'"
      ]
     },
     "execution_count": 6,
     "metadata": {},
     "output_type": "execute_result"
    }
   ],
   "source": [
    "getattr(AI, 'Class')"
   ]
  },
  {
   "cell_type": "markdown",
   "id": "e1747f0a",
   "metadata": {},
   "source": [
    "# Modify Class Variables"
   ]
  },
  {
   "cell_type": "code",
   "execution_count": 7,
   "id": "89690b19",
   "metadata": {},
   "outputs": [
    {
     "data": {
      "text/plain": [
       "'Ali AI'"
      ]
     },
     "execution_count": 7,
     "metadata": {},
     "output_type": "execute_result"
    }
   ],
   "source": [
    "new = AI(\"Ali\")\n",
    "new.name"
   ]
  },
  {
   "cell_type": "code",
   "execution_count": 8,
   "id": "a4f4122a",
   "metadata": {},
   "outputs": [
    {
     "data": {
      "text/plain": [
       "140123315919856"
      ]
     },
     "execution_count": 8,
     "metadata": {},
     "output_type": "execute_result"
    }
   ],
   "source": [
    "id(AI.Class)"
   ]
  },
  {
   "cell_type": "code",
   "execution_count": 9,
   "id": "a6fbfca7",
   "metadata": {},
   "outputs": [],
   "source": [
    "AI.Class = \"Cyber\""
   ]
  },
  {
   "cell_type": "code",
   "execution_count": 10,
   "id": "6f1ec88c",
   "metadata": {},
   "outputs": [
    {
     "data": {
      "text/plain": [
       "'Ali Cyber'"
      ]
     },
     "execution_count": 10,
     "metadata": {},
     "output_type": "execute_result"
    }
   ],
   "source": [
    "ch = AI(\"Ali\")\n",
    "ch.name"
   ]
  },
  {
   "cell_type": "code",
   "execution_count": 11,
   "id": "d0185e34",
   "metadata": {},
   "outputs": [
    {
     "data": {
      "text/plain": [
       "140123315955888"
      ]
     },
     "execution_count": 11,
     "metadata": {},
     "output_type": "execute_result"
    }
   ],
   "source": [
    "id(AI.Class)"
   ]
  },
  {
   "cell_type": "markdown",
   "id": "684ca46f",
   "metadata": {},
   "source": [
    "# Modify with built-in Functions \n",
    "\n",
    "    setattr(obj, name, value, /)"
   ]
  },
  {
   "cell_type": "code",
   "execution_count": 12,
   "id": "44957f6a",
   "metadata": {},
   "outputs": [],
   "source": [
    "setattr(AI, \"Class\",\"Hexor\")"
   ]
  },
  {
   "cell_type": "code",
   "execution_count": 13,
   "id": "b27e0eeb",
   "metadata": {},
   "outputs": [
    {
     "data": {
      "text/plain": [
       "'Hexor'"
      ]
     },
     "execution_count": 13,
     "metadata": {},
     "output_type": "execute_result"
    }
   ],
   "source": [
    "AI.Class"
   ]
  },
  {
   "cell_type": "markdown",
   "id": "54adad6f",
   "metadata": {},
   "source": [
    "# Delete Class Variable"
   ]
  },
  {
   "cell_type": "markdown",
   "id": "e9b91c74",
   "metadata": {},
   "source": [
    "## with Built in function \n",
    "    delattr(obj, name, /)"
   ]
  },
  {
   "cell_type": "code",
   "execution_count": 14,
   "id": "74ce4c2b",
   "metadata": {},
   "outputs": [],
   "source": [
    "delattr(AI,\"Class\")"
   ]
  },
  {
   "cell_type": "code",
   "execution_count": 15,
   "id": "a4269bb6",
   "metadata": {},
   "outputs": [
    {
     "ename": "AttributeError",
     "evalue": "type object 'AI' has no attribute 'Class'",
     "output_type": "error",
     "traceback": [
      "\u001b[0;31m---------------------------------------------------------------------------\u001b[0m",
      "\u001b[0;31mAttributeError\u001b[0m                            Traceback (most recent call last)",
      "Input \u001b[0;32mIn [15]\u001b[0m, in \u001b[0;36m<cell line: 1>\u001b[0;34m()\u001b[0m\n\u001b[0;32m----> 1\u001b[0m \u001b[43mAI\u001b[49m\u001b[38;5;241;43m.\u001b[39;49m\u001b[43mClass\u001b[49m\n",
      "\u001b[0;31mAttributeError\u001b[0m: type object 'AI' has no attribute 'Class'"
     ]
    }
   ],
   "source": [
    "AI.Class"
   ]
  },
  {
   "cell_type": "markdown",
   "id": "2df8df7a",
   "metadata": {},
   "source": [
    "## Delete with del keyword"
   ]
  },
  {
   "cell_type": "code",
   "execution_count": 16,
   "id": "cf8d39b0",
   "metadata": {},
   "outputs": [
    {
     "data": {
      "text/plain": [
       "'new'"
      ]
     },
     "execution_count": 16,
     "metadata": {},
     "output_type": "execute_result"
    }
   ],
   "source": [
    "setattr(AI, \"Class\",\"new\")\n",
    "AI.Class"
   ]
  },
  {
   "cell_type": "code",
   "execution_count": 18,
   "id": "24b9f401",
   "metadata": {},
   "outputs": [],
   "source": [
    "del AI.Class"
   ]
  },
  {
   "cell_type": "code",
   "execution_count": 17,
   "id": "930665ed",
   "metadata": {},
   "outputs": [
    {
     "data": {
      "text/plain": [
       "'new'"
      ]
     },
     "execution_count": 17,
     "metadata": {},
     "output_type": "execute_result"
    }
   ],
   "source": [
    "AI.Class"
   ]
  },
  {
   "cell_type": "markdown",
   "id": "ec1bc78c",
   "metadata": {},
   "source": [
    "# Instance Variables"
   ]
  },
  {
   "cell_type": "code",
   "execution_count": 19,
   "id": "1eb108b1",
   "metadata": {},
   "outputs": [
    {
     "name": "stdout",
     "output_type": "stream",
     "text": [
      "Mubeen 404\n",
      "zain 404\n"
     ]
    }
   ],
   "source": [
    "class Person:\n",
    "    \n",
    "    # class variable\n",
    "    ID = 404\n",
    "    \n",
    "    # constructor --- > method\n",
    "    def __init__(self,name):\n",
    "        \n",
    "        # instance variable\n",
    "        self.name = name\n",
    "        print(name,self.ID)\n",
    "\n",
    "mubeen = Person(\"Mubeen\")\n",
    "zain = Person(\"zain\")"
   ]
  },
  {
   "cell_type": "markdown",
   "id": "3f2e2fe2",
   "metadata": {},
   "source": [
    "# Modify Instance Variables"
   ]
  },
  {
   "cell_type": "code",
   "execution_count": 20,
   "id": "83dc2530",
   "metadata": {},
   "outputs": [
    {
     "data": {
      "text/plain": [
       "'anon'"
      ]
     },
     "execution_count": 20,
     "metadata": {},
     "output_type": "execute_result"
    }
   ],
   "source": [
    "mubeen.name = \"anon\"\n",
    "\n",
    "mubeen.name"
   ]
  },
  {
   "cell_type": "markdown",
   "id": "7f7bcf7d",
   "metadata": {},
   "source": [
    "## The isinstance() function returns True if an object is an instance of a class:\n",
    "\n",
    "###  isinstance(obj, class_or_tuple, /)"
   ]
  },
  {
   "cell_type": "code",
   "execution_count": 21,
   "id": "428d83ba",
   "metadata": {},
   "outputs": [
    {
     "data": {
      "text/plain": [
       "True"
      ]
     },
     "execution_count": 21,
     "metadata": {},
     "output_type": "execute_result"
    }
   ],
   "source": [
    "isinstance(mubeen,Person)"
   ]
  },
  {
   "cell_type": "code",
   "execution_count": 22,
   "id": "51780bb6",
   "metadata": {},
   "outputs": [
    {
     "data": {
      "text/plain": [
       "True"
      ]
     },
     "execution_count": 22,
     "metadata": {},
     "output_type": "execute_result"
    }
   ],
   "source": [
    "isinstance(mubeen,Person)"
   ]
  },
  {
   "cell_type": "code",
   "execution_count": 23,
   "id": "d6c7dcb7",
   "metadata": {},
   "outputs": [
    {
     "data": {
      "text/plain": [
       "False"
      ]
     },
     "execution_count": 23,
     "metadata": {},
     "output_type": "execute_result"
    }
   ],
   "source": [
    "issubclass(Person,AI)"
   ]
  },
  {
   "cell_type": "markdown",
   "id": "08d9da45",
   "metadata": {},
   "source": [
    "## Self var VS instance var "
   ]
  },
  {
   "cell_type": "code",
   "execution_count": 24,
   "id": "0dff4a7e",
   "metadata": {},
   "outputs": [
    {
     "name": "stdout",
     "output_type": "stream",
     "text": [
      "3 2\n"
     ]
    }
   ],
   "source": [
    "class Person:\n",
    "    \n",
    "    # class variable\n",
    "    x = 3\n",
    "    \n",
    "    def __init__(self):\n",
    "        \n",
    "        # instance var\n",
    "        x = 2\n",
    "        print(self.x,x)\n",
    "\n",
    "p1 = Person()\n",
    "\n"
   ]
  },
  {
   "cell_type": "markdown",
   "id": "021616bd",
   "metadata": {},
   "source": [
    "# Duplicate variable Class and Instance"
   ]
  },
  {
   "cell_type": "markdown",
   "id": "631ecfe8",
   "metadata": {},
   "source": [
    "# Example 1"
   ]
  },
  {
   "cell_type": "code",
   "execution_count": 25,
   "id": "6767c78b",
   "metadata": {},
   "outputs": [
    {
     "name": "stdout",
     "output_type": "stream",
     "text": [
      "99\n"
     ]
    }
   ],
   "source": [
    "class Person:\n",
    "    \n",
    "    # class variable\n",
    "    x = 3\n",
    "    \n",
    "    def __init__(self):\n",
    "        \n",
    "        # instance var\n",
    "        self.x = 99\n",
    "    \n",
    "        \n",
    "    def value(self):\n",
    "        print(self.x)\n",
    "\n",
    "p1 = Person()\n",
    "p1.value()\n"
   ]
  },
  {
   "cell_type": "markdown",
   "id": "f5701cee",
   "metadata": {},
   "source": [
    "# Example 2"
   ]
  },
  {
   "cell_type": "code",
   "execution_count": 26,
   "id": "74941e22",
   "metadata": {},
   "outputs": [
    {
     "name": "stdout",
     "output_type": "stream",
     "text": [
      "3\n"
     ]
    }
   ],
   "source": [
    "class Person:\n",
    "    \n",
    "    # class variable\n",
    "    x = 3\n",
    "    \n",
    "    def __init__(self):\n",
    "        \n",
    "        # instance var\n",
    "        # self.x = 99\n",
    "        ...\n",
    "    \n",
    "        \n",
    "    def value(self):\n",
    "        print(self.x)\n",
    "\n",
    "p1 = Person()\n",
    "p1.value()\n"
   ]
  },
  {
   "cell_type": "markdown",
   "id": "0096ed28",
   "metadata": {},
   "source": [
    "# Print all Class Variable and Instance Variable and Methods"
   ]
  },
  {
   "cell_type": "code",
   "execution_count": 27,
   "id": "2a4c0e58",
   "metadata": {},
   "outputs": [
    {
     "name": "stdout",
     "output_type": "stream",
     "text": [
      "{'__module__': '__main__', 'x': 3, '__init__': <function Person.__init__ at 0x7f70ebc56af0>, 'value': <function Person.value at 0x7f70ebc56b80>, '__dict__': <attribute '__dict__' of 'Person' objects>, '__weakref__': <attribute '__weakref__' of 'Person' objects>, '__doc__': None}\n",
      "\n",
      "\n",
      "\n",
      "{'x': 99}\n"
     ]
    }
   ],
   "source": [
    "class Person:\n",
    "    \n",
    "    # class variable\n",
    "    x = 3\n",
    "    \n",
    "    def __init__(self):\n",
    "        \n",
    "        # instance var\n",
    "        self.x = 99\n",
    "\n",
    "    \n",
    "        \n",
    "    def value(self):\n",
    "        print(self.x)\n",
    "\n",
    "p1 = Person()\n",
    "\n",
    "\n",
    "print(Person.__dict__)\n",
    "\n",
    "\n",
    "print(\"\\n\\n\")\n",
    "print(p1.__dict__)\n"
   ]
  },
  {
   "cell_type": "markdown",
   "id": "69036376",
   "metadata": {},
   "source": [
    "## Class Methods"
   ]
  },
  {
   "cell_type": "markdown",
   "id": "6d6bd5d0",
   "metadata": {},
   "source": [
    "### In Object-oriented programming, Inside a Class, we can define the following three types of methods.\n",
    "\n",
    "<img src=\"pic/mtd.jpg\">"
   ]
  },
  {
   "cell_type": "markdown",
   "id": "22867ac8",
   "metadata": {},
   "source": [
    "# Class Methods\n",
    "\n",
    "* ## A class method is bound to the class and not the object of the class. It can access only class variables.\n",
    "\n",
    "* ## It can modify the class state by changing the value of a class variable that would apply across all the class objects.\n",
    "\n"
   ]
  },
  {
   "cell_type": "markdown",
   "id": "699ee4b4",
   "metadata": {},
   "source": [
    "# Example 1\n",
    "\n",
    "## change class variable"
   ]
  },
  {
   "cell_type": "code",
   "execution_count": 1,
   "id": "d3889720",
   "metadata": {},
   "outputs": [
    {
     "name": "stdout",
     "output_type": "stream",
     "text": [
      "Ali\n",
      "Mubeen\n"
     ]
    }
   ],
   "source": [
    "class Person:\n",
    "    \n",
    "    # class variable\n",
    "    name = \"Mubeen\"\n",
    "    \n",
    "    # instance method\n",
    "    def show(cls):\n",
    "        \n",
    "        cls.name = \"Ali\"\n",
    "        print(cls.name)\n",
    "\n",
    "p1 = Person()\n",
    "p1.show()\n",
    "\n",
    "# here variable are not change\n",
    "print(Person.name)"
   ]
  },
  {
   "cell_type": "markdown",
   "id": "1488feff",
   "metadata": {},
   "source": [
    "# Example 2\n",
    "## use @classmethod decorators"
   ]
  },
  {
   "cell_type": "code",
   "execution_count": 29,
   "id": "a4fd4e91",
   "metadata": {},
   "outputs": [
    {
     "name": "stdout",
     "output_type": "stream",
     "text": [
      "Ali\n",
      "Ali\n"
     ]
    }
   ],
   "source": [
    "class Person:\n",
    "    \n",
    "    # class variable\n",
    "    name = \"Mubeen\"\n",
    "    \n",
    "    @classmethod\n",
    "    def show(cls):\n",
    "        \n",
    "        cls.name = \"Ali\"\n",
    "        print(cls.name)\n",
    "\n",
    "p1 = Person()\n",
    "\n",
    "p1.show()\n",
    "\n",
    "# Now variable are changed\n",
    "print(Person.name)"
   ]
  },
  {
   "cell_type": "markdown",
   "id": "db352f6a",
   "metadata": {},
   "source": [
    "# Example 3 \n",
    "## use classmethod() Function"
   ]
  },
  {
   "cell_type": "code",
   "execution_count": 30,
   "id": "1fd0c0e3",
   "metadata": {},
   "outputs": [
    {
     "name": "stdout",
     "output_type": "stream",
     "text": [
      "Ali\n",
      "Ali\n"
     ]
    }
   ],
   "source": [
    "class Person:\n",
    "    \n",
    "    # class variable\n",
    "    name = \"Mubeen\"\n",
    "    \n",
    "    \n",
    "    @classmethod\n",
    "    def show(cls):\n",
    "        \n",
    "        name = classmethod(Person.name)\n",
    "        cls.name = \"Ali\"\n",
    "        print(cls.name)\n",
    "\n",
    "p1 = Person()\n",
    "\n",
    "p1.show()\n",
    "\n",
    "# Now variable are changed\n",
    "print(Person.name)"
   ]
  },
  {
   "cell_type": "markdown",
   "id": "e30298c5",
   "metadata": {},
   "source": [
    "# Static Method\n",
    "\n",
    "\n",
    "* ## Static methods are called static because they always return None.\n",
    "* ## Static methods can be bound to either a class or an instance of a class.\n",
    "    \n",
    "* ## Static methods serve mostly as utility methods or helper methods, since they can't access or modify a class's state.\n",
    "\n",
    "* ## Static methods can access and modify the state of a class or an instance of a class.\n"
   ]
  },
  {
   "cell_type": "code",
   "execution_count": 4,
   "id": "4429e3f2",
   "metadata": {},
   "outputs": [
    {
     "ename": "TypeError",
     "evalue": "show() takes 1 positional argument but 2 were given",
     "output_type": "error",
     "traceback": [
      "\u001b[0;31m---------------------------------------------------------------------------\u001b[0m",
      "\u001b[0;31mTypeError\u001b[0m                                 Traceback (most recent call last)",
      "Input \u001b[0;32mIn [4]\u001b[0m, in \u001b[0;36m<cell line: 8>\u001b[0;34m()\u001b[0m\n\u001b[1;32m      4\u001b[0m         \u001b[38;5;28mprint\u001b[39m(name)\n\u001b[1;32m      6\u001b[0m p1 \u001b[38;5;241m=\u001b[39m Person()\n\u001b[0;32m----> 8\u001b[0m \u001b[43mp1\u001b[49m\u001b[38;5;241;43m.\u001b[39;49m\u001b[43mshow\u001b[49m\u001b[43m(\u001b[49m\u001b[38;5;124;43m\"\u001b[39;49m\u001b[38;5;124;43mMubeen\u001b[39;49m\u001b[38;5;124;43m\"\u001b[39;49m\u001b[43m)\u001b[49m\n",
      "\u001b[0;31mTypeError\u001b[0m: show() takes 1 positional argument but 2 were given"
     ]
    }
   ],
   "source": [
    "class Person:\n",
    "    \n",
    "    def show(name):\n",
    "        print(name)\n",
    "\n",
    "p1 = Person()\n",
    "\n",
    "p1.show(\"Mubeen\")"
   ]
  },
  {
   "cell_type": "markdown",
   "id": "e354b609",
   "metadata": {},
   "source": [
    "# with static decorators"
   ]
  },
  {
   "cell_type": "code",
   "execution_count": 35,
   "id": "f2259237",
   "metadata": {},
   "outputs": [
    {
     "name": "stdout",
     "output_type": "stream",
     "text": [
      "Mubeen\n"
     ]
    }
   ],
   "source": [
    "class Person:\n",
    "    \n",
    "    @staticmethod\n",
    "    def show(name):\n",
    "        print(name)\n",
    "\n",
    "p1 = Person()\n",
    "p1.show(\"Mubeen\")"
   ]
  },
  {
   "cell_type": "markdown",
   "id": "f1d6ae23",
   "metadata": {},
   "source": [
    "# with staticmethod Function"
   ]
  },
  {
   "cell_type": "code",
   "execution_count": 36,
   "id": "c6bd560f",
   "metadata": {},
   "outputs": [
    {
     "name": "stdout",
     "output_type": "stream",
     "text": [
      "Mubeen\n"
     ]
    }
   ],
   "source": [
    "class Person:\n",
    "    \n",
    "#     @staticmethod\n",
    "    def show(name):\n",
    "        print(name)\n",
    "\n",
    "Person.show = staticmethod(Person.show)\n",
    "Person.show(\"Mubeen\")"
   ]
  },
  {
   "cell_type": "markdown",
   "id": "7cf021c0",
   "metadata": {},
   "source": [
    "# Call Static Method from Another Method"
   ]
  },
  {
   "cell_type": "code",
   "execution_count": 37,
   "id": "9a3c175f",
   "metadata": {},
   "outputs": [
    {
     "name": "stdout",
     "output_type": "stream",
     "text": [
      "Hello WOrld\n"
     ]
    }
   ],
   "source": [
    "class Person :\n",
    "    \n",
    "    @staticmethod   \n",
    "    def static_method_1():\n",
    "        print('Hello WOrld')\n",
    "\n",
    "    @staticmethod\n",
    "    def static_method_2() :\n",
    "        Person.static_method_1()\n",
    "        \n",
    "\n",
    "    @classmethod\n",
    "    def class_method_1(cls) :\n",
    "        cls.static_method_2()\n",
    "\n",
    "# call class method\n",
    "Person.class_method_1()"
   ]
  },
  {
   "cell_type": "markdown",
   "id": "79b01182",
   "metadata": {},
   "source": [
    "# Difference Between Static and classmethods"
   ]
  },
  {
   "cell_type": "markdown",
   "id": "ae339823",
   "metadata": {},
   "source": [
    "<img src=\"pic/class_vs_static.png\">"
   ]
  },
  {
   "cell_type": "markdown",
   "id": "eede40d6",
   "metadata": {},
   "source": [
    "# Instance Methods\n",
    "\n",
    "* ##     A instance method is bound to the object of the class.\n",
    "* ##    It can access or modify the object state by changing the value of a instance variables"
   ]
  },
  {
   "cell_type": "code",
   "execution_count": 14,
   "id": "133b382f",
   "metadata": {},
   "outputs": [
    {
     "name": "stdout",
     "output_type": "stream",
     "text": [
      "Mubeen Ahmad\n"
     ]
    }
   ],
   "source": [
    "class Mubeen:\n",
    "    \n",
    "    # Constructor\n",
    "    def __init__(self,fname,lname):\n",
    "        \n",
    "        # instance variables\n",
    "        self.fname = fname\n",
    "        self.lname = lname\n",
    "        \n",
    "    \n",
    "    # instance method\n",
    "    def full_name(self):\n",
    "        print(self.fname,self.lname)\n",
    "\n",
    "s1 = Mubeen(\"Mubeen\",\"Ahmad\")\n",
    "\n",
    "s1.full_name()"
   ]
  },
  {
   "cell_type": "markdown",
   "id": "e240831c",
   "metadata": {},
   "source": [
    "# Modify Instance Variables inside Instance Method"
   ]
  },
  {
   "cell_type": "code",
   "execution_count": 19,
   "id": "90ed1d80",
   "metadata": {},
   "outputs": [
    {
     "name": "stdout",
     "output_type": "stream",
     "text": [
      "Mubeen Ahmad\n",
      "MR Root\n"
     ]
    }
   ],
   "source": [
    "class Mubeen:\n",
    "    \n",
    "    # Constructor\n",
    "    def __init__(self,fname,lname):\n",
    "        \n",
    "        # instance variables\n",
    "        self.fname = fname\n",
    "        self.lname = lname\n",
    "        \n",
    "    \n",
    "    # instance method\n",
    "    def full_name(self):\n",
    "        print(self.fname,self.lname)\n",
    "        \n",
    "    def update(self,fname,lname):\n",
    "        \n",
    "        self.fname = fname\n",
    "        self.lname = lname\n",
    "        print(fname,lname)\n",
    "\n",
    "\n",
    "s1 = Mubeen(\"Mubeen\",\"Ahmad\")\n",
    "\n",
    "s1.full_name()\n",
    "s1.update(\"MR\",\"Root\")"
   ]
  },
  {
   "cell_type": "markdown",
   "id": "da6ac140",
   "metadata": {},
   "source": [
    "# Add Instance Variables in Instance Method"
   ]
  },
  {
   "cell_type": "code",
   "execution_count": 33,
   "id": "203dcac9",
   "metadata": {},
   "outputs": [
    {
     "name": "stdout",
     "output_type": "stream",
     "text": [
      "Mubeen\n",
      "v1\n"
     ]
    }
   ],
   "source": [
    "class Student:\n",
    "    \n",
    "    # constructor\n",
    "    def __init__(self,name):\n",
    "        self.name = name\n",
    "    \n",
    "    # add new variable\n",
    "    def add_var(self,var):\n",
    "        self.var = var\n",
    "        \n",
    "s1 = Student(\"Mubeen\")\n",
    "\n",
    "print(s1.name)\n",
    "\n",
    "s1.add_var(\"v1\")\n",
    "print(s1.var)\n"
   ]
  },
  {
   "cell_type": "markdown",
   "id": "278d512c",
   "metadata": {},
   "source": [
    "# Dynamically Add Instance Method to a Object"
   ]
  },
  {
   "cell_type": "code",
   "execution_count": 43,
   "id": "11b179a5",
   "metadata": {},
   "outputs": [
    {
     "name": "stdout",
     "output_type": "stream",
     "text": [
      "Mubeen\n"
     ]
    },
    {
     "ename": "AttributeError",
     "evalue": "'Student' object has no attribute 'welcome'",
     "output_type": "error",
     "traceback": [
      "\u001b[0;31m---------------------------------------------------------------------------\u001b[0m",
      "\u001b[0;31mAttributeError\u001b[0m                            Traceback (most recent call last)",
      "Input \u001b[0;32mIn [43]\u001b[0m, in \u001b[0;36m<cell line: 16>\u001b[0;34m()\u001b[0m\n\u001b[1;32m     13\u001b[0m s1 \u001b[38;5;241m=\u001b[39m Student(\u001b[38;5;124m\"\u001b[39m\u001b[38;5;124mMubeen\u001b[39m\u001b[38;5;124m\"\u001b[39m)\n\u001b[1;32m     14\u001b[0m s1\u001b[38;5;241m.\u001b[39mshow()\n\u001b[0;32m---> 16\u001b[0m \u001b[43ms1\u001b[49m\u001b[38;5;241;43m.\u001b[39;49m\u001b[43mwelcome\u001b[49m()\n",
      "\u001b[0;31mAttributeError\u001b[0m: 'Student' object has no attribute 'welcome'"
     ]
    }
   ],
   "source": [
    "class Student:\n",
    "    \n",
    "    # constructor\n",
    "    def __init__(self,name):\n",
    "        self.name = name\n",
    "    \n",
    "    def show(self):\n",
    "        print(self.name)\n",
    "\n",
    "def welcome(self):\n",
    "    print(\"Welcome\",self.name)\n",
    "\n",
    "s1 = Student(\"Mubeen\")\n",
    "s1.show()\n",
    "\n",
    "s1.welcome()"
   ]
  },
  {
   "cell_type": "markdown",
   "id": "2379d6a9",
   "metadata": {},
   "source": [
    "# Use types module for add new instance method"
   ]
  },
  {
   "cell_type": "code",
   "execution_count": 49,
   "id": "002f8aec",
   "metadata": {},
   "outputs": [
    {
     "name": "stdout",
     "output_type": "stream",
     "text": [
      "Mubeen\n",
      "Welcome Mubeen\n"
     ]
    }
   ],
   "source": [
    "import types\n",
    "\n",
    "s1.name\n",
    "s1.show()\n",
    "\n",
    "def welcome(self):\n",
    "    print(\"Welcome\",self.name)\n",
    "\n",
    "s1.welcome = types.MethodType(welcome,s1)\n",
    "s1.welcome()"
   ]
  },
  {
   "cell_type": "markdown",
   "id": "6d400824",
   "metadata": {},
   "source": [
    "# Trying to Change Class Variable with instance method"
   ]
  },
  {
   "cell_type": "code",
   "execution_count": 38,
   "id": "da956670",
   "metadata": {},
   "outputs": [
    {
     "name": "stdout",
     "output_type": "stream",
     "text": [
      "False\n"
     ]
    },
    {
     "data": {
      "text/plain": [
       "True"
      ]
     },
     "execution_count": 38,
     "metadata": {},
     "output_type": "execute_result"
    }
   ],
   "source": [
    "class Mobile:\n",
    "    \n",
    "    alert = True\n",
    "    \n",
    "    # instance method\n",
    "    def __init__(self):\n",
    "        self.alert = False\n",
    "        print(self.alert)\n",
    "        \n",
    "Mobile()\n",
    "\n",
    "# Variable are not change\n",
    "Mobile.alert"
   ]
  },
  {
   "cell_type": "markdown",
   "id": "4a409a1b",
   "metadata": {},
   "source": [
    "# Trying to Change Class Variable with Class method"
   ]
  },
  {
   "cell_type": "code",
   "execution_count": 44,
   "id": "859d26cc",
   "metadata": {},
   "outputs": [
    {
     "data": {
      "text/plain": [
       "False"
      ]
     },
     "execution_count": 44,
     "metadata": {},
     "output_type": "execute_result"
    }
   ],
   "source": [
    "class Mobile:\n",
    "    \n",
    "    alert = True\n",
    "    \n",
    "    @classmethod\n",
    "    def __init__(cls):\n",
    "        cls.alert = False\n",
    "        \n",
    "\n",
    "Mobile()\n",
    "\n",
    "# Now Variable are change sucessfully\n",
    "Mobile.alert"
   ]
  },
  {
   "cell_type": "markdown",
   "id": "d61385d6",
   "metadata": {},
   "source": [
    "# Change Class Variable outside"
   ]
  },
  {
   "cell_type": "code",
   "execution_count": 72,
   "id": "29bedbcd",
   "metadata": {},
   "outputs": [
    {
     "name": "stdout",
     "output_type": "stream",
     "text": [
      "True\n",
      "True\n",
      "True\n"
     ]
    }
   ],
   "source": [
    "class Mobile:\n",
    "    \n",
    "    alert = True\n",
    "    \n",
    "m1 = Mobile()\n",
    "m2 = Mobile()\n",
    "m3 = Mobile()\n",
    "\n",
    "print(m1.alert)\n",
    "print(m2.alert)\n",
    "print(m3.alert)"
   ]
  },
  {
   "cell_type": "markdown",
   "id": "0b1189d6",
   "metadata": {},
   "source": [
    "## only change m1 object variable"
   ]
  },
  {
   "cell_type": "code",
   "execution_count": 73,
   "id": "71d1a2be",
   "metadata": {},
   "outputs": [],
   "source": [
    "m1.alert = False"
   ]
  },
  {
   "cell_type": "code",
   "execution_count": 74,
   "id": "7fa9ec72",
   "metadata": {},
   "outputs": [
    {
     "name": "stdout",
     "output_type": "stream",
     "text": [
      "False\n",
      "True\n",
      "True\n"
     ]
    }
   ],
   "source": [
    "print(m1.alert)\n",
    "print(m2.alert)\n",
    "print(m3.alert)"
   ]
  },
  {
   "cell_type": "markdown",
   "id": "3cef1d97",
   "metadata": {},
   "source": [
    "## Now Change variable with class"
   ]
  },
  {
   "cell_type": "code",
   "execution_count": 75,
   "id": "5828df91",
   "metadata": {},
   "outputs": [],
   "source": [
    "Mobile.alert = False"
   ]
  },
  {
   "cell_type": "code",
   "execution_count": 76,
   "id": "cd5ba3a2",
   "metadata": {},
   "outputs": [
    {
     "name": "stdout",
     "output_type": "stream",
     "text": [
      "False\n",
      "False\n",
      "False\n"
     ]
    }
   ],
   "source": [
    "print(m1.alert)\n",
    "print(m2.alert)\n",
    "print(m3.alert)"
   ]
  },
  {
   "cell_type": "markdown",
   "id": "bcb7810a",
   "metadata": {},
   "source": [
    "# Passing Member to one class to other"
   ]
  },
  {
   "cell_type": "code",
   "execution_count": 100,
   "id": "42f0e632",
   "metadata": {},
   "outputs": [
    {
     "ename": "AttributeError",
     "evalue": "'Show' object has no attribute 'name'",
     "output_type": "error",
     "traceback": [
      "\u001b[0;31m---------------------------------------------------------------------------\u001b[0m",
      "\u001b[0;31mAttributeError\u001b[0m                            Traceback (most recent call last)",
      "Input \u001b[0;32mIn [100]\u001b[0m, in \u001b[0;36m<cell line: 15>\u001b[0;34m()\u001b[0m\n\u001b[1;32m     10\u001b[0m         \u001b[38;5;28mprint\u001b[39m(\u001b[38;5;28mself\u001b[39m\u001b[38;5;241m.\u001b[39mname)\n\u001b[1;32m     13\u001b[0m u1 \u001b[38;5;241m=\u001b[39m Member(\u001b[38;5;124m\"\u001b[39m\u001b[38;5;124mm\u001b[39m\u001b[38;5;124m\"\u001b[39m)\n\u001b[0;32m---> 15\u001b[0m \u001b[43mShow\u001b[49m\u001b[43m(\u001b[49m\u001b[43mu1\u001b[49m\u001b[43m)\u001b[49m\n",
      "Input \u001b[0;32mIn [100]\u001b[0m, in \u001b[0;36mShow.__init__\u001b[0;34m(self, name)\u001b[0m\n\u001b[1;32m      9\u001b[0m \u001b[38;5;28;01mdef\u001b[39;00m \u001b[38;5;21m__init__\u001b[39m(\u001b[38;5;28mself\u001b[39m,name):\n\u001b[0;32m---> 10\u001b[0m     \u001b[38;5;28mprint\u001b[39m(\u001b[38;5;28;43mself\u001b[39;49m\u001b[38;5;241;43m.\u001b[39;49m\u001b[43mname\u001b[49m)\n",
      "\u001b[0;31mAttributeError\u001b[0m: 'Show' object has no attribute 'name'"
     ]
    }
   ],
   "source": [
    "class Member:\n",
    "    \n",
    "    def __init__(self,name):\n",
    "        self.name = name\n",
    "\n",
    "\n",
    "class Show:\n",
    "    \n",
    "    def __init__(self,name):\n",
    "        print(self.name)\n",
    "        \n",
    "\n",
    "u1 = Member(\"m\")\n",
    "\n",
    "Show(u1)"
   ]
  },
  {
   "cell_type": "markdown",
   "id": "a4525157",
   "metadata": {},
   "source": [
    "# Used Staticmethod to solve Error"
   ]
  },
  {
   "cell_type": "code",
   "execution_count": 6,
   "id": "afabdd4d",
   "metadata": {},
   "outputs": [
    {
     "name": "stdout",
     "output_type": "stream",
     "text": [
      "Mubeen\n"
     ]
    },
    {
     "data": {
      "text/plain": [
       "<__main__.Show at 0x7f12204cf790>"
      ]
     },
     "execution_count": 6,
     "metadata": {},
     "output_type": "execute_result"
    }
   ],
   "source": [
    "class Member:\n",
    "    \n",
    "    def __init__(self,name):\n",
    "        self.name = name\n",
    "\n",
    "\n",
    "class Show:\n",
    "    \n",
    "    @staticmethod\n",
    "    def __init__(self):\n",
    "        print(self.name)\n",
    "        \n",
    "\n",
    "u1 = Member(\"Mubeen\")\n",
    "\n",
    "Show(u1)"
   ]
  }
 ],
 "metadata": {
  "kernelspec": {
   "display_name": "Python 3 (ipykernel)",
   "language": "python",
   "name": "python3"
  },
  "language_info": {
   "codemirror_mode": {
    "name": "ipython",
    "version": 3
   },
   "file_extension": ".py",
   "mimetype": "text/x-python",
   "name": "python",
   "nbconvert_exporter": "python",
   "pygments_lexer": "ipython3",
   "version": "3.9.2"
  }
 },
 "nbformat": 4,
 "nbformat_minor": 5
}
