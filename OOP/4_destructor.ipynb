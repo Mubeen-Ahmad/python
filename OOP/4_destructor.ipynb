{
 "cells": [
  {
   "cell_type": "markdown",
   "id": "cb458530",
   "metadata": {},
   "source": [
    "# Destructor\n",
    "## Destructor is a special method that is called when an object gets destroyed.\n",
    "\n",
    "### A destructor is called when an object is deleted or destroyed. Destructor is used to perform the clean-up activity before destroying the object, such as closing database connections or filehandle.\n"
   ]
  },
  {
   "cell_type": "code",
   "execution_count": 9,
   "id": "f1d88753",
   "metadata": {},
   "outputs": [],
   "source": [
    "class Route:\n",
    "    \n",
    "    def __init__(self):\n",
    "        self.name = \"Mubeen\"\n",
    "        \n",
    "\n",
    "    def __del__(self):\n",
    "        print(\"constructor are delected\")\n",
    "    \n",
    "    def show(self):\n",
    "        print(self.name)\n"
   ]
  },
  {
   "cell_type": "code",
   "execution_count": 10,
   "id": "a7ff833f",
   "metadata": {},
   "outputs": [
    {
     "name": "stdout",
     "output_type": "stream",
     "text": [
     "Mubeen\n",
      "constructor are delected\n"
     ]
    }
   ],
   "source": [
    "obj = Route()\n",
    "obj.show()"
   ]
  },
  {
   "cell_type": "markdown",
   "id": "62f9c0f6",
   "metadata": {},
   "source": [
    "## Python has a garbage collector that handles memory management automatically. \n",
    "## For example, it cleans up the memory when an object goes out of scope.\n",
    "\n",
    "\n",
    "### But it’s not just memory that has to be freed when an object is destroyed. \n",
    "### We must release or close the other resources object were using, such as open files, database connections, cleaning up the buffer or cache. To perform all those cleanup tasks we use destructor in Python. "
   ]
  },
  {
   "cell_type": "markdown",
   "id": "cd651ecf",
   "metadata": {},
   "source": [
    "## The destructor is the reverse of the constructor. \n",
    "### The constructor is used to initialize objects, while the destructor is used to delete or destroy the object that releases the resource occupied by the object.\n",
    "\n",
    "\n",
    "# Example 2"
   ]
  },
  {
   "cell_type": "code",
   "execution_count": 8,
   "id": "cc983a46",
   "metadata": {},
   "outputs": [
    {
     "name": "stdout",
     "output_type": "stream",
     "text": [
      "Inside Constructor\n",
      "Object initialized\n",
      "Hello, my name is Mubeen\n",
      "Inside destructor\n",
      "Object destroyed\n"
     ]
    }
   ],
   "source": [
    "class Student:\n",
    "\n",
    "    # constructor\n",
    "    def __init__(self, name):\n",
    "        print('Inside Constructor')\n",
    "        self.name = name\n",
    "        print('Object initialized')\n",
    "\n",
    "    def show(self):\n",
    "        print('Hello, my name is', self.name)\n",
    "\n",
    "    # destructor\n",
    "    def __del__(self):\n",
    "        print('Inside destructor')\n",
    "        print('Object destroyed')\n",
    "\n",
    "# create object\n",
    "s1 = Student('Mubeen')\n",
    "s1.show()\n",
    "\n",
    "# delete object\n",
    "del s1\n"
   ]
  },
  {
   "cell_type": "markdown",
   "id": "769076af",
   "metadata": {},
   "source": [
    "## In Python, destructor is not called manually but completely automatic. destructor gets called in the following two cases\n",
    "\n",
    "* ## When an object goes out of scope or\n",
    "* ## The reference counter of the object reaches 0."
   ]
  },
  {
   "cell_type": "markdown",
   "id": "96c81cce",
   "metadata": {},
   "source": [
    "# Important Points to Remember about Destructor\n",
    "\n",
    "* ## The `__del__` method is called for any object when the reference count for that object becomes zero.\n",
    "\n",
    "* ## The reference count for that object becomes zero when the application ends, or we delete all references manually using the del keyword.\n",
    "    \n",
    "* ## The destructor will not invoke when we delete object reference. It will only invoke when all references to the objects get deleted."
   ]
  },
  {
   "cell_type": "markdown",
   "id": "f41dc05c",
   "metadata": {},
   "source": [
    "# Let’s understand the above points using the example.\n",
    "\n",
    "* ## First create object of a student class using `s1 = student('Mubeen')`\n",
    "    \n",
    "* ## Next, create a new object reference `s2` by assigning `s1` to `s2` using `s2=s1`\n",
    "\n",
    "* ## Now, both reference variables `s1` and `s2` point to the same object.\n",
    "\n",
    "* ## Next, we deleted reference `s1` using `del s1`\n",
    "\n",
    "* ## Next, we have added 5 seconds of sleep to the main thread to understand that destructors only invoke when all references to the objects get deleted."
   ]
  },
  {
   "cell_type": "code",
   "execution_count": 15,
   "id": "6c456095",
   "metadata": {},
   "outputs": [
    {
     "name": "stdout",
     "output_type": "stream",
     "text": [
      "Inside Constructor\n",
      "My name is Mubeen\n",
      "After Sleep\n",
      "My name is Mubeen\n",
      "Object are Destroyed\n"

     ]
    }
   ],
   "source": [
    "class Student:\n",
    "    \n",
    "    # constructor\n",
    "    def __init__(self,name):\n",
    "        print(\"Inside Constructor\")\n",
    "        self.name = name\n",
    "        \n",
    "    def show(self):\n",
    "        print(\"My name is\",self.name)\n",
    "    \n",
    "    # destructor\n",
    "    def __del__(self):\n",
    "        print(\"Object are Destroyed\")\n",
    "        \n",
    "    \n",
    "# create object\n",
    "s1 = Student(\"Mubeen\")\n",
    "\n",
    "# create a new reference\n",
    "s2 = s1\n",
    "s1.show()\n",
    "\n",
    "# delete s1 object \n",
    "del s1\n",
    "\n",
    "# sleep \n",
    "import time\n",
    "time.sleep(5)\n",
    "\n",
    "print(\"After Sleep\")\n",
    "\n",
    "s2.show()\n"
   ]
  },
  {
   "cell_type": "markdown",
   "id": "c9a8667d",
   "metadata": {},
   "source": [
    "* ## As you can see in the output destructors only invoked when all references to the objects get deleted.\n",
    "\n",
    "* ## Also, the destructor is executed when the code (application) ends and the object is available for the garbage collector. (I.e., we didn’t delete object reference s2 manually using del s2)."
   ]
  },
  {
   "cell_type": "markdown",
   "id": "815f908c",
   "metadata": {},
   "source": [
    "# Cases when Destructor doesn’t work Correctly\n",
    "\n",
    "## The __del__ is not a perfect solution to clean up a Python object when it is no longer required. \n",
    "\n",
    "## In Python, the destructor behave behaves weirdly and doesn’t execute in the following two cases.\n",
    "\n",
    "* ## Circular referencing when two objects refer to each other\n",
    "* ## Exception occured in `__init__()` method"
   ]
  },
  {
   "cell_type": "markdown",
   "id": "28203e05",
   "metadata": {},
   "source": [
    "# Circular Referencing\n",
    "\n",
    "## The `__del()__()` doesn’t work correctly in the case of circular referencing. \n",
    "## In circular referencing occurs when two objects refer to each other. \n",
    "\n",
    "\n",
    "* ## When both objects go out of scope, Python doesn’t know which object to destroy first. So, to avoid any errors, it doesn’t destroy any of them.\n",
    "\n",
    "* ## In short, it means that the garbage collector does not know the order in which the object should be destroyed, so it doesn’t delete them from memory.\n",
    "\n",
    "* ## Ideally, the destructor must execute when an object goes out of scope, or its reference count reaches zero.\n",
    "\n",
    "* ## But the objects involved in this circular reference will remain stored in the memory as long as the application will run."
   ]
  },
  {
   "cell_type": "markdown",
   "id": "15fae5b6",
   "metadata": {},
   "source": [
    "# Example"
   ]
  },
  {
   "cell_type": "code",
   "execution_count": 31,
   "id": "12053c15",
   "metadata": {},
   "outputs": [
    {
     "name": "stdout",
     "output_type": "stream",
     "text": [
      "Vehicle 12 created\n",
      "Car 12 created\n"
     ]
    }
   ],
   "source": [
    "import time\n",
    "\n",
    "class Car():\n",
    "    \n",
    "    def __init__(self, id):\n",
    "        \n",
    "        self.id = id;\n",
    "        \n",
    "        # saving Vehicle class object in 'dealer' variable\n",
    "        # Sending reference of Car object ('self') for Vehicle object\n",
    "        \n",
    "        self.dealer = Vehicle(id, self);\n",
    "        print('Car', self.id, 'created')\n",
    "\n",
    "    def __del__(self):\n",
    "        print('Car', self.id, 'destroyed')\n",
    "\n",
    "\n",
    "# create car object\n",
    "c = Car(12)\n",
    "# delete car object\n",
    "del c\n",
    "# ideally destructor must execute now\n",
    "\n",
    "# to observe the behavior\n",
    "time.sleep(3)"
   ]
  },
  {
   "cell_type": "code",
   "execution_count": 32,
   "id": "9190fe3a",
   "metadata": {},
   "outputs": [
    {
     "name": "stdout",
     "output_type": "stream",
     "text": [
      "Car 12 destroyed\n",
      "Car 12 destroyed\n",
      "Car 12 destroyed\n",
      "Car 12 destroyed\n",
      "Vehicle 12 destroyed\n",
      "Car 12 destroyed\n",
      "Vehicle 12 destroyed\n",
      "Car 12 destroyed\n",
      "Vehicle 12 destroyed\n",
      "Car 12 destroyed\n",
      "Vehicle 12 destroyed\n"
     ]
    },
    {
     "ename": "Exception",
     "evalue": "Not Allowed",
     "output_type": "error",
     "traceback": [
      "\u001b[0;31m---------------------------------------------------------------------------\u001b[0m",
      "\u001b[0;31mException\u001b[0m                                 Traceback (most recent call last)",
      "Input \u001b[0;32mIn [32]\u001b[0m, in \u001b[0;36m<cell line: 12>\u001b[0;34m()\u001b[0m\n\u001b[1;32m      9\u001b[0m         \u001b[38;5;28mprint\u001b[39m(\u001b[38;5;124m'\u001b[39m\u001b[38;5;124mRelease resources\u001b[39m\u001b[38;5;124m'\u001b[39m)\n\u001b[1;32m     11\u001b[0m \u001b[38;5;66;03m# creating an object\u001b[39;00m\n\u001b[0;32m---> 12\u001b[0m car \u001b[38;5;241m=\u001b[39m \u001b[43mVehicle\u001b[49m\u001b[43m(\u001b[49m\u001b[38;5;241;43m350\u001b[39;49m\u001b[43m)\u001b[49m;\n\u001b[1;32m     14\u001b[0m \u001b[38;5;66;03m# to delete the object explicitly\u001b[39;00m\n\u001b[1;32m     15\u001b[0m \u001b[38;5;28;01mdel\u001b[39;00m car\n",
      "Input \u001b[0;32mIn [32]\u001b[0m, in \u001b[0;36mVehicle.__init__\u001b[0;34m(self, speed)\u001b[0m\n\u001b[1;32m      2\u001b[0m \u001b[38;5;28;01mdef\u001b[39;00m \u001b[38;5;21m__init__\u001b[39m(\u001b[38;5;28mself\u001b[39m, speed):\n\u001b[1;32m      4\u001b[0m     \u001b[38;5;28;01mif\u001b[39;00m speed \u001b[38;5;241m>\u001b[39m \u001b[38;5;241m240\u001b[39m:\n\u001b[0;32m----> 5\u001b[0m         \u001b[38;5;28;01mraise\u001b[39;00m \u001b[38;5;167;01mException\u001b[39;00m(\u001b[38;5;124m'\u001b[39m\u001b[38;5;124mNot Allowed\u001b[39m\u001b[38;5;124m'\u001b[39m);\n\u001b[1;32m      6\u001b[0m     \u001b[38;5;28mself\u001b[39m\u001b[38;5;241m.\u001b[39mspeed \u001b[38;5;241m=\u001b[39m speed\n",
      "\u001b[0;31mException\u001b[0m: Not Allowed"
     ]
    }
   ],
   "source": [
    "class Vehicle:\n",
    "    def __init__(self, speed):\n",
    "        \n",
    "        if speed > 240:\n",
    "            raise Exception('Not Allowed');\n",
    "        self.speed = speed;\n",
    "\n",
    "    def __del__(self):\n",
    "        print('Release resources')\n",
    "\n",
    "# creating an object\n",
    "car = Vehicle(350);\n",
    "\n",
    "# to delete the object explicitly\n",
    "del car\n"
   ]
  }
 ],
 "metadata": {
  "kernelspec": {
   "display_name": "Python 3 (ipykernel)",
   "language": "python",
   "name": "python3"
  },
  "language_info": {
   "codemirror_mode": {
    "name": "ipython",
    "version": 3
   },
   "file_extension": ".py",
   "mimetype": "text/x-python",
   "name": "python",
   "nbconvert_exporter": "python",
   "pygments_lexer": "ipython3",
   "version": "3.9.2"
  }
 },
 "nbformat": 4,
 "nbformat_minor": 5
}
