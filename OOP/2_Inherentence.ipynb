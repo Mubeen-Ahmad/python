{
 "cells": [
  {
   "cell_type": "markdown",
   "id": "d022ef5b",
   "metadata": {},
   "source": [
    "# Inheritance\n",
    "\n",
    "## Inheritance allows us to define a class that inherits all the methods and properties from another class"
   ]
  },
  {
   "cell_type": "markdown",
   "id": "4ea2d910",
   "metadata": {},
   "source": [
    "# Types Of Inheritance\n",
    "\n",
    "* ## Single inheritance\n",
    "* ## Multiple Inheritance\n",
    "* ## Multilevel inheritance\n",
    "* ## Hierarchical Inheritance\n",
    "* ## Hybrid Inheritance"
   ]
  },
  {
   "cell_type": "markdown",
   "id": "13388bde",
   "metadata": {},
   "source": [
    "# Single Inheritance\n",
    "\n",
    "##  In single inheritance, a child class inherits from a single-parent class. Here is one child class and one parent class.\n",
    "\n",
    "<img src=\"pic/single.jpg\">\n",
    "\n",
    "## Only Child can access Parent variables"
   ]
  },
  {
   "cell_type": "code",
   "execution_count": 12,
   "id": "f16f677f",
   "metadata": {},
   "outputs": [
    {
     "data": {
      "text/plain": [
       "'Parent'"
      ]
     },
     "execution_count": 12,
     "metadata": {},
     "output_type": "execute_result"
    }
   ],
   "source": [
    "class Parent:\n",
    "    a = \"Parent\"\n",
    "\n",
    "class Child(Parent):\n",
    "    b = \"Child\"\n",
    "\n",
    "Child().a"
   ]
  },
  {
   "cell_type": "markdown",
   "id": "4d9c5517",
   "metadata": {},
   "source": [
    "# Multiple Inheritance\n",
    "\n",
    "## In multiple inheritance, one child class can inherit from multiple parent classes. So here is one child class and multiple parent classes.\n",
    "\n",
    "\n",
    "<img src=\"pic/multiple.png\">\n",
    "\n",
    "## Only Child can access Parent 1 and Parent 2 variables"
   ]
  },
  {
   "cell_type": "code",
   "execution_count": 17,
   "id": "6610ef99",
   "metadata": {},
   "outputs": [
    {
     "name": "stdout",
     "output_type": "stream",
     "text": [
      "Parent 1\n",
      "Parent 2\n",
      "Child\n"
     ]
    }
   ],
   "source": [
    "class Parent1:\n",
    "    a = \"Parent 1\"\n",
    "\n",
    "class Parent2:\n",
    "    b = \"Parent 2\"\n",
    "    \n",
    "class Child(Parent2,Parent1):\n",
    "    c = \"Child\"\n",
    "\n",
    "print(Child().a)\n",
    "print(Child().b)\n",
    "print(Child().c)"
   ]
  },
  {
   "cell_type": "markdown",
   "id": "9a1bb857",
   "metadata": {},
   "source": [
    "# Multilevel inheritance\n",
    "\n",
    "## In multilevel inheritance, a class inherits from a child class or derived class. \n",
    "## Suppose three classes A, B, C. \n",
    "## A is the superclass, \n",
    "## B is the child class of A, \n",
    "## C is the child class of B. \n",
    "\n",
    "## In other words, we can say a chain of classes is called multilevel inheritance.\n",
    "\n",
    "<img src=\"pic/mul_level.png\">\n",
    "\n",
    "## Child 2 access Child1 and Parent variables\n",
    "## Child1 access only Parent variables"
   ]
  },
  {
   "cell_type": "code",
   "execution_count": 41,
   "id": "48d86c86",
   "metadata": {},
   "outputs": [
    {
     "name": "stdout",
     "output_type": "stream",
     "text": [
      "Child 2 Child 1 Parent\n",
      "Child 1 Parent\n"
     ]
    }
   ],
   "source": [
    "class Parent:\n",
    "    a = \"Parent\"\n",
    "\n",
    "class Child1(Parent):\n",
    "    b = \"Child 1\"\n",
    "    \n",
    "class Child2(Child1):\n",
    "    c = \"Child 2\"\n",
    "\n",
    "print(Child2.c,Child2.b,Child2.a)\n",
    "print(Child1.b,Child1.a)"
   ]
  },
  {
   "cell_type": "markdown",
   "id": "25b82182",
   "metadata": {},
   "source": [
    "# Hierarchical Inheritance\n",
    "\n",
    "## In Hierarchical inheritance, more than one child class is derived from a single parent class. \n",
    "## In other words, we can say one parent class and multiple child classes.\n",
    "\n",
    "<img src=\"pic/her.png\">\n",
    "\n",
    "## All Child only acces Parent Class Variables"
   ]
  },
  {
   "cell_type": "code",
   "execution_count": 48,
   "id": "78fdbca5",
   "metadata": {},
   "outputs": [
    {
     "name": "stdout",
     "output_type": "stream",
     "text": [
      "Child 3 Father Class\n",
      "Child 2 Father Class\n",
      "Child 1 Father Class\n"
     ]
    }
   ],
   "source": [
    "class Parent:\n",
    "    cls = \"Father Class\"\n",
    "\n",
    "class Child1(Parent):\n",
    "    cls1 = \"Child 1\"\n",
    "\n",
    "class Child2(Parent):\n",
    "    cls2 = \"Child 2\"\n",
    "\n",
    "class Child3(Parent):\n",
    "    cls3 = \"Child 3\"\n",
    "    \n",
    "print(Child3.cls3,Child3.cls)\n",
    "print(Child2.cls2,Child2.cls)\n",
    "print(Child1.cls1,Child1.cls)"
   ]
  },
  {
   "cell_type": "markdown",
   "id": "2c97a8ea",
   "metadata": {},
   "source": [
    "# Hybrid Inheritance\n",
    "\n",
    "## When inheritance is consists of multiple types or a combination of different inheritance is called hybrid inheritance.\n",
    "\n",
    "<img src=\"pic/hr.png\">\n",
    "\n",
    "## Child 3 access all class variables\n",
    "## Child 2 access only Parent class variable\n",
    "## Child 1 access only Parent class variable"
   ]
  },
  {
   "cell_type": "code",
   "execution_count": 63,
   "id": "05b7cc6a",
   "metadata": {},
   "outputs": [
    {
     "name": "stdout",
     "output_type": "stream",
     "text": [
      "Child 3 Child 2 Child 1 Parent\n",
      "Child 2 Parent\n",
      "Child 1 Parent\n"
     ]
    }
   ],
   "source": [
    "class Parent:\n",
    "    p = \"Parent\"\n",
    "    \n",
    "class Child1(Parent):\n",
    "    ch1 = \"Child 1\"\n",
    "\n",
    "class Child2(Parent):\n",
    "    ch2 = \"Child 2\"\n",
    "\n",
    "class Child3(Child1,Child2):\n",
    "    ch3 = \"Child 3\"\n",
    "\n",
    "print(Child3().ch3,Child3().ch2,Child3().ch1,Child3().p)\n",
    "print(Child2().ch2,Child2().p)\n",
    "print(Child1().ch1,Child1().p)\n"
   ]
  },
  {
   "cell_type": "markdown",
   "id": "6a66995b",
   "metadata": {},
   "source": [
    "# Method Overriding\n",
    "\n",
    "## if we write method in the both classed, parent class and child class then the parent class's method is not avilable to the child class\n",
    "\n",
    "\n",
    "## In this case only child class's method is accessible which means child class's method is replacing parent class's method.\n",
    "\n",
    "## Method overriding is used when programmer want to modify the existing behavior of a Method"
   ]
  },
  {
   "cell_type": "code",
   "execution_count": 64,
   "id": "53b0ec69",
   "metadata": {},
   "outputs": [
    {
     "name": "stdout",
     "output_type": "stream",
     "text": [
      "Multiplication  6\n"
     ]
    }
   ],
   "source": [
    "class Add:\n",
    "    \n",
    "    def result(self,a,b):\n",
    "        print(\"Addition \",a+b)\n",
    "\n",
    "class Multi(Add):\n",
    "    \n",
    "    def result(self,a,b):\n",
    "        print(\"Multiplication \",a*b)\n",
    "\n",
    "obj = Multi()\n",
    "obj.result(3,2)\n",
    "\n",
    "# Here child class result method are Override"
   ]
  },
  {
   "cell_type": "markdown",
   "id": "92b3d0c3",
   "metadata": {},
   "source": [
    "# How to used Parent class method ?"
   ]
  },
  {
   "cell_type": "markdown",
   "id": "403e0c2c",
   "metadata": {},
   "source": [
    "# Super() Method / Constructor\n",
    "\n",
    "# super() method is used to call parent class's constructor or Methods from the child class"
   ]
  },
  {
   "cell_type": "code",
   "execution_count": 65,
   "id": "f7fbec5c",
   "metadata": {},
   "outputs": [
    {
     "name": "stdout",
     "output_type": "stream",
     "text": [
      "Addition  5\n",
      "Multiplication  6\n"
     ]
    }
   ],
   "source": [
    "class Add:\n",
    "    \n",
    "    def result(self,a,b):\n",
    "        print(\"Addition \",a+b)\n",
    "\n",
    "class Multi(Add):\n",
    "    \n",
    "    def result(self,a,b):\n",
    "        super().result(a,b)\n",
    "        print(\"Multiplication \",a*b)\n",
    "\n",
    "obj = Multi()\n",
    "obj.result(3,2)"
   ]
  },
  {
   "cell_type": "markdown",
   "id": "6a3a726d",
   "metadata": {},
   "source": [
    "# Example 2 Super() Method / Constructor"
   ]
  },
  {
   "cell_type": "code",
   "execution_count": 66,
   "id": "f9164ffa",
   "metadata": {},
   "outputs": [
    {
     "name": "stdout",
     "output_type": "stream",
     "text": [
      "Call Father class constructor\n",
      "Call Child class constructor\n",
      "1000\n"
     ]
    }
   ],
   "source": [
    "class Father:\n",
    "    \n",
    "    def __init__(self,m):\n",
    "        self.money = m\n",
    "        print(\"Call Father class constructor\")\n",
    "        \n",
    "class Child(Father):\n",
    "    \n",
    "    def __init__(self,m):\n",
    "        super().__init__(m)\n",
    "        print(\"Call Child class constructor\")\n",
    "        print(self.money)\n",
    "        \n",
    "obj = Child(1000)"
   ]
  },
  {
   "cell_type": "markdown",
   "id": "661574b6",
   "metadata": {},
   "source": [
    "# issubclass() \n",
    "\n",
    "##  In Python, we can verify whether a particular class is a subclass of another class. \n",
    "## For this purpose, we can use Python built-in function issubclass(). \n",
    "## This function returns True if the given class is the subclass of the specified class. Otherwise, it returns False."
   ]
  },
  {
   "cell_type": "code",
   "execution_count": 70,
   "id": "fdbfbb45",
   "metadata": {},
   "outputs": [
    {
     "name": "stdout",
     "output_type": "stream",
     "text": [
      "True\n",
      "False\n"
     ]
    }
   ],
   "source": [
    "class Parent:\n",
    "    ...\n",
    "\n",
    "class Child(Parent):\n",
    "    ...\n",
    "\n",
    "class Child2:\n",
    "    ...\n",
    "\n",
    "print(issubclass(Child,Parent))\n",
    "print(issubclass(Child2,Parent))\n"
   ]
  },
  {
   "cell_type": "markdown",
   "id": "4091df4c",
   "metadata": {},
   "source": [
    "# Method Resolution Order in Python\n",
    "\n",
    "## In Python, Method Resolution Order(MRO) is the order by which Python looks for a method or attribute. \n",
    "## First, the method or attribute is searched within a class, and then it follows the order we specified while inheriting.\n",
    "\n",
    "## This order is also called the Linearization of a class, and a set of rules is called MRO (Method Resolution Order). \n",
    "## The MRO plays an essential role in multiple inheritances as a single method may found in multiple parent classes."
   ]
  },
  {
   "cell_type": "code",
   "execution_count": 74,
   "id": "3d7cd115",
   "metadata": {},
   "outputs": [
    {
     "name": "stdout",
     "output_type": "stream",
     "text": [
      "[<class '__main__.C'>, <class '__main__.B'>, <class '__main__.A'>, <class 'object'>]\n",
      "[<class '__main__.B'>, <class '__main__.A'>, <class 'object'>]\n"
     ]
    }
   ],
   "source": [
    "class A:\n",
    "    ...\n",
    "\n",
    "class B(A):\n",
    "    ...\n",
    "\n",
    "class C(B):\n",
    "    ...\n",
    "    \n",
    "print(C.mro())\n",
    "print(B.mro())\n"
   ]
  }
 ],
 "metadata": {
  "kernelspec": {
   "display_name": "Python 3 (ipykernel)",
   "language": "python",
   "name": "python3"
  },
  "language_info": {
   "codemirror_mode": {
    "name": "ipython",
    "version": 3
   },
   "file_extension": ".py",
   "mimetype": "text/x-python",
   "name": "python",
   "nbconvert_exporter": "python",
   "pygments_lexer": "ipython3",
   "version": "3.9.2"
  }
 },
 "nbformat": 4,
 "nbformat_minor": 5
}
