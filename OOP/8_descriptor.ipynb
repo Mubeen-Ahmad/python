{
 "cells": [
  {
   "cell_type": "markdown",
   "id": "25020b2f",
   "metadata": {},
   "source": [
    "# Descriptors\n",
    "## Descriptors are Python objects that implement a method of the descriptor protocol, which gives you the ability to create objects that have special behavior when they’re accessed as attributes of other objects. \n",
    "\n",
    "# Here you can see the correct definition of the descriptor protocol:"
   ]
  },
  {
   "cell_type": "markdown",
   "id": "0cf35e84",
   "metadata": {},
   "source": [
    "`__get__(self, obj, type=None) -> object`\n",
    "\n",
    "` __set__(self, obj, value) -> None `\n",
    "\n",
    "` __delete__(self, obj) -> None`\n",
    "\n",
    "`__set_name__(self, owner, name)`\n"
   ]
  },
  {
   "cell_type": "markdown",
   "id": "981737a0",
   "metadata": {},
   "source": [
    "\n",
    "# `__get__`\n",
    "\n",
    "## Python __get__ Magic Method. Python's __get__() magic method defines the dynamic return value when accessing a specific instance and class attribute.\n",
    "\n",
    "\n",
    "## `__get__` method take three Argument self, instance, owner"
   ]
  },
  {
   "cell_type": "code",
   "execution_count": 141,
   "id": "41eb1396",
   "metadata": {},
   "outputs": [
    {
     "name": "stdout",
     "output_type": "stream",
     "text": [
      "Inside class Ten\n"
     ]
    }
   ],
   "source": [
    "class Ten:\n",
    "    print(\"Inside class Ten\")\n",
    "    def __get__(self, obj,objtype=None):\n",
    "        print(\"CALL GET METHOD\")\n",
    "        return 10"
   ]
  },
  {
   "cell_type": "code",
   "execution_count": 142,
   "id": "fc82fc59",
   "metadata": {},
   "outputs": [
    {
     "data": {
      "text/plain": [
       "<__main__.Ten at 0x7fc9ab3da610>"
      ]
     },
     "execution_count": 142,
     "metadata": {},
     "output_type": "execute_result"
    }
   ],
   "source": [
    "var = Ten()\n",
    "var"
   ]
  },
  {
   "cell_type": "markdown",
   "id": "58ffebfb",
   "metadata": {},
   "source": [
    "## it must be stored as a class variable in another class:"
   ]
  },
  {
   "cell_type": "code",
   "execution_count": 143,
   "id": "dc3cad76",
   "metadata": {},
   "outputs": [
    {
     "name": "stdout",
     "output_type": "stream",
     "text": [
      "Inside Class A\n",
      "Inside Class A\n"
     ]
    }
   ],
   "source": [
    "class A:\n",
    "    print(\"Inside Class A\")\n",
    "    y = Ten()\n",
    "    print(\"Inside Class A\")\n",
    "    "
   ]
  },
  {
   "cell_type": "markdown",
   "id": "517dd006",
   "metadata": {},
   "source": [
    "### Make an instance of class A"
   ]
  },
  {
   "cell_type": "code",
   "execution_count": 144,
   "id": "1ec955aa",
   "metadata": {},
   "outputs": [],
   "source": [
    "a = A()"
   ]
  },
  {
   "cell_type": "markdown",
   "id": "c1bc2fe2",
   "metadata": {},
   "source": [
    "# When we access the y variable then get method call itself"
   ]
  },
  {
   "cell_type": "code",
   "execution_count": 145,
   "id": "99e99e02",
   "metadata": {},
   "outputs": [
    {
     "name": "stdout",
     "output_type": "stream",
     "text": [
      "CALL GET METHOD\n"
     ]
    },
    {
     "data": {
      "text/plain": [
       "10"
      ]
     },
     "execution_count": 145,
     "metadata": {},
     "output_type": "execute_result"
    }
   ],
   "source": [
    "a.y"
   ]
  },
  {
   "cell_type": "markdown",
   "id": "2cdacf7f",
   "metadata": {},
   "source": [
    "# Example 1"
   ]
  },
  {
   "cell_type": "code",
   "execution_count": 149,
   "id": "b647ba23",
   "metadata": {},
   "outputs": [
    {
     "name": "stdout",
     "output_type": "stream",
     "text": [
      "Inside Name Class\n",
      "End Name Class\n",
      "Inside Std Class\n",
      "End Std Class\n"
     ]
    }
   ],
   "source": [
    "class Name:   \n",
    "    print(\"Inside Name Class\")\n",
    "    def __get__(self,instance,owner):\n",
    "        print(\"Instance =\",instance,owner)\n",
    "        print(\"owner =\",owner)\n",
    "        return \"Mubeen\"\n",
    "    print(\"End Name Class\")\n",
    "\n",
    "class Std:\n",
    "    print(\"Inside Std Class\")\n",
    "\n",
    "    temp = Name()\n",
    "    \n",
    "    print(\"End Std Class\")\n",
    "\n",
    "        \n",
    "obj = Std()\n"
   ]
  },
  {
   "cell_type": "code",
   "execution_count": 150,
   "id": "d1fa877e",
   "metadata": {},
   "outputs": [
    {
     "name": "stdout",
     "output_type": "stream",
     "text": [
      "Instance = <__main__.Std object at 0x7fc9ab3dcb80> <class '__main__.Std'>\n",
      "owner = <class '__main__.Std'>\n"
     ]
    },
    {
     "data": {
      "text/plain": [
       "'Mubeen'"
      ]
     },
     "execution_count": 150,
     "metadata": {},
     "output_type": "execute_result"
    }
   ],
   "source": [
    "obj.temp"
   ]
  },
  {
   "cell_type": "markdown",
   "id": "a67e2a48",
   "metadata": {},
   "source": [
    "# Example 2"
   ]
  },
  {
   "cell_type": "code",
   "execution_count": 2,
   "id": "f528057a",
   "metadata": {},
   "outputs": [
    {
     "name": "stdout",
     "output_type": "stream",
     "text": [
      "Inside Name Class\n",
      "End Name Class\n"
     ]
    }
   ],
   "source": [
    "class Name:  \n",
    "    \n",
    "    print(\"Inside Name Class\")\n",
    "    \n",
    "    def __get__(self,instance,owner):\n",
    "        print(\"Call Get Method\")\n",
    "        return data[instance.arg]\n",
    "    \n",
    "    print(\"End Name Class\")\n"
   ]
  },
  {
   "cell_type": "code",
   "execution_count": 3,
   "id": "05b537e9",
   "metadata": {},
   "outputs": [],
   "source": [
    "data = {\n",
    "    \"001\":890,\n",
    "    \"002\":992,\n",
    "    \"003\":882,\n",
    "}"
   ]
  },
  {
   "cell_type": "code",
   "execution_count": 4,
   "id": "d2f59782",
   "metadata": {},
   "outputs": [
    {
     "name": "stdout",
     "output_type": "stream",
     "text": [
      "Inside Std Class\n",
      "End Std Class\n"
     ]
    }
   ],
   "source": [
    "class Std:\n",
    "    print(\"Inside Std Class\")\n",
    "\n",
    "    \n",
    "    temp = Name()\n",
    "\n",
    "    def __init__(self,arg):\n",
    "        print(\"Call init Method\")\n",
    "\n",
    "        self.arg = arg\n",
    "        print(\"inside self.arg =\",self.arg)\n",
    "        \n",
    "    print(\"End Std Class\")\n",
    "\n"
   ]
  },
  {
   "cell_type": "code",
   "execution_count": 5,
   "id": "c63c7660",
   "metadata": {},
   "outputs": [
    {
     "name": "stdout",
     "output_type": "stream",
     "text": [
      "Call init Method\n",
      "inside self.arg = 001\n"
     ]
    }
   ],
   "source": [
    "obj = Std(\"001\")"
   ]
  },
  {
   "cell_type": "code",
   "execution_count": 223,
   "id": "7ce06d95",
   "metadata": {},
   "outputs": [
    {
     "name": "stdout",
     "output_type": "stream",
     "text": [
      "Call Get Method\n"
     ]
    },
    {
     "data": {
      "text/plain": [
       "890"
      ]
     },
     "execution_count": 223,
     "metadata": {},
     "output_type": "execute_result"
    }
   ],
   "source": [
    "obj.temp"
   ]
  },
  {
   "cell_type": "markdown",
   "id": "e2881767",
   "metadata": {},
   "source": [
    "# Check all Attribute"
   ]
  },
  {
   "cell_type": "code",
   "execution_count": 150,
   "id": "e814384a",
   "metadata": {},
   "outputs": [
    {
     "data": {
      "text/plain": [
       "{'arg': '001'}"
      ]
     },
     "execution_count": 150,
     "metadata": {},
     "output_type": "execute_result"
    }
   ],
   "source": [
    "obj.__dict__"
   ]
  },
  {
   "cell_type": "code",
   "execution_count": 151,
   "id": "4802b08b",
   "metadata": {},
   "outputs": [
    {
     "data": {
      "text/plain": [
       "mappingproxy({'__module__': '__main__',\n",
       "              'temp': <__main__.Name at 0x7fb9af4ec6a0>,\n",
       "              '__init__': <function __main__.Std.__init__(self, arg)>,\n",
       "              '__dict__': <attribute '__dict__' of 'Std' objects>,\n",
       "              '__weakref__': <attribute '__weakref__' of 'Std' objects>,\n",
       "              '__doc__': None})"
      ]
     },
     "execution_count": 151,
     "metadata": {},
     "output_type": "execute_result"
    }
   ],
   "source": [
    "Std.__dict__"
   ]
  },
  {
   "cell_type": "markdown",
   "id": "9fc52eb9",
   "metadata": {},
   "source": [
    "# `__set__`"
   ]
  },
  {
   "cell_type": "code",
   "execution_count": 14,
   "id": "34e946f8",
   "metadata": {},
   "outputs": [],
   "source": [
    "class Name:   \n",
    "    def __set__(self, instance, value):\n",
    "        print(\"Call Set Method\")\n",
    "        self.value = value"
   ]
  },
  {
   "cell_type": "code",
   "execution_count": 15,
   "id": "2d9ac4d3",
   "metadata": {},
   "outputs": [],
   "source": [
    "class Person:\n",
    "    name = Name()"
   ]
  },
  {
   "cell_type": "code",
   "execution_count": 16,
   "id": "b7711815",
   "metadata": {},
   "outputs": [],
   "source": [
    "p = Person()"
   ]
  },
  {
   "cell_type": "markdown",
   "id": "a42200af",
   "metadata": {},
   "source": [
    "# When we access the p variable then set method call itself"
   ]
  },
  {
   "cell_type": "code",
   "execution_count": 21,
   "id": "927fe7b5",
   "metadata": {},
   "outputs": [
    {
     "name": "stdout",
     "output_type": "stream",
     "text": [
      "Call Set Method\n"
     ]
    }
   ],
   "source": [
    "p.name = \"Mubeen\""
   ]
  },
  {
   "cell_type": "code",
   "execution_count": 22,
   "id": "6a488ae1",
   "metadata": {},
   "outputs": [
    {
     "data": {
      "text/plain": [
       "'Mubeen'"
      ]
     },
     "execution_count": 22,
     "metadata": {},
     "output_type": "execute_result"
    }
   ],
   "source": [
    "p.name.value"
   ]
  },
  {
   "cell_type": "markdown",
   "id": "3166ea8c",
   "metadata": {},
   "source": [
    "# Create Descriptor"
   ]
  },
  {
   "cell_type": "code",
   "execution_count": 51,
   "id": "5a81cd00",
   "metadata": {},
   "outputs": [],
   "source": [
    "class My_Descriptor:\n",
    "    \n",
    "    def __init__(self,var=None):\n",
    "        print(\"Call init method\")\n",
    "        self.__set__(self,var)\n",
    "        \n",
    "   \n",
    "    def __get__(self,instance,owner):\n",
    "        print(\"Call get Method\")\n",
    "        print(\"instance =\",instance)\n",
    "        print(\"owner =\",owner)\n",
    "        \n",
    "        print(\"self.val =\",self.val)\n",
    "        return self.val\n",
    "        \n",
    "    def __set__(self,instance,value):\n",
    "        print(\"Call set method\")\n",
    "        print(\"Value =\",value)\n",
    "        self.val = value\n",
    "        "
   ]
  },
  {
   "cell_type": "code",
   "execution_count": 52,
   "id": "ac9518a4",
   "metadata": {},
   "outputs": [
    {
     "name": "stdout",
     "output_type": "stream",
     "text": [
      "Call init method\n",
      "Call set method\n",
      "Value = 3\n"
     ]
    }
   ],
   "source": [
    "class Model():\n",
    "    temp = My_Descriptor(3)"
   ]
  },
  {
   "cell_type": "code",
   "execution_count": 53,
   "id": "4b5a502b",
   "metadata": {},
   "outputs": [],
   "source": [
    "body = Model()"
   ]
  },
  {
   "cell_type": "code",
   "execution_count": 54,
   "id": "1dad33e9",
   "metadata": {},
   "outputs": [
    {
     "name": "stdout",
     "output_type": "stream",
     "text": [
      "Call get Method\n",
      "instance = <__main__.Model object at 0x7f8f1b99a9d0>\n",
      "owner = <class '__main__.Model'>\n",
      "self.val = 3\n"
     ]
    },
    {
     "data": {
      "text/plain": [
       "3"
      ]
     },
     "execution_count": 54,
     "metadata": {},
     "output_type": "execute_result"
    }
   ],
   "source": [
    "body.temp"
   ]
  },
  {
   "cell_type": "markdown",
   "id": "30282086",
   "metadata": {},
   "source": [
    "# Change Value with set Method"
   ]
  },
  {
   "cell_type": "code",
   "execution_count": 57,
   "id": "e76cb23b",
   "metadata": {},
   "outputs": [
    {
     "data": {
      "text/plain": [
       "{}"
      ]
     },
     "execution_count": 57,
     "metadata": {},
     "output_type": "execute_result"
    }
   ],
   "source": [
    "body.__dict__"
   ]
  },
  {
   "cell_type": "code",
   "execution_count": 60,
   "id": "e7e93b70",
   "metadata": {},
   "outputs": [
    {
     "name": "stdout",
     "output_type": "stream",
     "text": [
      "Call set method\n",
      "Value = 80\n"
     ]
    }
   ],
   "source": [
    "body.temp = 80"
   ]
  },
  {
   "cell_type": "code",
   "execution_count": 63,
   "id": "15115630",
   "metadata": {},
   "outputs": [
    {
     "name": "stdout",
     "output_type": "stream",
     "text": [
      "Call get Method\n",
      "instance = <__main__.Model object at 0x7f8f1b99a9d0>\n",
      "owner = <class '__main__.Model'>\n",
      "self.val = 80\n"
     ]
    },
    {
     "data": {
      "text/plain": [
       "80"
      ]
     },
     "execution_count": 63,
     "metadata": {},
     "output_type": "execute_result"
    }
   ],
   "source": [
    "body.temp"
   ]
  }
 ],
 "metadata": {
  "kernelspec": {
   "display_name": "Python 3 (ipykernel)",
   "language": "python",
   "name": "python3"
  },
  "language_info": {
   "codemirror_mode": {
    "name": "ipython",
    "version": 3
   },
   "file_extension": ".py",
   "mimetype": "text/x-python",
   "name": "python",
   "nbconvert_exporter": "python",
   "pygments_lexer": "ipython3",
   "version": "3.9.2"
  }
 },
 "nbformat": 4,
 "nbformat_minor": 5
}
