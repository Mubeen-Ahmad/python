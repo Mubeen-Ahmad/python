{
 "cells": [
  {
   "cell_type": "markdown",
   "id": "c99c3234",
   "metadata": {},
   "source": [
    "# Poly-Morphism\n",
    "\n",
    "## Polymorphism is a word that came from two greek words\n",
    "\n",
    "* ## Poly means many\n",
    "* ## Morphos means forms\n",
    "\n",
    "## If a variable , object or method perform different behavior accorfding to situation, it is called Polymorphism"
   ]
  },
  {
   "cell_type": "code",
   "execution_count": 1,
   "id": "786c8bd4",
   "metadata": {},
   "outputs": [
    {
     "name": "stdout",
     "output_type": "stream",
     "text": [
      "Parrot can fly\n",
      "Penguin can't fly\n"
     ]
    }
   ],
   "source": [
    "class Parot:\n",
    "    \n",
    "    def fly(self):\n",
    "        print(\"Parrot can fly\")\n",
    "        \n",
    "    def swim(self):\n",
    "        print(\"Parrot can't fly\")\n",
    "        \n",
    "class Penguin:\n",
    "    \n",
    "    def fly(self):\n",
    "        print(\"Penguin can't fly\")\n",
    "    \n",
    "    def swim(self):\n",
    "        print(\"Penguin can swim\")\n",
    "        \n",
    "def flying_test(bird):\n",
    "    bird.fly()\n",
    "\n",
    "flying_test(Parot())\n",
    "flying_test(Penguin())"
   ]
  },
  {
   "cell_type": "markdown",
   "id": "6f95c328",
   "metadata": {},
   "source": [
    "# Main Topics of Polymorphism\n",
    "\n",
    "* ## Duck Typing\n",
    "* ## Operator Overloading\n",
    "* ## Method Overloading\n",
    "* ## Method Overriding"
   ]
  },
  {
   "cell_type": "markdown",
   "id": "05587ca3",
   "metadata": {},
   "source": [
    "# Duck Typing\n",
    "\n",
    "## In Python we follow a principle :-\n",
    "### if it walks like a duck, and it quacks like a duck, then it is probably be a duck."
   ]
  },
  {
   "cell_type": "markdown",
   "id": "a3bdc038",
   "metadata": {},
   "source": [
    "# Example 1"
   ]
  },
  {
   "cell_type": "code",
   "execution_count": 3,
   "id": "c0bea26e",
   "metadata": {},
   "outputs": [
    {
     "name": "stdout",
     "output_type": "stream",
     "text": [
      "Meow Meow\n",
      "BOW BOW\n"
     ]
    }
   ],
   "source": [
    "class Cat:\n",
    "    \n",
    "    def speek(self):\n",
    "        print(\"Meow Meow\")\n",
    "    \n",
    "        \n",
    "class Dog:\n",
    "    \n",
    "    def speek(self):\n",
    "        print(\"BOW BOW\")\n",
    "        \n",
    "def function(obj):\n",
    "    obj.speek()\n",
    "    \n",
    "c = Cat()\n",
    "function(c)\n",
    "\n",
    "d = Dog()\n",
    "function(d)"
   ]
  },
  {
   "cell_type": "markdown",
   "id": "83d3b102",
   "metadata": {},
   "source": [
    "# Python don’t actually know if the object is a duck\n",
    "\n",
    "# Example 2\n",
    "## lets replaced the objects"
   ]
  },
  {
   "cell_type": "code",
   "execution_count": 6,
   "id": "cd6f4b86",
   "metadata": {},
   "outputs": [
    {
     "name": "stdout",
     "output_type": "stream",
     "text": [
      "BOW BOW\n",
      "Meow Meow\n"
     ]
    }
   ],
   "source": [
    "class Cat:\n",
    "    \n",
    "    def speek(self):\n",
    "        print(\"Meow Meow\")\n",
    "    \n",
    "        \n",
    "class Dog:\n",
    "    \n",
    "    def speek(self):\n",
    "        print(\"BOW BOW\")\n",
    "        \n",
    "def function(obj):\n",
    "    obj.speek()\n",
    "\n",
    "# Cat Object\n",
    "cat = Dog()\n",
    "function(cat)\n",
    "\n",
    "\n",
    "# Dog Object\n",
    "dog = Cat()\n",
    "function(dog)"
   ]
  },
  {
   "cell_type": "markdown",
   "id": "788c0f15",
   "metadata": {},
   "source": [
    "# Strong Typing\n",
    "\n",
    "## Generally, a strongly typed language has stricter typing rules at compile time, which implies that errors and exceptions are more likely to happen during compilation. \n"
   ]
  },
  {
   "cell_type": "code",
   "execution_count": 9,
   "id": "c85d204b",
   "metadata": {},
   "outputs": [
    {
     "ename": "AttributeError",
     "evalue": "'Birds' object has no attribute 'walk'",
     "output_type": "error",
     "traceback": [
      "\u001b[0;31m---------------------------------------------------------------------------\u001b[0m",
      "\u001b[0;31mAttributeError\u001b[0m                            Traceback (most recent call last)",
      "Input \u001b[0;32mIn [9]\u001b[0m, in \u001b[0;36m<cell line: 17>\u001b[0;34m()\u001b[0m\n\u001b[1;32m     14\u001b[0m     obj\u001b[38;5;241m.\u001b[39mwalk()\n\u001b[1;32m     16\u001b[0m bird \u001b[38;5;241m=\u001b[39m Birds()\n\u001b[0;32m---> 17\u001b[0m \u001b[43mfunction\u001b[49m\u001b[43m(\u001b[49m\u001b[43mbird\u001b[49m\u001b[43m)\u001b[49m\n",
      "Input \u001b[0;32mIn [9]\u001b[0m, in \u001b[0;36mfunction\u001b[0;34m(obj)\u001b[0m\n\u001b[1;32m     13\u001b[0m \u001b[38;5;28;01mdef\u001b[39;00m \u001b[38;5;21mfunction\u001b[39m(obj):\n\u001b[0;32m---> 14\u001b[0m     \u001b[43mobj\u001b[49m\u001b[38;5;241;43m.\u001b[39;49m\u001b[43mwalk\u001b[49m()\n",
      "\u001b[0;31mAttributeError\u001b[0m: 'Birds' object has no attribute 'walk'"
     ]
    }
   ],
   "source": [
    "class Cat:\n",
    "    \n",
    "    def walk(self):\n",
    "        print(\"cats are walking\")\n",
    "        \n",
    "        \n",
    "class Birds:\n",
    "    \n",
    "    def fly(self):\n",
    "        print(\"Birds are Flying\")\n",
    "        \n",
    "        \n",
    "def function(obj):\n",
    "    obj.walk()\n",
    "    \n",
    "bird = Birds()\n",
    "function(bird)"
   ]
  },
  {
   "cell_type": "markdown",
   "id": "bc785a95",
   "metadata": {},
   "source": [
    "## We can Check whether the object passed to th method has the method being invoked or not.\n",
    "\n",
    "## hasattr() Function is used to check whether the object has a method or Not\n",
    "\n",
    "\n",
    "# Syntax :- hasattr(object,attribute)\n",
    "\n",
    "## Where attribute can be method or variable . if it is found in the object then this method return True/False"
   ]
  },
  {
   "cell_type": "code",
   "execution_count": 12,
   "id": "e8d81dc1",
   "metadata": {},
   "outputs": [],
   "source": [
    "class Cat:\n",
    "    \n",
    "    def walk(self):\n",
    "        print(\"cats are walking\")\n",
    "        \n",
    "        \n",
    "class Birds:\n",
    "    \n",
    "    def fly(self):\n",
    "        print(\"Birds are Flying\")\n",
    "        \n",
    "        \n",
    "def function(obj):\n",
    "    if hasattr(obj,'walk'):\n",
    "        obj.walk()\n",
    "    else:\n",
    "        print(\"Walk Functionality are Not Found ...\")\n",
    "\n"
   ]
  },
  {
   "cell_type": "code",
   "execution_count": 13,
   "id": "98cec71b",
   "metadata": {},
   "outputs": [
    {
     "name": "stdout",
     "output_type": "stream",
     "text": [
      "Walk Functionality are Not Found ...\n"
     ]
    }
   ],
   "source": [
    "bird = Birds()\n",
    "function(bird)"
   ]
  },
  {
   "cell_type": "code",
   "execution_count": 14,
   "id": "7489c2ae",
   "metadata": {},
   "outputs": [
    {
     "name": "stdout",
     "output_type": "stream",
     "text": [
      "cats are walking\n"
     ]
    }
   ],
   "source": [
    "cat = Cat()\n",
    "function(cat)"
   ]
  },
  {
   "cell_type": "markdown",
   "id": "9ce24bb9",
   "metadata": {},
   "source": [
    "# Methods Overloading\n",
    "\n",
    "## When more than one method with the same name is defined in the same class, it is know as method overloading\n",
    "\n",
    "## In python, if a method is writen such that it can perform more than one task , it is called method overloading"
   ]
  },
  {
   "cell_type": "code",
   "execution_count": 15,
   "id": "ffc8150d",
   "metadata": {},
   "outputs": [
    {
     "data": {
      "text/plain": [
       "3"
      ]
     },
     "execution_count": 15,
     "metadata": {},
     "output_type": "execute_result"
    }
   ],
   "source": [
    "class Cls:\n",
    "    \n",
    "    def value(self,n):\n",
    "        self.n = n\n",
    "        return n+1\n",
    "    \n",
    "    def value(self,n):\n",
    "        self.n = n\n",
    "        return n+2\n",
    "\n",
    "obj = Cls()\n",
    "obj.value(1)\n",
    "\n",
    "# here output is 3 because 2nd value method are overload"
   ]
  },
  {
   "cell_type": "markdown",
   "id": "af15633b",
   "metadata": {},
   "source": [
    "# Method Overriding\n",
    "\n",
    "## if we write method in the both classed, parent class and child class then the parent class's method is not avilable to the child class\n",
    "\n",
    "\n",
    "## In this case only child class's method is accessible which means child class's method is replacing parent class's method.\n",
    "\n",
    "## Method overriding is used when programmer want to modify the existing behavior of a Method"
   ]
  },
  {
   "cell_type": "code",
   "execution_count": 16,
   "id": "96c7c897",
   "metadata": {},
   "outputs": [
    {
     "name": "stdout",
     "output_type": "stream",
     "text": [
      "Multiplication  6\n"
     ]
    }
   ],
   "source": [
    "class Add:\n",
    "    \n",
    "    def result(self,a,b):\n",
    "        print(\"Addition \",a+b)\n",
    "\n",
    "class Multi(Add):\n",
    "    \n",
    "    def result(self,a,b):\n",
    "        print(\"Multiplication \",a*b)\n",
    "\n",
    "obj = Multi()\n",
    "obj.result(3,2)\n",
    "\n",
    "# Here child class result method are Override"
   ]
  }
 ],
 "metadata": {
  "kernelspec": {
   "display_name": "Python 3 (ipykernel)",
   "language": "python",
   "name": "python3"
  },
  "language_info": {
   "codemirror_mode": {
    "name": "ipython",
    "version": 3
   },
   "file_extension": ".py",
   "mimetype": "text/x-python",
   "name": "python",
   "nbconvert_exporter": "python",
   "pygments_lexer": "ipython3",
   "version": "3.9.2"
  }
 },
 "nbformat": 4,
 "nbformat_minor": 5
}
