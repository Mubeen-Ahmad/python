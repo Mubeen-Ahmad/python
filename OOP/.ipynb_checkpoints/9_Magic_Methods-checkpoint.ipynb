{
 "cells": [
  {
   "cell_type": "markdown",
   "id": "a361664d",
   "metadata": {},
   "source": [
    "# Magic Methods\n",
    "\n",
    "## In Python, there are different magic methods available to perform overloading operations. \n",
    "\n",
    "## The below table shows the magic methods names to overload the mathematical operator, assignment operator, and relational operators etc\n"
   ]
  },
  {
   "cell_type": "markdown",
   "id": "6409ee90",
   "metadata": {},
   "source": [
    "# String Magic Methods\n",
    "\n"
   ]
  },
  {
   "cell_type": "markdown",
   "id": "1bbc4af6",
   "metadata": {},
   "source": [
    "## `__str__(self)` \n",
    "\n",
    "### To get called by built-int str() method to return a string representation of a type. "
   ]
  },
  {
   "cell_type": "code",
   "execution_count": 1,
   "id": "48a37dab",
   "metadata": {},
   "outputs": [
    {
     "name": "stdout",
     "output_type": "stream",
     "text": [
      "Welcome Mubeen\n"
     ]
    }
   ],
   "source": [
    "class my_methods:\n",
    "    \n",
    "    def __init__(self,data):\n",
    "        self.data = data\n",
    "    \n",
    "    def __str__(self):\n",
    "        return f\"Welcome {self.data}\"\n",
    "\n",
    "obj = my_methods(\"Mubeen\")\n",
    "print(obj)"
   ]
  },
  {
   "cell_type": "markdown",
   "id": "f549942e",
   "metadata": {},
   "source": [
    "## `__repr__(self)`\n",
    "\n",
    "## To get called by built-int repr() method to return a machine readable representation of a type. \n",
    "\n"
   ]
  },
  {
   "cell_type": "code",
   "execution_count": 2,
   "id": "5edf095c",
   "metadata": {},
   "outputs": [
    {
     "name": "stdout",
     "output_type": "stream",
     "text": [
      "my_methods(Mubeen,404)\n"
     ]
    }
   ],
   "source": [
    "class my_methods:\n",
    "    \n",
    "    def __init__(self,name,id_):\n",
    "        self.name = name\n",
    "        self.id_ = id_\n",
    "    \n",
    "    def __repr__(self):\n",
    "        return f\"my_methods({self.name},{self.id_})\"\n",
    "\n",
    "obj = my_methods(\"Mubeen\",404)\n",
    "print(obj)"
   ]
  },
  {
   "cell_type": "markdown",
   "id": "a30c55e0",
   "metadata": {},
   "source": [
    "### Difference Between `__str__` V/S `__repr__`\n",
    "\n",
    "* ### The __str__ function is supposed to return a human-readable format, which is good for logging or to display some information about the object. \n",
    "\n",
    "* ### Whereas, the __repr__ function is supposed to return an “official” string representation of the object, which can be used to construct the object again. "
   ]
  },
  {
   "cell_type": "code",
   "execution_count": 15,
   "id": "038fba63",
   "metadata": {},
   "outputs": [
    {
     "name": "stdout",
     "output_type": "stream",
     "text": [
      "1_Class_and_Objects_and_methods.ipynb  5_Encapsulation.ipynb\n",
      "2_Inherentence.ipynb\t\t       6_Poly-Morphism.ipynb\n",
      "3_constructor.ipynb\t\t       7_Magic_Methods.ipynb\n",
      "4_destructor.ipynb\t\t       pic\n",
      "0\n",
      "---------------->\n",
      "0\n"
     ]
    }
   ],
   "source": [
    "import os\n",
    "\n",
    "cmd = os.system(\"dir\")\n",
    "\n",
    "print(cmd.__str__())\n",
    "\n",
    "print(\"---------------->\")\n",
    "\n",
    "print(cmd.__repr__())"
   ]
  },
  {
   "cell_type": "markdown",
   "id": "498ec85a",
   "metadata": {},
   "source": [
    "## `__unicode__(self)` \n",
    "\n",
    "## To get called by built-int unicode() method to return an unicode string of a type. "
   ]
  },
  {
   "cell_type": "code",
   "execution_count": 3,
   "id": "aaa47c6d",
   "metadata": {},
   "outputs": [
    {
     "ename": "NameError",
     "evalue": "name 'decode' is not defined",
     "output_type": "error",
     "traceback": [
      "\u001b[0;31m---------------------------------------------------------------------------\u001b[0m",
      "\u001b[0;31mNameError\u001b[0m                                 Traceback (most recent call last)",
      "Input \u001b[0;32mIn [3]\u001b[0m, in \u001b[0;36m<cell line: 1>\u001b[0;34m()\u001b[0m\n\u001b[0;32m----> 1\u001b[0m x \u001b[38;5;241m=\u001b[39m \u001b[43mdecode\u001b[49m(\u001b[38;5;124m\"\u001b[39m\u001b[38;5;124mMUBEEN\u001b[39m\u001b[38;5;124m\"\u001b[39m)\n\u001b[1;32m      2\u001b[0m x\u001b[38;5;241m.\u001b[39m__unicode__()\n",
      "\u001b[0;31mNameError\u001b[0m: name 'decode' is not defined"
     ]
    }
   ],
   "source": [
    "x = decode(\"MUBEEN\")\n",
    "x.__unicode__("
   ]
  },
  {
   "cell_type": "code",
   "execution_count": null,
   "id": "30844b0b",
   "metadata": {},
   "outputs": [],
   "source": []
  }
 ],
 "metadata": {
  "kernelspec": {
   "display_name": "Python 3 (ipykernel)",
   "language": "python",
   "name": "python3"
  },
  "language_info": {
   "codemirror_mode": {
    "name": "ipython",
    "version": 3
   },
   "file_extension": ".py",
   "mimetype": "text/x-python",
   "name": "python",
   "nbconvert_exporter": "python",
   "pygments_lexer": "ipython3",
   "version": "3.9.2"
  }
 },
 "nbformat": 4,
 "nbformat_minor": 5
}
