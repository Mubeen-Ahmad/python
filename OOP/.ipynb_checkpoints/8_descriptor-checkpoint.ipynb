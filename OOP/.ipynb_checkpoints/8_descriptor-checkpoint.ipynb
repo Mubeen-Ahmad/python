{
 "cells": [
  {
   "cell_type": "markdown",
   "id": "25020b2f",
   "metadata": {},
   "source": [
    "# Descriptors\n",
    "## Descriptors are Python objects that implement a method of the descriptor protocol, which gives you the ability to create objects that have special behavior when they’re accessed as attributes of other objects. \n",
    "\n",
    "# Here you can see the correct definition of the descriptor protocol:"
   ]
  },
  {
   "cell_type": "markdown",
   "id": "0cf35e84",
   "metadata": {},
   "source": [
    "`__get__(self, obj, type=None) -> object`\n",
    "\n",
    "` __set__(self, obj, value) -> None `\n",
    "\n",
    "` __delete__(self, obj) -> None`\n",
    "\n",
    "`__set_name__(self, owner, name)`\n"
   ]
  },
  {
   "cell_type": "markdown",
   "id": "981737a0",
   "metadata": {},
   "source": [
    "# `__get__`\n",
    "\n",
    "## Python __get__ Magic Method. Python's __get__() magic method defines the dynamic return value when accessing a specific instance and class attribute.\n",
    "\n",
    "\n",
    "## `__get__` method take three Argument self, instance, owner"
   ]
  },
  {
   "cell_type": "markdown",
   "id": "2cdacf7f",
   "metadata": {},
   "source": [
    "# Example 1"
   ]
  },
  {
   "cell_type": "code",
   "execution_count": 101,
   "id": "b647ba23",
   "metadata": {},
   "outputs": [],
   "source": [
    "class Name:   \n",
    "    \n",
    "    def __get__(self,instance,owner):\n",
    "        print(\"Instance =\",instance,owner)\n",
    "        print(\"owner =\",owner)\n",
    "        return \"Mubeen\"\n",
    "            \n",
    "class Std:\n",
    "\n",
    "    temp = Name()\n",
    "    \n",
    "obj = Std()\n"
   ]
  },
  {
   "cell_type": "code",
   "execution_count": 104,
   "id": "d1fa877e",
   "metadata": {},
   "outputs": [
    {
     "name": "stdout",
     "output_type": "stream",
     "text": [
      "Instance = <__main__.Std object at 0x7fb9afca2940> <class '__main__.Std'>\n",
      "owner = <class '__main__.Std'>\n"
     ]
    },
    {
     "data": {
      "text/plain": [
       "'Mubeen'"
      ]
     },
     "execution_count": 104,
     "metadata": {},
     "output_type": "execute_result"
    }
   ],
   "source": [
    "obj.temp"
   ]
  },
  {
   "cell_type": "markdown",
   "id": "57a6ab6b",
   "metadata": {},
   "source": [
    "### Instance take the refference Std Class\n",
    "### owner take the refference of temp variable"
   ]
  },
  {
   "cell_type": "markdown",
   "id": "a67e2a48",
   "metadata": {},
   "source": [
    "# Example 2"
   ]
  },
  {
   "cell_type": "code",
   "execution_count": 145,
   "id": "f528057a",
   "metadata": {},
   "outputs": [],
   "source": [
    "class Name:   \n",
    "    \n",
    "    def __get__(self,instance,owner):\n",
    "        return data[instance.arg]"
   ]
  },
  {
   "cell_type": "code",
   "execution_count": 146,
   "id": "05b537e9",
   "metadata": {},
   "outputs": [],
   "source": [
    "data = {\n",
    "    \"001\":890,\n",
    "    \"002\":992,\n",
    "    \"003\":882,\n",
    "}"
   ]
  },
  {
   "cell_type": "code",
   "execution_count": 206,
   "id": "d2f59782",
   "metadata": {},
   "outputs": [],
   "source": [
    "class Std:\n",
    "    \n",
    "    temp = Name()\n",
    "\n",
    "\n",
    "    def __init__(self,arg):\n",
    "        self.arg = arg\n",
    "        print(\"inside self.arg =\",self.arg)\n"
   ]
  },
  {
   "cell_type": "code",
   "execution_count": 207,
   "id": "c63c7660",
   "metadata": {},
   "outputs": [
    {
     "name": "stdout",
     "output_type": "stream",
     "text": [
      "inside self.arg = 001\n"
     ]
    }
   ],
   "source": [
    "obj = Std(\"001\")"
   ]
  },
  {
   "cell_type": "code",
   "execution_count": 208,
   "id": "7ce06d95",
   "metadata": {},
   "outputs": [
    {
     "data": {
      "text/plain": [
       "890"
      ]
     },
     "execution_count": 208,
     "metadata": {},
     "output_type": "execute_result"
    }
   ],
   "source": [
    "obj.temp"
   ]
  },
  {
   "cell_type": "markdown",
   "id": "e2881767",
   "metadata": {},
   "source": [
    "# Check all Attribute"
   ]
  },
  {
   "cell_type": "code",
   "execution_count": 150,
   "id": "e814384a",
   "metadata": {},
   "outputs": [
    {
     "data": {
      "text/plain": [
       "{'arg': '001'}"
      ]
     },
     "execution_count": 150,
     "metadata": {},
     "output_type": "execute_result"
    }
   ],
   "source": [
    "obj.__dict__"
   ]
  },
  {
   "cell_type": "code",
   "execution_count": 151,
   "id": "4802b08b",
   "metadata": {},
   "outputs": [
    {
     "data": {
      "text/plain": [
       "mappingproxy({'__module__': '__main__',\n",
       "              'temp': <__main__.Name at 0x7fb9af4ec6a0>,\n",
       "              '__init__': <function __main__.Std.__init__(self, arg)>,\n",
       "              '__dict__': <attribute '__dict__' of 'Std' objects>,\n",
       "              '__weakref__': <attribute '__weakref__' of 'Std' objects>,\n",
       "              '__doc__': None})"
      ]
     },
     "execution_count": 151,
     "metadata": {},
     "output_type": "execute_result"
    }
   ],
   "source": [
    "Std.__dict__"
   ]
  }
 ],
 "metadata": {
  "kernelspec": {
   "display_name": "Python 3 (ipykernel)",
   "language": "python",
   "name": "python3"
  },
  "language_info": {
   "codemirror_mode": {
    "name": "ipython",
    "version": 3
   },
   "file_extension": ".py",
   "mimetype": "text/x-python",
   "name": "python",
   "nbconvert_exporter": "python",
   "pygments_lexer": "ipython3",
   "version": "3.9.2"
  }
 },
 "nbformat": 4,
 "nbformat_minor": 5
}
