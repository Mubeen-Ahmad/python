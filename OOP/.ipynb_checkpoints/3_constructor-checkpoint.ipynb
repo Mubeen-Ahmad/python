{
 "cells": [
  {
   "cell_type": "markdown",
   "id": "638e99bf",
   "metadata": {},
   "source": [
    "# Constructor\n",
    "\n",
    "## Constructor is a special method used to create and initialize an object of a class.\n",
    "\n",
    "\n",
    "* ### The constructor is executed automatically at the time of object creation.\n",
    "\n",
    "* ### The primary use of a constructor is to declare and initialize data member/ instance variables of a class. \n",
    "\n",
    "* ### The constructor contains a collection of statements (i.e., instructions) that executes at the time of object creation to initialize the attributes of an object.\n",
    "\n",
    "\n",
    "# In Python, Object creation is divided into two parts. \n",
    "* ## Object Creation\n",
    "* ## Object initialization"
   ]
  },
  {
   "cell_type": "code",
   "execution_count": 55,
   "id": "ba7d25c5",
   "metadata": {},
   "outputs": [
    {
     "name": "stdout",
     "output_type": "stream",
     "text": [
      "Inside Constructor\n",
      "All variables initialized\n",
      "Hello, my name is Mubeen\n"
     ]
    }
   ],
   "source": [
    "class Student:\n",
    "\n",
    "    # constructor\n",
    "    # initialize instance variable\n",
    "    def __init__(self, name):\n",
    "        print('Inside Constructor')\n",
    "        self.name = name\n",
    "        print('All variables initialized')\n",
    "\n",
    "    # instance Method\n",
    "    def show(self):\n",
    "        print('Hello, my name is', self.name)\n",
    "\n",
    "\n",
    "# create object using constructor\n",
    "s1 = Student('Mubeen')\n",
    "s1.show()"
   ]
  },
  {
   "cell_type": "markdown",
   "id": "b173d4c6",
   "metadata": {},
   "source": [
    "<img src=\"pic/creat.jpg\">\n",
    "\n",
    "<img src=\"pic/note.png\">"
   ]
  },
  {
   "cell_type": "markdown",
   "id": "7657b3a9",
   "metadata": {},
   "source": [
    "# Object Creation\n",
    "## ` __new__ ` V/S `__init__` constructor \n",
    "\n",
    "* ### `__new__` method is create the instance of a class. it is used to control the creation of a new class.\n",
    "* ### `__new__` method allocate memory for the object. \n",
    "    * ### The instance variables of an object needs memory to hold it.\n",
    "* ### `__init__` method is used to initialize the instance variable after the class instance is created by new methods \n",
    "\n",
    "* ### `__new__` method is a static class method\n",
    "\n"
   ]
  },
  {
   "cell_type": "markdown",
   "id": "3c57c571",
   "metadata": {},
   "source": [
    "* ### `__new__` method is executed first\n",
    "* ### `__new__` method accepts cls type as first parameter. ( as a Convention )\n",
    "* ### `__init__` method accepts self type as first parameter. ( as a Convention )\n"
   ]
  },
  {
   "cell_type": "code",
   "execution_count": 50,
   "id": "a8613c21",
   "metadata": {},
   "outputs": [
    {
     "name": "stdout",
     "output_type": "stream",
     "text": [
      "new method\n"
     ]
    }
   ],
   "source": [
    "class Person:\n",
    "    \n",
    "    def __init__(self):\n",
    "        print(\"init method\")\n",
    "    \n",
    "    def __new__(cls):\n",
    "        print(\"new method\")\n",
    "        \n",
    "p1 = Person()"
   ]
  },
  {
   "cell_type": "markdown",
   "id": "dc6985ca",
   "metadata": {},
   "source": [
    "* ### `__new__` method returns new instance to called class."
   ]
  },
  {
   "cell_type": "code",
   "execution_count": 53,
   "id": "5d14dad2",
   "metadata": {},
   "outputs": [
    {
     "name": "stdout",
     "output_type": "stream",
     "text": [
      "Mubeen\n"
     ]
    }
   ],
   "source": [
    "class Person:\n",
    "    \n",
    "    def __new__(cls):\n",
    "        return \"Mubeen\"\n",
    "        \n",
    "p1 = Person()\n",
    "print(p1,)\n"
   ]
  },
  {
   "cell_type": "markdown",
   "id": "2733bb18",
   "metadata": {},
   "source": [
    "* ### `__init__` method does not return anything."
   ]
  },
  {
   "cell_type": "code",
   "execution_count": 52,
   "id": "76e6e08a",
   "metadata": {},
   "outputs": [
    {
     "ename": "TypeError",
     "evalue": "__init__() should return None, not 'str'",
     "output_type": "error",
     "traceback": [
      "\u001b[0;31m---------------------------------------------------------------------------\u001b[0m",
      "\u001b[0;31mTypeError\u001b[0m                                 Traceback (most recent call last)",
      "Input \u001b[0;32mIn [52]\u001b[0m, in \u001b[0;36m<cell line: 6>\u001b[0;34m()\u001b[0m\n\u001b[1;32m      3\u001b[0m     \u001b[38;5;28;01mdef\u001b[39;00m \u001b[38;5;21m__init__\u001b[39m(\u001b[38;5;28mcls\u001b[39m):\n\u001b[1;32m      4\u001b[0m         \u001b[38;5;28;01mreturn\u001b[39;00m \u001b[38;5;124m\"\u001b[39m\u001b[38;5;124mMubeen\u001b[39m\u001b[38;5;124m\"\u001b[39m\n\u001b[0;32m----> 6\u001b[0m p1 \u001b[38;5;241m=\u001b[39m \u001b[43mPerson\u001b[49m\u001b[43m(\u001b[49m\u001b[43m)\u001b[49m\n\u001b[1;32m      7\u001b[0m \u001b[38;5;28mprint\u001b[39m(p1,)\n",
      "\u001b[0;31mTypeError\u001b[0m: __init__() should return None, not 'str'"
     ]
    }
   ],
   "source": [
    "class Person:\n",
    "    \n",
    "    def __init__(cls):\n",
    "        return \"Mubeen\"\n",
    "        \n",
    "p1 = Person()\n",
    "print(p1,)\n"
   ]
  },
  {
   "cell_type": "markdown",
   "id": "9ee9f964",
   "metadata": {},
   "source": [
    "# Types of Constructors\n",
    "\n",
    "## In Python, we have the following three types of constructors.\n",
    "\n",
    "* ## Default Constructor\n",
    "* ## Non-parametrized constructor\n",
    "* ## Parameterized constructor\n",
    "\n",
    "<img src=\"pic/ts.jpg\">"
   ]
  },
  {
   "cell_type": "markdown",
   "id": "f24853e5",
   "metadata": {},
   "source": [
    "# Default Constructor\n",
    "\n",
    "* ### Python will provide a default constructor if no constructor is defined. \n",
    "* ### Python adds a default constructor when we do not include the constructor in the class or forget to declare it. \n",
    "* ### It does not perform any task but initializes the objects. It is an empty constructor without a body.\n",
    "\n",
    "* ### If you do not implement any constructor in your class or forget to declare it, the Python inserts a default constructor into your code on your behalf. This constructor is known as the default constructor.\n",
    "\n",
    "* ### It does not perform any task but initializes the objects. It is an empty constructor without a body."
   ]
  },
  {
   "cell_type": "markdown",
   "id": "d3ad3acf",
   "metadata": {},
   "source": [
    "# Example"
   ]
  },
  {
   "cell_type": "code",
   "execution_count": 57,
   "id": "e1298943",
   "metadata": {},
   "outputs": [
    {
     "name": "stdout",
     "output_type": "stream",
     "text": [
      "Inside Display\n"
     ]
    }
   ],
   "source": [
    "class Employee:\n",
    "\n",
    "    def display(self):\n",
    "        print('Inside Display')\n",
    "\n",
    "emp = Employee()\n",
    "emp.display()\n"
   ]
  },
  {
   "cell_type": "markdown",
   "id": "488c965e",
   "metadata": {},
   "source": [
    "# Non-parametrized constructor\n",
    "\n",
    "* ### A constructor without any arguments is called a non-parameterized constructor. This type of constructor is used to initialize each object with default values.\n",
    "\n",
    "* ### This constructor doesn’t accept the arguments during object creation. Instead, it initializes every object with the same set of values."
   ]
  },
  {
   "cell_type": "markdown",
   "id": "95742964",
   "metadata": {},
   "source": [
    "# Example\n"
   ]
  },
  {
   "cell_type": "code",
   "execution_count": 63,
   "id": "82126caf",
   "metadata": {},
   "outputs": [
    {
     "name": "stdout",
     "output_type": "stream",
     "text": [
      "Name: Anon \n",
      "Address: 404\n"
     ]
    }
   ],
   "source": [
    "class Person:\n",
    "\n",
    "    # no-argument constructor\n",
    "    \n",
    "    def __init__(self):\n",
    "        self.name = \"Anon\"\n",
    "        self.id = \"404\"\n",
    "\n",
    "    \n",
    "    # a method for printing data members\n",
    "    def show(self):\n",
    "        print('Name:', self.name, '\\nAddress:', self.id)\n",
    "\n",
    "# creating object of the class\n",
    "p1 = Person()\n",
    "\n",
    "\n",
    "# calling the instance method using the object\n",
    "p1.show()"
   ]
  },
  {
   "cell_type": "markdown",
   "id": "d625b4bc",
   "metadata": {},
   "source": [
    "# Parameterized Constructor\n",
    "\n",
    "* ### A constructor with defined parameters or arguments is called a parameterized constructor. \n",
    "* ### We can pass different values to each object at the time of creation using a parameterized constructor.\n"
   ]
  },
  {
   "cell_type": "code",
   "execution_count": 65,
   "id": "36c038b2",
   "metadata": {},
   "outputs": [
    {
     "name": "stdout",
     "output_type": "stream",
     "text": [
      "Emma 23 7500\n",
      "Kelly 25 8500\n"
     ]
    }
   ],
   "source": [
    "class Person:\n",
    "    \n",
    "    # parameterized constructor\n",
    "    \n",
    "    def __init__(self, name, age, salary):\n",
    "        \n",
    "        self.name = name\n",
    "        self.age = age\n",
    "        self.salary = salary\n",
    "\n",
    "    \n",
    "    # display object\n",
    "    def show(self):\n",
    "        print(self.name, self.age, self.salary)\n",
    "\n",
    "# creating object of the Employee class\n",
    "emma = Person('Emma', 23, 7500)\n",
    "emma.show()\n",
    "\n",
    "kelly = Person('Kelly', 25, 8500)\n",
    "kelly.show()\n"
   ]
  },
  {
   "cell_type": "markdown",
   "id": "9e4d3806",
   "metadata": {},
   "source": [
    "# Constructor With Default Values"
   ]
  },
  {
   "cell_type": "markdown",
   "id": "59c97f58",
   "metadata": {},
   "source": [
    "# Example 1"
   ]
  },
  {
   "cell_type": "code",
   "execution_count": 70,
   "id": "078db20a",
   "metadata": {},
   "outputs": [
    {
     "name": "stdout",
     "output_type": "stream",
     "text": [
      "Mubeen\n"
     ]
    }
   ],
   "source": [
    "class Person:\n",
    "    \n",
    "    def __init__(self,name):\n",
    "        self.name = name\n",
    "    \n",
    "    def show(self):`\n",
    "        print(self.name)\n",
    "        \n",
    "p1 = Person(\"Mubeen\")\n",
    "p1.show()"
   ]
  },
  {
   "cell_type": "markdown",
   "id": "c5335d7a",
   "metadata": {},
   "source": [
    "# Example 2"
   ]
  },
  {
   "cell_type": "code",
   "execution_count": 72,
   "id": "1a6b2a0b",
   "metadata": {},
   "outputs": [
    {
     "name": "stdout",
     "output_type": "stream",
     "text": [
      "Anon\n"
     ]
    }
   ],
   "source": [
    "class Person:\n",
    "    \n",
    "    def __init__(self,name=\"Anon\"):\n",
    "        self.name = name\n",
    "    \n",
    "    def show(self):\n",
    "        print(self.name)\n",
    "        \n",
    "p1 = Person()\n",
    "p1.show()"
   ]
  },
  {
   "cell_type": "markdown",
   "id": "c0356df8",
   "metadata": {},
   "source": [
    "# Constructor Overloading\n",
    "\n",
    "## Python does not support constructor overloading. \n",
    "\n",
    "## If we define multiple constructors then, the interpreter will considers only the last constructor and throws an error if the sequence of the arguments doesn’t match as per the last constructor. "
   ]
  },
  {
   "cell_type": "code",
   "execution_count": 12,
   "id": "5426b432",
   "metadata": {},
   "outputs": [
    {
     "ename": "TypeError",
     "evalue": "__init__() missing 1 required positional argument: 'id_'",
     "output_type": "error",
     "traceback": [
      "\u001b[0;31m---------------------------------------------------------------------------\u001b[0m",
      "\u001b[0;31mTypeError\u001b[0m                                 Traceback (most recent call last)",
      "Input \u001b[0;32mIn [12]\u001b[0m, in \u001b[0;36m<cell line: 12>\u001b[0;34m()\u001b[0m\n\u001b[1;32m      8\u001b[0m         \u001b[38;5;28mself\u001b[39m\u001b[38;5;241m.\u001b[39mid_ \u001b[38;5;241m=\u001b[39m id_\n\u001b[1;32m      9\u001b[0m         \u001b[38;5;28mprint\u001b[39m(name,id_)\n\u001b[0;32m---> 12\u001b[0m p1 \u001b[38;5;241m=\u001b[39m \u001b[43mPerson\u001b[49m\u001b[43m(\u001b[49m\u001b[38;5;124;43m\"\u001b[39;49m\u001b[38;5;124;43mMubeen\u001b[39;49m\u001b[38;5;124;43m\"\u001b[39;49m\u001b[43m)\u001b[49m\n",
      "\u001b[0;31mTypeError\u001b[0m: __init__() missing 1 required positional argument: 'id_'"
     ]
    }
   ],
   "source": [
    "class Person:\n",
    "    \n",
    "    def __init__(self,name):\n",
    "        self.name = name\n",
    "        print(name)\n",
    "    \n",
    "    def __init__(self,name,id_):        \n",
    "        self.id_ = id_\n",
    "        print(name,id_)\n",
    "\n",
    "    \n",
    "p1 = Person(\"Mubeen\")\n",
    "\n",
    "        \n"
   ]
  },
  {
   "cell_type": "markdown",
   "id": "d3310e63",
   "metadata": {},
   "source": [
    "# Trick to add Constructor "
   ]
  },
  {
   "cell_type": "code",
   "execution_count": 15,
   "id": "8e86f003",
   "metadata": {},
   "outputs": [
    {
     "name": "stdout",
     "output_type": "stream",
     "text": [
      "Mubeen\n",
      "Mubeen 404\n"
     ]
    }
   ],
   "source": [
    "class Person:\n",
    "    \n",
    "    def __init__(self,name):\n",
    "        self.name = name\n",
    "        print(name)\n",
    "    \n",
    "p1 = Person(\"Mubeen\")\n",
    "\n",
    "# add constructor\n",
    "def __init__(self,name,id_):\n",
    "    self.id_ = id_\n",
    "    print(name,id_)\n",
    "\n",
    "\n",
    "import types\n",
    "Person = types.MethodType(__init__,Person)\n",
    "Person(\"Mubeen\",404)"
   ]
  },
  {
   "cell_type": "markdown",
   "id": "b4884202",
   "metadata": {},
   "source": [
    "# Mulitple Constructor in  one Class"
   ]
  },
  {
   "cell_type": "code",
   "execution_count": 5,
   "id": "e647b2fe",
   "metadata": {},
   "outputs": [
    {
     "name": "stdout",
     "output_type": "stream",
     "text": [
      "Second Constructor\n"
     ]
    },
    {
     "data": {
      "text/plain": [
       "<__main__.Cls at 0x7f5a3c35a3a0>"
      ]
     },
     "execution_count": 5,
     "metadata": {},
     "output_type": "execute_result"
    }
   ],
   "source": [
    "class Cls:\n",
    "    \n",
    "    def __init__(self):\n",
    "        print(\"First Constructor\")\n",
    "        \n",
    "    def __init__(self):\n",
    "        print(\"Second Constructor\")\n",
    "\n",
    "Cls()"
   ]
  }
 ],
 "metadata": {
  "kernelspec": {
   "display_name": "Python 3 (ipykernel)",
   "language": "python",
   "name": "python3"
  },
  "language_info": {
   "codemirror_mode": {
    "name": "ipython",
    "version": 3
   },
   "file_extension": ".py",
   "mimetype": "text/x-python",
   "name": "python",
   "nbconvert_exporter": "python",
   "pygments_lexer": "ipython3",
   "version": "3.9.2"
  }
 },
 "nbformat": 4,
 "nbformat_minor": 5
}
