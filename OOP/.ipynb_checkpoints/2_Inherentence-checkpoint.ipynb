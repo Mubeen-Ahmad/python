{
 "cells": [
  {
   "cell_type": "markdown",
   "id": "d022ef5b",
   "metadata": {},
   "source": [
    "# Inheritance\n",
    "\n",
    "## Inheritance allows us to define a class that inherits all the methods and properties from another class"
   ]
  },
  {
   "cell_type": "markdown",
   "id": "13388bde",
   "metadata": {},
   "source": [
    "# Single Inheritance"
   ]
  },
  {
   "cell_type": "code",
   "execution_count": 1,
   "id": "85b84b4f",
   "metadata": {},
   "outputs": [],
   "source": [
    "class A:\n",
    "    a = \"class a\"\n",
    "\n",
    "class B:\n",
    "    b = \"class b\"\n"
   ]
  },
  {
   "cell_type": "code",
   "execution_count": 2,
   "id": "c39ab419",
   "metadata": {},
   "outputs": [],
   "source": [
    "cls_B = B()"
   ]
  },
  {
   "cell_type": "code",
   "execution_count": 3,
   "id": "019b1539",
   "metadata": {},
   "outputs": [
    {
     "data": {
      "text/plain": [
       "'class b'"
      ]
     },
     "execution_count": 3,
     "metadata": {},
     "output_type": "execute_result"
    }
   ],
   "source": [
    "cls_B.b"
   ]
  },
  {
   "cell_type": "code",
   "execution_count": 4,
   "id": "a747ff0a",
   "metadata": {},
   "outputs": [
    {
     "ename": "AttributeError",
     "evalue": "'B' object has no attribute 'a'",
     "output_type": "error",
     "traceback": [
      "\u001b[0;31m---------------------------------------------------------------------------\u001b[0m",
      "\u001b[0;31mAttributeError\u001b[0m                            Traceback (most recent call last)",
      "Input \u001b[0;32mIn [4]\u001b[0m, in \u001b[0;36m<cell line: 1>\u001b[0;34m()\u001b[0m\n\u001b[0;32m----> 1\u001b[0m \u001b[43mcls_B\u001b[49m\u001b[38;5;241;43m.\u001b[39;49m\u001b[43ma\u001b[49m\n",
      "\u001b[0;31mAttributeError\u001b[0m: 'B' object has no attribute 'a'"
     ]
    }
   ],
   "source": [
    "cls_B.a"
   ]
  },
  {
   "cell_type": "markdown",
   "id": "e5efff62",
   "metadata": {},
   "source": [
    "# we can't access class A variables with the class B"
   ]
  },
  {
   "cell_type": "markdown",
   "id": "ec3f472a",
   "metadata": {},
   "source": [
    "# Now Inheritance Class A with Class B"
   ]
  },
  {
   "cell_type": "code",
   "execution_count": 8,
   "id": "f16f677f",
   "metadata": {},
   "outputs": [],
   "source": [
    "class A:\n",
    "    a = \"class a\"\n",
    "\n",
    "class B(A):\n",
    "    b = \"class b\"\n",
    "\n",
    "cls_B = B()"
   ]
  },
  {
   "cell_type": "code",
   "execution_count": 9,
   "id": "35c4545c",
   "metadata": {},
   "outputs": [
    {
     "data": {
      "text/plain": [
       "'class b'"
      ]
     },
     "execution_count": 9,
     "metadata": {},
     "output_type": "execute_result"
    }
   ],
   "source": [
    "cls_B.b"
   ]
  },
  {
   "cell_type": "code",
   "execution_count": 10,
   "id": "db12f3b2",
   "metadata": {},
   "outputs": [
    {
     "data": {
      "text/plain": [
       "'class a'"
      ]
     },
     "execution_count": 10,
     "metadata": {},
     "output_type": "execute_result"
    }
   ],
   "source": [
    "cls_B.a"
   ]
  },
  {
   "cell_type": "markdown",
   "id": "4d9c5517",
   "metadata": {},
   "source": [
    "# Multi level Inheritance"
   ]
  },
  {
   "cell_type": "code",
   "execution_count": 11,
   "id": "48092e37",
   "metadata": {},
   "outputs": [],
   "source": [
    "class A:\n",
    "    a = \"class a\"\n",
    "\n",
    "class B(A):\n",
    "    b = \"class b\"\n",
    "\n",
    "class C(B):\n",
    "    c = \"class c\"\n",
    "\n",
    "\n",
    "cls_C = C()"
   ]
  },
  {
   "cell_type": "code",
   "execution_count": 12,
   "id": "b1635b56",
   "metadata": {},
   "outputs": [
    {
     "data": {
      "text/plain": [
       "'class c'"
      ]
     },
     "execution_count": 12,
     "metadata": {},
     "output_type": "execute_result"
    }
   ],
   "source": [
    "cls_C.c"
   ]
  },
  {
   "cell_type": "code",
   "execution_count": 13,
   "id": "6f6428bd",
   "metadata": {},
   "outputs": [
    {
     "data": {
      "text/plain": [
       "'class b'"
      ]
     },
     "execution_count": 13,
     "metadata": {},
     "output_type": "execute_result"
    }
   ],
   "source": [
    "cls_C.b"
   ]
  },
  {
   "cell_type": "code",
   "execution_count": 14,
   "id": "98076969",
   "metadata": {},
   "outputs": [
    {
     "data": {
      "text/plain": [
       "'class a'"
      ]
     },
     "execution_count": 14,
     "metadata": {},
     "output_type": "execute_result"
    }
   ],
   "source": [
    "cls_C.a"
   ]
  },
  {
   "cell_type": "markdown",
   "id": "dae70869",
   "metadata": {},
   "source": [
    "# Method Overriding"
   ]
  },
  {
   "cell_type": "code",
   "execution_count": null,
   "id": "95799c23",
   "metadata": {},
   "outputs": [],
   "source": []
  }
 ],
 "metadata": {
  "kernelspec": {
   "display_name": "Python 3 (ipykernel)",
   "language": "python",
   "name": "python3"
  },
  "language_info": {
   "codemirror_mode": {
    "name": "ipython",
    "version": 3
   },
   "file_extension": ".py",
   "mimetype": "text/x-python",
   "name": "python",
   "nbconvert_exporter": "python",
   "pygments_lexer": "ipython3",
   "version": "3.9.2"
  }
 },
 "nbformat": 4,
 "nbformat_minor": 5
}
