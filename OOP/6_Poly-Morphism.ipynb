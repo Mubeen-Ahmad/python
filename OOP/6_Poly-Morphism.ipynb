{
 "cells": [
  {
   "cell_type": "markdown",
   "id": "7c0c430b",
   "metadata": {},
   "source": [
    "# Poly-Morphism\n",
    "\n",
    "## Polymorphism is a word that came from two greek words\n",
    "\n",
    "* ## Poly means many\n",
    "* ## Morphos means forms\n",
    "\n",
    "## If a variable , object or method perform different behavior accorfding to situation, it is called Polymorphism"
   ]
  },
  {
   "cell_type": "code",
   "execution_count": 1,
   "id": "cb2a6688",
   "metadata": {},
   "outputs": [
    {
     "name": "stdout",
     "output_type": "stream",
     "text": [
      "Parrot can fly\n",
      "Penguin can't fly\n"
     ]
    }
   ],
   "source": [
    "class Parot:\n",
    "    \n",
    "    def fly(self):\n",
    "        print(\"Parrot can fly\")\n",
    "        h\n",
    "    def swim(self):\n",
    "        print(\"Parrot can't fly\")\n",
    "        \n",
    "class Penguin:\n",
    "    \n",
    "    def fly(self):\n",
    "        print(\"Penguin can't fly\")\n",
    "    \n",
    "    def swim(self):\n",
    "        print(\"Penguin can swim\")\n",
    "        \n",
    "def flying_test(bird):\n",
    "    bird.fly()\n",
    "\n",
    "flying_test(Parot())\n",
    "flying_test(Penguin())"
   ]
  },
  {
   "cell_type": "markdown",
   "id": "7185b1d8",
   "metadata": {},
   "source": [
    "# An Entity can works in Multiple role. This capability is called Polymorphism\n",
    "\n",
    "# Example 1"
   ]
  },
  {
   "cell_type": "code",
   "execution_count": 2,
   "id": "cfe70759",
   "metadata": {},
   "outputs": [
    {
     "name": "stdout",
     "output_type": "stream",
     "text": [
      "Mubeen Ahmad\n",
      "5\n"
     ]
    }
   ],
   "source": [
    "# here print function used for output the string \n",
    "print(\"Mubeen Ahmad\")\n",
    "\n",
    "# here print finction used for sum of two numbers\n",
    "print(3+2)\n",
    "\n",
    "# This is called Polymorphism"
   ]
  },
  {
   "cell_type": "markdown",
   "id": "9e2f3151",
   "metadata": {},
   "source": [
    "# Main Topics of Polymorphism\n",
    "\n",
    "* ## Duck Typing and Strong Typing\n",
    "* ## Operator Overloading\n",
    "* ## Method Overloading\n",
    "* ## Method Overriding"
   ]
  },
  {
   "cell_type": "markdown",
   "id": "28a13ba2",
   "metadata": {},
   "source": [
    "# Duck Typing\n",
    "\n",
    "## In Python we follow a principle :-\n",
    "### if it walks like a duck, and it quacks like a duck, then it is probably be a duck."
   ]
  },
  {
   "cell_type": "markdown",
   "id": "6372a000",
   "metadata": {},
   "source": [
    "# Example 1"
   ]
  },
  {
   "cell_type": "code",
   "execution_count": 3,
   "id": "f8d917e7",
   "metadata": {},
   "outputs": [
    {
     "name": "stdout",
     "output_type": "stream",
     "text": [
      "Meow Meow\n",
      "BOW BOW\n"
     ]
    }
   ],
   "source": [
    "class Cat:\n",
    "    \n",
    "    def speek(self):\n",
    "        print(\"Meow Meow\")\n",
    "    \n",
    "        \n",
    "class Dog:\n",
    "    \n",
    "    def speek(self):\n",
    "        print(\"BOW BOW\")\n",
    "        \n",
    "def function(obj):\n",
    "    obj.speek()\n",
    "    \n",
    "c = Cat()\n",
    "function(c)\n",
    "\n",
    "d = Dog()\n",
    "function(d)"
   ]
  },
  {
   "cell_type": "markdown",
   "id": "8c80d21d",
   "metadata": {},
   "source": [
    "# Python don’t actually know if the object is a duck\n",
    "\n",
    "# Example 2\n",
    "## lets replaced the objects"
   ]
  },
  {
   "cell_type": "code",
   "execution_count": 6,
   "id": "c0240da0",
   "metadata": {},
   "outputs": [
    {
     "name": "stdout",
     "output_type": "stream",
     "text": [
      "BOW BOW\n",
      "Meow Meow\n"
     ]
    }
   ],
   "source": [
    "class Cat:\n",
    "    \n",
    "    def speek(self):\n",
    "        print(\"Meow Meow\")\n",
    "    \n",
    "        \n",
    "class Dog:\n",
    "    \n",
    "    def speek(self):\n",
    "        print(\"BOW BOW\")\n",
    "        \n",
    "def function(obj):\n",
    "    obj.speek()\n",
    "\n",
    "# Cat Object\n",
    "cat = Dog()\n",
    "function(cat)\n",
    "\n",
    "\n",
    "# Dog Object\n",
    "dog = Cat()\n",
    "function(dog)"
   ]
  },
  {
   "cell_type": "markdown",
   "id": "be537b8e",
   "metadata": {},
   "source": [
    "# Strong Typing\n",
    "\n",
    "## Generally, a strongly typed language has stricter typing rules at compile time, which implies that errors and exceptions are more likely to happen during compilation. \n"
   ]
  },
  {
   "cell_type": "code",
   "execution_count": 9,
   "id": "9c8930b2",
   "metadata": {},
   "outputs": [
    {
     "ename": "AttributeError",
     "evalue": "'Birds' object has no attribute 'walk'",
     "output_type": "error",
     "traceback": [
      "\u001b[0;31m---------------------------------------------------------------------------\u001b[0m",
      "\u001b[0;31mAttributeError\u001b[0m                            Traceback (most recent call last)",
      "Input \u001b[0;32mIn [9]\u001b[0m, in \u001b[0;36m<cell line: 17>\u001b[0;34m()\u001b[0m\n\u001b[1;32m     14\u001b[0m     obj\u001b[38;5;241m.\u001b[39mwalk()\n\u001b[1;32m     16\u001b[0m bird \u001b[38;5;241m=\u001b[39m Birds()\n\u001b[0;32m---> 17\u001b[0m \u001b[43mfunction\u001b[49m\u001b[43m(\u001b[49m\u001b[43mbird\u001b[49m\u001b[43m)\u001b[49m\n",
      "Input \u001b[0;32mIn [9]\u001b[0m, in \u001b[0;36mfunction\u001b[0;34m(obj)\u001b[0m\n\u001b[1;32m     13\u001b[0m \u001b[38;5;28;01mdef\u001b[39;00m \u001b[38;5;21mfunction\u001b[39m(obj):\n\u001b[0;32m---> 14\u001b[0m     \u001b[43mobj\u001b[49m\u001b[38;5;241;43m.\u001b[39;49m\u001b[43mwalk\u001b[49m()\n",
      "\u001b[0;31mAttributeError\u001b[0m: 'Birds' object has no attribute 'walk'"
     ]
    }
   ],
   "source": [
    "class Cat:\n",
    "    \n",
    "    def walk(self):\n",
    "        print(\"cats are walking\")\n",
    "        \n",
    "        \n",
    "class Birds:\n",
    "    \n",
    "    def fly(self):\n",
    "        print(\"Birds are Flying\")\n",
    "        \n",
    "        \n",
    "def function(obj):\n",
    "    obj.walk()\n",
    "    \n",
    "bird = Birds()\n",
    "function(bird)"
   ]
  },
  {
   "cell_type": "markdown",
   "id": "09e5f496",
   "metadata": {},
   "source": [
    "## We can Check whether the object passed to th method has the method being invoked or not.\n",
    "\n",
    "## hasattr() Function is used to check whether the object has a method or Not\n",
    "\n",
    "\n",
    "# Syntax :- hasattr(object,attribute)\n",
    "\n",
    "## Where attribute can be method or variable . if it is found in the object then this method return True/False"
   ]
  },
  {
   "cell_type": "code",
   "execution_count": 12,
   "id": "df970b48",
   "metadata": {},
   "outputs": [],
   "source": [
    "class Cat:\n",
    "    \n",
    "    def walk(self):\n",
    "        print(\"cats are walking\")\n",
    "        \n",
    "        \n",
    "class Birds:\n",
    "    \n",
    "    def fly(self):\n",
    "        print(\"Birds are Flying\")\n",
    "        \n",
    "        \n",
    "def function(obj):\n",
    "    if hasattr(obj,'walk'):\n",
    "        obj.walk()\n",
    "    else:\n",
    "        print(\"Walk Functionality are Not Found ...\")\n",
    "\n"
   ]
  },
  {
   "cell_type": "code",
   "execution_count": 13,
   "id": "442dc032",
   "metadata": {},
   "outputs": [
    {
     "name": "stdout",
     "output_type": "stream",
     "text": [
      "Walk Functionality are Not Found ...\n"
     ]
    }
   ],
   "source": [
    "bird = Birds()\n",
    "function(bird)"
   ]
  },
  {
   "cell_type": "code",
   "execution_count": 14,
   "id": "784b7189",
   "metadata": {},
   "outputs": [
    {
     "name": "stdout",
     "output_type": "stream",
     "text": [
      "cats are walking\n"
     ]
    }
   ],
   "source": [
    "cat = Cat()\n",
    "function(cat)"
   ]
  },
  {
   "cell_type": "markdown",
   "id": "3a14228f",
   "metadata": {},
   "source": [
    "# Methods Overloading\n",
    "\n",
    "## When more than one method with the same name is defined in the same class, it is know as method overloading\n",
    "\n",
    "## In python, if a method is writen such that it can perform more than one task , it is called method overloading"
   ]
  },
  {
   "cell_type": "code",
   "execution_count": 15,
   "id": "a544dfd3",
   "metadata": {},
   "outputs": [
    {
     "data": {
      "text/plain": [
       "3"
      ]
     },
     "execution_count": 15,
     "metadata": {},
     "output_type": "execute_result"
    }
   ],
   "source": [
    "class Cls:\n",
    "    \n",
    "    def value(self,n):\n",
    "        self.n = n\n",
    "        return n+1\n",
    "    \n",
    "    def value(self,n):\n",
    "        self.n = n\n",
    "        return n+2\n",
    "\n",
    "obj = Cls()\n",
    "obj.value(1)\n",
    "\n",
    "# here output is 3 because 2nd value method are overload"
   ]
  },
  {
   "cell_type": "markdown",
   "id": "50356daa",
   "metadata": {},
   "source": [
    "# Example 2"
   ]
  },
  {
   "cell_type": "code",
   "execution_count": 34,
   "id": "a2773690",
   "metadata": {},
   "outputs": [],
   "source": [
    "class Fun:\n",
    "    \n",
    "    def fun(self,x=None,y=None):\n",
    "        \n",
    "        if x==None and y == None:\n",
    "            print(\"Hello World\")\n",
    "        \n",
    "        elif ( type(x) == int ) and ( type(y) == int ):\n",
    "            print(x+y)\n",
    "        \n",
    "            \n",
    "obj = Fun()"
   ]
  },
  {
   "cell_type": "code",
   "execution_count": 35,
   "id": "10a0c22a",
   "metadata": {},
   "outputs": [
    {
     "name": "stdout",
     "output_type": "stream",
     "text": [
      "Hello World\n"
     ]
    }
   ],
   "source": [
    "obj.fun()"
   ]
  },
  {
   "cell_type": "code",
   "execution_count": 33,
   "id": "688ea7ca",
   "metadata": {},
   "outputs": [
    {
     "name": "stdout",
     "output_type": "stream",
     "text": [
      "4\n"
     ]
    }
   ],
   "source": [
    "obj.fun(2,2)"
   ]
  },
  {
   "cell_type": "markdown",
   "id": "06db8021",
   "metadata": {},
   "source": [
    "# Method Overriding\n",
    "\n",
    "## if we write method in the both classed, parent class and child class then the parent class's method is not avilable to the child class\n",
    "\n",
    "\n",
    "## In this case only child class's method is accessible which means child class's method is replacing parent class's method.\n",
    "\n",
    "## Method overriding is used when programmer want to modify the existing behavior of a Method"
   ]
  },
  {
   "cell_type": "code",
   "execution_count": 16,
   "id": "ec183303",
   "metadata": {},
   "outputs": [
    {
     "name": "stdout",
     "output_type": "stream",
     "text": [
      "Multiplication  6\n"
     ]
    }
   ],
   "source": [
    "class Add:\n",
    "    \n",
    "    def result(self,a,b):\n",
    "        print(\"Addition \",a+b)\n",
    "\n",
    "class Multi(Add):\n",
    "    \n",
    "    def result(self,a,b):\n",
    "        print(\"Multiplication \",a*b)\n",
    "\n",
    "obj = Multi()\n",
    "obj.result(3,2)\n",
    "\n",
    "# Here child class result method are Override"
   ]
  },
  {
   "cell_type": "markdown",
   "id": "c4155996",
   "metadata": {},
   "source": [
    "# Operator Overloading\n",
    "\n",
    "## if any operator performs additional actions other than what it is meant for , it is called operator overloading\n",
    "\n",
    "# Example"
   ]
  },
  {
   "cell_type": "code",
   "execution_count": 39,
   "id": "9eb4fd2b",
   "metadata": {},
   "outputs": [
    {
     "name": "stdout",
     "output_type": "stream",
     "text": [
      "12\n",
      "\n",
      "20\n",
      "\n",
      "5\n",
      "\n",
      "Mubeen Ahmad\n"
     ]
    }
   ],
   "source": [
    "print(10+2)\n",
    "\n",
    "# How its work at the backend ?\n",
    "\n",
    "# int.__add__(argument_1,argument_2)\n",
    "print()\n",
    "\n",
    "print(int.__add__(10,10))\n",
    "\n",
    "print()\n",
    "print(int.__sub__(10,5))\n",
    "\n",
    "print()\n",
    "print(str.__add__(\"Mubeen\",\" Ahmad\"))\n"
   ]
  },
  {
   "cell_type": "markdown",
   "id": "c495e794",
   "metadata": {},
   "source": [
    "# Create Method"
   ]
  },
  {
   "cell_type": "code",
   "execution_count": 40,
   "id": "3f13fc27",
   "metadata": {},
   "outputs": [
    {
     "ename": "TypeError",
     "evalue": "unsupported operand type(s) for +: 'Book' and 'Book'",
     "output_type": "error",
     "traceback": [
      "\u001b[0;31m---------------------------------------------------------------------------\u001b[0m",
      "\u001b[0;31mTypeError\u001b[0m                                 Traceback (most recent call last)",
      "Input \u001b[0;32mIn [40]\u001b[0m, in \u001b[0;36m<cell line: 10>\u001b[0;34m()\u001b[0m\n\u001b[1;32m      7\u001b[0m b2 \u001b[38;5;241m=\u001b[39m Book(\u001b[38;5;241m300\u001b[39m)\n\u001b[1;32m      9\u001b[0m \u001b[38;5;66;03m# add two objects\u001b[39;00m\n\u001b[0;32m---> 10\u001b[0m \u001b[38;5;28mprint\u001b[39m(\u001b[43mb1\u001b[49m\u001b[43m \u001b[49m\u001b[38;5;241;43m+\u001b[39;49m\u001b[43m \u001b[49m\u001b[43mb2\u001b[49m)\n",
      "\u001b[0;31mTypeError\u001b[0m: unsupported operand type(s) for +: 'Book' and 'Book'"
     ]
    }
   ],
   "source": [
    "class Book:\n",
    "    def __init__(self, pages):\n",
    "        self.pages = pages\n",
    "\n",
    "# creating two objects\n",
    "b1 = Book(400)\n",
    "b2 = Book(300)\n",
    "\n",
    "# add two objects\n",
    "print(b1 + b2)\n"
   ]
  },
  {
   "cell_type": "markdown",
   "id": "68827e93",
   "metadata": {},
   "source": [
    "# Operator Overloading  Addition\n",
    "# Example"
   ]
  },
  {
   "cell_type": "code",
   "execution_count": 36,
   "id": "3ef981df",
   "metadata": {},
   "outputs": [
    {
     "name": "stdout",
     "output_type": "stream",
     "text": [
      "Total number of pages:  700\n"
     ]
    }
   ],
   "source": [
    "class Book:\n",
    "    def __init__(self, pages):\n",
    "        self.pages = pages\n",
    "\n",
    "    # Overloading + operator with magic method\n",
    "    def __add__(self, other):\n",
    "        return self.pages + other.pages\n",
    "\n",
    "b1 = Book(400)\n",
    "b2 = Book(300)\n",
    "\n",
    "print(\"Total number of pages: \", b1 + b2)\n"
   ]
  },
  {
   "cell_type": "markdown",
   "id": "6fa40426",
   "metadata": {},
   "source": [
    "# Magic Methods\n",
    "\n",
    "## In Python, there are different magic methods available to perform overloading operations. \n",
    "\n",
    "## The below table shows the magic methods names to overload the mathematical operator, assignment operator, and relational operators etc\n"
   ]
  },
  {
   "cell_type": "markdown",
   "id": "fbaa795b",
   "metadata": {},
   "source": [
    "* ## Addition \t+\t__add__(self, other)\n",
    "* ## Subtraction\t-\t__sub__(self, other)\n",
    "* ## Multiplication \t*\t__mul__(self, other)\n",
    "* ## Division\t/\t__div__(self, other)\n",
    "* ## Floor Division \t//\t__floordiv__(self,other)\n",
    "* ## Modulus \t%\t__mod__(self, other)\n",
    "* ## Power \t**\t__pow__(self, other)\n",
    "* ## Increment \t+=\t__iadd__(self, other)\n",
    "* ## Decrement \t-=\t__isub__(self, other)\n",
    "* ## Product \t*=\t__imul__(self, other)\n",
    "* ## Division \t/+\t__idiv__(self, other)\n",
    "* ## Modulus \t%=\t__imod__(self, other)\n",
    "* ## Power\t**=\t__ipow__(self, other)\n",
    "* ## Less than \t<\t__lt__(self, other)\n",
    "* ## Greater than \t>\t__gt__(self, other)\n",
    "* ## Less than or equal to\t<=\t__le__(self, other)\n",
    "* ## Greater than or equal to \t>=\t__ge__(self, other)\n",
    "* ## Equal to \t==\t__eq__(self, other)\n",
    "* ## Not equal \t!=\t__ne__(self, other)"
   ]
  },
  {
   "cell_type": "code",
   "execution_count": 37,
   "id": "82001036",
   "metadata": {},
   "outputs": [
    {
     "name": "stdout",
     "output_type": "stream",
     "text": [
      "False\n"
     ]
    }
   ],
   "source": [
    "class Book:\n",
    "    \n",
    "    def __init__(self, pages):\n",
    "        self.pages = pages\n",
    "\n",
    "    # greater than >=\n",
    "    def __ge__(self, other):\n",
    "        return self.pages >= other.pages\n",
    "\n",
    "\n",
    "    \n",
    "b1 = Book(2)\n",
    "b2 = Book(4)\n",
    "\n",
    "print(b1 >= b2)\n"
   ]
  },
  {
   "cell_type": "markdown",
   "id": "f3f69bdd",
   "metadata": {},
   "source": [
    "# String Magic Methods"
   ]
  },
  {
   "cell_type": "markdown",
   "id": "1115c479",
   "metadata": {},
   "source": [
    "## `__str__(self)` \n",
    "\n",
    "### To get called by built-int str() method to return a string representation of a type. "
   ]
  },
  {
   "cell_type": "code",
   "execution_count": 49,
   "id": "654106e6",
   "metadata": {},
   "outputs": [
    {
     "name": "stdout",
     "output_type": "stream",
     "text": [
      "Welcome Mubeen\n"
     ]
    }
   ],
   "source": [
    "class my_methods:\n",
    "    \n",
    "    def __init__(self,data):\n",
    "        self.data = data\n",
    "    \n",
    "    def __str__(self):\n",
    "        return f\"Welcome {self.data}\"\n",
    "\n",
    "obj = my_methods(\"Mubeen\")\n",
    "print(obj)"
   ]
  },
  {
   "cell_type": "markdown",
   "id": "a12f0af9",
   "metadata": {},
   "source": [
    "## `__repr__(self)`\n",
    "\n",
    "## To get called by built-int repr() method to return a machine readable representation of a type. \n",
    "\n"
   ]
  },
  {
   "cell_type": "code",
   "execution_count": 54,
   "id": "f636a023",
   "metadata": {},
   "outputs": [
    {
     "name": "stdout",
     "output_type": "stream",
     "text": [
      "my_methods(Mubeen,404)\n"
     ]
    }
   ],
   "source": [
    "class my_methods:\n",
    "    \n",
    "    def __init__(self,name,id_):\n",
    "        self.name = name\n",
    "        self.id_ = id_\n",
    "    \n",
    "    def __repr__(self):\n",
    "        return f\"my_methods({self.name},{self.id_})\"\n",
    "\n",
    "obj = my_methods(\"Mubeen\",404)\n",
    "print(obj)"
   ]
  }
 ],
 "metadata": {
  "kernelspec": {
   "display_name": "Python 3 (ipykernel)",
   "language": "python",
   "name": "python3"
  },
  "language_info": {
   "codemirror_mode": {
    "name": "ipython",
    "version": 3
   },
   "file_extension": ".py",
   "mimetype": "text/x-python",
   "name": "python",
   "nbconvert_exporter": "python",
   "pygments_lexer": "ipython3",
   "version": "3.9.2"
  }
 },
 "nbformat": 4,
 "nbformat_minor": 5
}
