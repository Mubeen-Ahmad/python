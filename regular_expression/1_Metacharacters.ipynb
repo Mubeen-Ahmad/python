{
 "cells": [
  {
   "cell_type": "markdown",
   "id": "4119b967",
   "metadata": {},
   "source": [
    "# Metacharacters\n",
    "## Metacharacters are characters with a special meaning"
   ]
  },
  {
   "cell_type": "markdown",
   "id": "7257de6f",
   "metadata": {},
   "source": [
    "# [ ]\n",
    "* # A set of characters"
   ]
  },
  {
   "cell_type": "markdown",
   "id": "0c4af7e9",
   "metadata": {},
   "source": [
    "* ## Extract text from (d to f)"
   ]
  },
  {
   "cell_type": "code",
   "execution_count": 1,
   "id": "9a902448",
   "metadata": {},
   "outputs": [
    {
     "data": {
      "text/plain": [
       "['d', 'e', 'f']"
      ]
     },
     "execution_count": 1,
     "metadata": {},
     "output_type": "execute_result"
    }
   ],
   "source": [
    "import re\n",
    "txt = \"a0b1c2d3e4f5g6h7i8j9k10l\"\n",
    "re.findall(\"[d-f]\",txt)"
   ]
  },
  {
   "cell_type": "markdown",
   "id": "6291eed2",
   "metadata": {},
   "source": [
    "#  \\ \t\n",
    "* ## Signals a special sequence (can also be used to escape special characters)\n",
    "\n",
    "    * ### \\d Digits\n",
    "    * ### \\w symboles\n",
    "    * ### \\W Letters and Numbers\n",
    "    * ### etc"
   ]
  },
  {
   "cell_type": "code",
   "execution_count": 2,
   "id": "e8bbbf16",
   "metadata": {},
   "outputs": [
    {
     "name": "stdout",
     "output_type": "stream",
     "text": [
      "['0']\n",
      "['@', ' ', '.']\n",
      "['S', 'w', 'e', 'e', 't', 'e', 'r', 'r', 'o', 'r', '4', '0', '4', 'g', 'm', 'a', 'i', 'l', 'c', 'o', 'm']\n"
     ]
    }
   ],
   "source": [
    "txt = \"Hell0 World\"\n",
    "\n",
    "# FIND ALL DIGIT \n",
    "print(re.findall(\"\\d\",txt))\n",
    "\n",
    "# Find symbole\n",
    "print(re.findall(\"\\W\",\"Sweeterror404@gmai l.com\"))\n",
    "\n",
    "# FIND only letters and numbers\n",
    "print(re.findall(\"\\w\",\"Sweeterror404@gmai l.com\"))"
   ]
  },
  {
   "cell_type": "markdown",
   "id": "71a95083",
   "metadata": {},
   "source": [
    "# .\n",
    "## Any character (except newline character)"
   ]
  },
  {
   "cell_type": "code",
   "execution_count": 3,
   "id": "f2b92d62",
   "metadata": {},
   "outputs": [
    {
     "name": "stdout",
     "output_type": "stream",
     "text": [
      "['e ', 'ee']\n",
      "['e i', 'een']\n",
      "['ame', 'ube']\n"
     ]
    }
   ],
   "source": [
    "# find specfic character and after 1 character\n",
    "print(re.findall(\"e.\",\"my name is Mubeen\"))\n",
    "\n",
    "# find specfic character and after 2 characters\n",
    "print(re.findall(\"e..\",\"my name is Mubeen\"))\n",
    "\n",
    "# find specfic character and before 2 characters\n",
    "print(re.findall(\"..e\",\"my name is Mubeen\"))"
   ]
  },
  {
   "cell_type": "markdown",
   "id": "e040c0ab",
   "metadata": {},
   "source": [
    "#  ^ \t\n",
    "# Starts with"
   ]
  },
  {
   "cell_type": "code",
   "execution_count": 4,
   "id": "558f9b20",
   "metadata": {},
   "outputs": [
    {
     "name": "stdout",
     "output_type": "stream",
     "text": [
      "['Hello']\n",
      "['We']\n"
     ]
    }
   ],
   "source": [
    "# Start with Hello\n",
    "print(re.findall(\"^Hello\",\"Hello World\"))\n",
    "\n",
    "# Start with We\n",
    "print(re.findall(\"^We\",\"We are anonmyous\"))"
   ]
  },
  {
   "cell_type": "markdown",
   "id": "9b30b127",
   "metadata": {},
   "source": [
    "# $\n",
    "# Ends with"
   ]
  },
  {
   "cell_type": "code",
   "execution_count": 5,
   "id": "c79c8ca7",
   "metadata": {},
   "outputs": [
    {
     "name": "stdout",
     "output_type": "stream",
     "text": [
      "['d']\n",
      "['World']\n"
     ]
    }
   ],
   "source": [
    "# Ends with d\n",
    "print(re.findall(\"d$\",\"Hello World\"))\n",
    "\n",
    "# Ends with World\n",
    "print(re.findall(\"World$\",\"Hello World\"))"
   ]
  },
  {
   "cell_type": "markdown",
   "id": "b789c36d",
   "metadata": {},
   "source": [
    "# *\n",
    "* # Zero or more occurrences"
   ]
  },
  {
   "cell_type": "code",
   "execution_count": 30,
   "id": "7e0223b9",
   "metadata": {},
   "outputs": [
    {
     "name": "stdout",
     "output_type": "stream",
     "text": [
      "['ai', 'aii', 'a', 'aiii', 'a', 'ai']\n",
      "['', '', '', 'a', '', '', '', '', '', '', '', '', 'a', '', '', '', '', '']\n"
     ]
    }
   ],
   "source": [
    "txt = \"ai aii aaiii ia pi ai5\" \n",
    "\n",
    "# find all a \n",
    "# and with all i\n",
    "\n",
    "x = re.findall(\"ai*\", txt)\n",
    "print(x)\n"
   ]
  },
  {
   "cell_type": "markdown",
   "id": "d4fd1a20",
   "metadata": {},
   "source": [
    "# + \n",
    "* ## One or more occurrences"
   ]
  },
  {
   "cell_type": "code",
   "execution_count": 34,
   "id": "cae9b674",
   "metadata": {},
   "outputs": [
    {
     "name": "stdout",
     "output_type": "stream",
     "text": [
      "['ai', 'aii', 'aiii', 'ai']\n"
     ]
    }
   ],
   "source": [
    "txt = \"ai aii aaiii ia pi ai5\" \n",
    "\n",
    "\n",
    "# find all Single a \n",
    "# and with all i\n",
    "\n",
    "x = re.findall(\"ai+\", txt)\n",
    "print(x)\n"
   ]
  },
  {
   "cell_type": "markdown",
   "id": "a61a8620",
   "metadata": {},
   "source": [
    "# ?\n",
    "* # Zero or one occurrences"
   ]
  },
  {
   "cell_type": "code",
   "execution_count": 33,
   "id": "bad4b7bd",
   "metadata": {},
   "outputs": [
    {
     "name": "stdout",
     "output_type": "stream",
     "text": [
      "['ai', 'ai', 'a', 'ai', 'a', 'ai']\n"
     ]
    }
   ],
   "source": [
    "txt = \"ai aii aaiii ia pi ai5\" \n",
    "\n",
    "# find all a\n",
    "# and with all Single i\n",
    "\n",
    "x = re.findall(\"ai?\", txt)\n",
    "print(x)\n",
    "\n"
   ]
  },
  {
   "cell_type": "markdown",
   "id": "f282cd62",
   "metadata": {},
   "source": [
    "# { } \t\n",
    "* ## Exactly the specified number of occurrences"
   ]
  },
  {
   "cell_type": "code",
   "execution_count": 60,
   "id": "3f536b98",
   "metadata": {},
   "outputs": [
    {
     "name": "stdout",
     "output_type": "stream",
     "text": [
      "['ii', 'ii']\n",
      "['aa']\n",
      "['moon']\n"
     ]
    }
   ],
   "source": [
    "txt = \"ai aii aaiii ia pi ai5\" \n",
    "\n",
    "# Find all only 2 i\n",
    "\n",
    "x = re.findall(\"i{2}\", txt)\n",
    "print(x)\n",
    "\n",
    "# Find all only 2 a\n",
    "\n",
    "x = re.findall(\"a{2}\", txt)\n",
    "print(x)\n",
    "\n",
    "# Find moon\n",
    "s = \"moon noon noom\"\n",
    "x = re.findall(\"m.{2}n\", s)\n",
    "print(x)\n"
   ]
  },
  {
   "cell_type": "markdown",
   "id": "9ef6a9d8",
   "metadata": {},
   "source": [
    "# | \t\n",
    "* ## Either or"
   ]
  },
  {
   "cell_type": "code",
   "execution_count": 99,
   "id": "35ce05fc",
   "metadata": {},
   "outputs": [
    {
     "name": "stdout",
     "output_type": "stream",
     "text": [
      "['Happy']\n",
      "['Sad']\n"
     ]
    }
   ],
   "source": [
    "txt = \"i am Happy\"\n",
    "\n",
    "# Find Happy or Sad\n",
    "x = re.findall(\"Happy|Sad\", txt)\n",
    "print(x)\n",
    "\n",
    "txt = \"i am Sad\"\n",
    "# Find Happy or Sad\n",
    "x = re.findall(\"Happy|Sad\", txt)\n",
    "print(x)"
   ]
  },
  {
   "cell_type": "markdown",
   "id": "262bf813",
   "metadata": {},
   "source": [
    "# ( ) \n",
    "* ## Capture and group"
   ]
  },
  {
   "cell_type": "code",
   "execution_count": 121,
   "id": "a5893165",
   "metadata": {},
   "outputs": [
    {
     "name": "stdout",
     "output_type": "stream",
     "text": [
      "['iii']\n",
      "['ai', 'ai', 'ai', 'ai']\n"
     ]
    }
   ],
   "source": [
    "txt = \"ai aii aaiii ia pi ai5\" \n",
    "\n",
    "# Find all group of 3 i\n",
    "x = re.findall(\"(iii)\", txt)\n",
    "print(x)\n",
    "\n",
    "# Find all group of  ai\n",
    "x = re.findall(\"(ai)\", txt)\n",
    "print(x)"
   ]
  }
 ],
 "metadata": {
  "kernelspec": {
   "display_name": "Python 3 (ipykernel)",
   "language": "python",
   "name": "python3"
  },
  "language_info": {
   "codemirror_mode": {
    "name": "ipython",
    "version": 3
   },
   "file_extension": ".py",
   "mimetype": "text/x-python",
   "name": "python",
   "nbconvert_exporter": "python",
   "pygments_lexer": "ipython3",
   "version": "3.9.2"
  }
 },
 "nbformat": 4,
 "nbformat_minor": 5
}
