{
 "cells": [
  {
   "cell_type": "markdown",
   "id": "baa35447",
   "metadata": {},
   "source": [
    "# Special Sequences\n",
    "\n",
    "* ## A special sequence is a \\ followed by one of the characters in the list below, and has a special meaning:"
   ]
  },
  {
   "cell_type": "markdown",
   "id": "e44e36d2",
   "metadata": {},
   "source": [
    "# \\A \t\n",
    "\n",
    "# Returns a match if the specified characters are at the beginning of the string"
   ]
  },
  {
   "cell_type": "code",
   "execution_count": 57,
   "id": "6dea9fc4",
   "metadata": {},
   "outputs": [
    {
     "name": "stdout",
     "output_type": "stream",
     "text": [
      "['The']\n",
      "['T']\n",
      "[]\n"
     ]
    }
   ],
   "source": [
    "import re\n",
    "\n",
    "txt = \"The rain in Spain\"\n",
    "\n",
    "# Print The if the string are start with The\n",
    "x = re.findall(\"\\AThe\",txt)\n",
    "print(x)\n",
    "\n",
    "# Print T if the string are start with T\n",
    "x = re.findall(\"\\AT\",txt)\n",
    "print(x)\n",
    "\n",
    "\n",
    "# Print rain if the string are start with rain\n",
    "x = re.findall(\"\\Arain\",txt)\n",
    "print(x)"
   ]
  },
  {
   "cell_type": "markdown",
   "id": "f755a9ee",
   "metadata": {},
   "source": [
    "# \\b\n",
    "\n",
    "## Returns a match where the specified characters are at the beginning \n",
    "## or at the end of a word \n",
    "## Note  (the \"r\" in the beginning is making sure that the string is being treated as a \"raw string\")"
   ]
  },
  {
   "cell_type": "code",
   "execution_count": 109,
   "id": "8d4df7fa",
   "metadata": {},
   "outputs": [
    {
     "name": "stdout",
     "output_type": "stream",
     "text": [
      "['Spain']\n",
      "[]\n",
      "\n",
      "\n",
      "\n",
      "['Spain']\n",
      "['pain']\n",
      "['ain', 'ain']\n"
     ]
    }
   ],
   "source": [
    "# Print Spain if the string are end with Spain\n",
    "txt = \"The rain in Spain\"\n",
    "\n",
    "# beginning \\b used for complete word  \n",
    "x = re.findall(r\"\\bSpain\",txt)\n",
    "print(x)\n",
    "\n",
    "x = re.findall(r\"\\bpain\",txt)\n",
    "print(x)\n",
    "print(\"\\n\\n\")\n",
    "\n",
    "\n",
    "\n",
    "# Ending \\b used for complete word and characters both  \n",
    "# and they are matching characters with complete string \n",
    "\n",
    "x = re.findall(r\"Spain\\b\",txt)\n",
    "print(x)\n",
    "\n",
    "\n",
    "x = re.findall(r\"pain\\b\",txt)\n",
    "print(x)\n",
    "\n",
    "\n",
    "x = re.findall(r\"ain\\b\",txt)\n",
    "print(x)"
   ]
  },
  {
   "cell_type": "markdown",
   "id": "d95e455f",
   "metadata": {},
   "source": [
    "# \\B\n",
    "\n",
    "# Returns a match where the specified characters are present, \n",
    "\n",
    "# but NOT at the beginning (or at the end) of a word"
   ]
  },
  {
   "cell_type": "raw",
   "id": "8f8c2eb2",
   "metadata": {},
   "source": []
  },
  {
   "cell_type": "code",
   "execution_count": 50,
   "id": "83a2b300",
   "metadata": {},
   "outputs": [
    {
     "name": "stdout",
     "output_type": "stream",
     "text": [
      "['pai']\n",
      "['in', 'in']\n",
      "\n",
      "\n",
      "\n",
      "['ain', 'ain']\n",
      "[]\n",
      "['in']\n"
     ]
    }
   ],
   "source": [
    "txt = \"The rain in Spain\"\n",
    "\n",
    "# pai are in Between the string \n",
    "x = re.findall(r\"\\Bpai\",txt)\n",
    "print(x)\n",
    "\n",
    "# 2 in are between but last in are the end of the string\n",
    "x = re.findall(r\"\\Bin\",txt)\n",
    "print(x)\n",
    "\n",
    "print(\"\\n\\n\")\n",
    "\n",
    "# here rain and in are in the between of the string\n",
    "x = re.findall(r\"\\Bain\",txt)\n",
    "print(x)\n",
    "\n",
    "# here rain and in are in the between but in also are the end of the string\n",
    "x = re.findall(r\"in\\B\",txt)\n",
    "print(x)\n",
    "\n",
    "\n",
    "# now here is the last character is s\n",
    "txt = \"The rain in Spains\"\n",
    "x = re.findall(r\"in\\B\",txt)\n",
    "print(x)\n",
    "\n"
   ]
  },
  {
   "cell_type": "markdown",
   "id": "6c909882",
   "metadata": {},
   "source": [
    "# \\d\n",
    "## Returns a match where the string contains digits (numbers from 0-9)"
   ]
  },
  {
   "cell_type": "code",
   "execution_count": 80,
   "id": "436f758e",
   "metadata": {},
   "outputs": [
    {
     "name": "stdout",
     "output_type": "stream",
     "text": [
      "['8', '3', '3']\n"
     ]
    }
   ],
   "source": [
    "txt = \"Mu833n\"\n",
    "\n",
    "# extract only numbers\n",
    "x = re.findall(\"\\d\",txt)\n",
    "print(x)\n"
   ]
  },
  {
   "cell_type": "markdown",
   "id": "aef9cb21",
   "metadata": {},
   "source": [
    "# \\D \t\n",
    "## Returns a match where the string DOES NOT contain digits"
   ]
  },
  {
   "cell_type": "code",
   "execution_count": 89,
   "id": "9d4d22e5",
   "metadata": {},
   "outputs": [
    {
     "name": "stdout",
     "output_type": "stream",
     "text": [
      "['M', 'u', 'n']\n",
      "['d', 'm', '*', ' ', '_']\n"
     ]
    }
   ],
   "source": [
    "txt = \"Mu833n\"\n",
    "\n",
    "# extract only letters\n",
    "x = re.findall(\"\\D\",txt)\n",
    "print(x)\n",
    "\n",
    "# extract sting and also space and symboles\n",
    "txt = \"d342m* _\"\n",
    "x = re.findall(\"\\D\",txt)\n",
    "print(x)"
   ]
  },
  {
   "cell_type": "markdown",
   "id": "3d023229",
   "metadata": {},
   "source": [
    "# \\s \n",
    "## Returns a match where the string contains a white space character"
   ]
  },
  {
   "cell_type": "code",
   "execution_count": 93,
   "id": "339699ff",
   "metadata": {},
   "outputs": [
    {
     "name": "stdout",
     "output_type": "stream",
     "text": [
      "[' ', ' ']\n"
     ]
    }
   ],
   "source": [
    "# extract only spaces\n",
    "\n",
    "txt = \"d342m* _ \"\n",
    "x = re.findall(\"\\s\",txt)\n",
    "print(x)"
   ]
  },
  {
   "cell_type": "markdown",
   "id": "146ccf36",
   "metadata": {},
   "source": [
    "# \\S \n",
    "## Returns a match where the string DOES NOT contain a white space character"
   ]
  },
  {
   "cell_type": "code",
   "execution_count": 96,
   "id": "6c81abd3",
   "metadata": {},
   "outputs": [
    {
     "name": "stdout",
     "output_type": "stream",
     "text": [
      "['d', '3', '4', '2', 'm', '*', '_']\n"
     ]
    }
   ],
   "source": [
    "# extract all character except\n",
    "\n",
    "txt = \"d342m* _ \"\n",
    "x = re.findall(\"\\S\",txt)\n",
    "print(x)"
   ]
  },
  {
   "cell_type": "markdown",
   "id": "94ddbfbc",
   "metadata": {},
   "source": [
    "# \\w \t\n",
    "## Returns a match where the string contains any word characters \n",
    "## (characters from a to Z, digits from 0-9, and the underscore _ character)"
   ]
  },
  {
   "cell_type": "code",
   "execution_count": 99,
   "id": "739ffff6",
   "metadata": {},
   "outputs": [
    {
     "name": "stdout",
     "output_type": "stream",
     "text": [
      "['A', 'z', '0', '9', '_']\n"
     ]
    }
   ],
   "source": [
    "txt = \"Az09_* +\"\n",
    "x = re.findall(\"\\w\",txt)\n",
    "print(x)"
   ]
  },
  {
   "cell_type": "markdown",
   "id": "a0e61ebd",
   "metadata": {},
   "source": [
    "# \\W \t\n",
    "## Returns a match where the string DOES NOT contain any word characters"
   ]
  },
  {
   "cell_type": "code",
   "execution_count": 101,
   "id": "e4213cf2",
   "metadata": {},
   "outputs": [
    {
     "name": "stdout",
     "output_type": "stream",
     "text": [
      "['*', ' ', '+']\n"
     ]
    }
   ],
   "source": [
    "txt = \"Az09_* +\"\n",
    "\n",
    "# only extract symboles , whitespace \n",
    "x = re.findall(\"\\W\",txt)\n",
    "print(x)"
   ]
  },
  {
   "cell_type": "markdown",
   "id": "025bbbf3",
   "metadata": {},
   "source": [
    "# \\Z \t\n",
    "## Returns a match if the specified characters are at the end of the string"
   ]
  },
  {
   "cell_type": "code",
   "execution_count": 108,
   "id": "1b7d1593",
   "metadata": {},
   "outputs": [
    {
     "name": "stdout",
     "output_type": "stream",
     "text": [
      "['en']\n"
     ]
    }
   ],
   "source": [
    "txt = \"Mubeen\"\n",
    "\n",
    "# en are the end of the string\n",
    "x = re.findall(\"en\\Z\",txt)\n",
    "print(x)"
   ]
  }
 ],
 "metadata": {
  "kernelspec": {
   "display_name": "Python 3 (ipykernel)",
   "language": "python",
   "name": "python3"
  },
  "language_info": {
   "codemirror_mode": {
    "name": "ipython",
    "version": 3
   },
   "file_extension": ".py",
   "mimetype": "text/x-python",
   "name": "python",
   "nbconvert_exporter": "python",
   "pygments_lexer": "ipython3",
   "version": "3.9.2"
  }
 },
 "nbformat": 4,
 "nbformat_minor": 5
}
